{
 "cells": [
  {
   "cell_type": "markdown",
   "metadata": {
    "colab_type": "text",
    "id": "dC7ie96ha6NM"
   },
   "source": [
    "![alt text](https://drive.google.com/uc?id=1oiujzNiZUG-G8aqWhEZ42sf4Av9eyX0C)"
   ]
  },
  {
   "cell_type": "markdown",
   "metadata": {
    "colab_type": "text",
    "id": "sk6yBqdig9gs"
   },
   "source": [
    "<h1>1. Business Problem </h1>\n",
    "\n",
    "<h2> 1.1 Problem Description </h2>\n",
    "\n",
    "<p>\n",
    "Netflix is all about connecting people to the movies they love. To help customers find those movies, they developed world-class movie recommendation system: CinematchSM. Its job is to predict whether someone will enjoy a movie based on how much they liked or disliked other movies. Netflix use those predictions to make personal movie recommendations based on each customer’s unique tastes. And while <b>Cinematch</b> is doing pretty well, it can always be made better.\n",
    "</p>\n",
    "<p>Now there are a lot of interesting alternative approaches to how Cinematch works that netflix haven’t tried. Some are described in the literature, some aren’t. We’re curious whether any of these can beat Cinematch by making better predictions. Because, frankly, if there is a much better approach it could make a big difference to our customers and our business.</p>\n",
    "<p> Credits: https://www.netflixprize.com/rules.html </p>\n",
    "        \n",
    "<h2> 1.2 Problem Statement </h2>\n",
    "\n",
    "<p>\n",
    "Netflix provided a lot of anonymous rating data, and a prediction accuracy bar that is 10% better than what Cinematch can do on the same training data set. (Accuracy is a measurement of how closely predicted ratings of movies match subsequent actual ratings.) \n",
    "</p>\n",
    "\n",
    "<h2> 1.3 Sources </h2>\n",
    "\n",
    "<ul>\n",
    "<li> https://www.netflixprize.com/rules.html</li>\n",
    "<li> https://www.kaggle.com/netflix-inc/netflix-prize-data</li>\n",
    "<li> Netflix blog: https://medium.com/netflix-techblog/netflix-recommendations-beyond-the-5-stars-part-1-55838468f429 (very nice blog)</li>\n",
    "<li>surprise library: http://surpriselib.com/ (we use many models from this library)</li>\n",
    "<li>surprise library doc: http://surprise.readthedocs.io/en/stable/getting_started.html (we use many models from this library)</li>\n",
    "<li>installing surprise: https://github.com/NicolasHug/Surprise#installation </li>\n",
    "<li> Research paper: http://courses.ischool.berkeley.edu/i290-dm/s11/SECURE/a1-koren.pdf (most of our work was inspired by this paper)</li>\n",
    "<li> SVD Decomposition : https://www.youtube.com/watch?v=P5mlg91as1c </li>\n",
    "</ul>\n",
    "\n",
    "<h2>1.4 Real world/Business Objectives and constraints  </h2>\n",
    "\n",
    "Objectives:\n",
    "1. Predict the rating that a user would give to a movie that he ahs not yet rated.\n",
    "2. Minimize the difference between predicted and actual rating (RMSE and MAPE)\n",
    "<br>\n",
    "\n",
    "Constraints:\n",
    "1. Some form of interpretability.\n",
    "\n",
    "<h1> 2. Machine Learning Problem </h1>\n",
    "\n",
    "<h2>2.1 Data </h2>\n",
    "\n",
    "<h3> 2.1.1 Data Overview </h3>\n",
    "\n",
    "<p> Get the data from : https://www.kaggle.com/netflix-inc/netflix-prize-data/data </p>\n",
    "<p> Data files : \n",
    "<ul> \n",
    "<li> combined_data_1.txt </li>\n",
    "<li> combined_data_2.txt </li>\n",
    "<li> combined_data_3.txt </li>\n",
    "<li> combined_data_4.txt </li>\n",
    "<li> movie_titles.csv </li>\n",
    "</ul>\n",
    "<pre>  \n",
    "The first line of each file [combined_data_1.txt, combined_data_2.txt, combined_data_3.txt, combined_data_4.txt] contains the movie id followed by a colon. Each subsequent line in the file corresponds to a rating from a customer and its date in the following format:\n",
    "\n",
    "CustomerID,Rating,Date\n",
    "\n",
    "MovieIDs range from 1 to 17770 sequentially.\n",
    "CustomerIDs range from 1 to 2649429, with gaps. There are 480189 users.\n",
    "Ratings are on a five star (integral) scale from 1 to 5.\n",
    "Dates have the format YYYY-MM-DD.\n",
    "</pre>\n",
    "\n",
    "<h3> 2.1.2 Example Data point </h3>\n",
    "\n",
    "<pre>\n",
    "1:\n",
    "1488844,3,2005-09-06\n",
    "822109,5,2005-05-13\n",
    "885013,4,2005-10-19\n",
    "30878,4,2005-12-26\n",
    "823519,3,2004-05-03\n",
    "893988,3,2005-11-17\n",
    "124105,4,2004-08-05\n",
    "1248029,3,2004-04-22\n",
    "1842128,4,2004-05-09\n",
    "2238063,3,2005-05-11\n",
    "1503895,4,2005-05-19\n",
    "2207774,5,2005-06-06\n",
    "2590061,3,2004-08-12\n",
    "2442,3,2004-04-14\n",
    "543865,4,2004-05-28\n",
    "1209119,4,2004-03-23\n",
    "804919,4,2004-06-10\n",
    "1086807,3,2004-12-28\n",
    "1711859,4,2005-05-08\n",
    "372233,5,2005-11-23\n",
    "1080361,3,2005-03-28\n",
    "1245640,3,2005-12-19\n",
    "558634,4,2004-12-14\n",
    "2165002,4,2004-04-06\n",
    "1181550,3,2004-02-01\n",
    "1227322,4,2004-02-06\n",
    "427928,4,2004-02-26\n",
    "814701,5,2005-09-29\n",
    "808731,4,2005-10-31\n",
    "662870,5,2005-08-24\n",
    "337541,5,2005-03-23\n",
    "786312,3,2004-11-16\n",
    "1133214,4,2004-03-07\n",
    "1537427,4,2004-03-29\n",
    "1209954,5,2005-05-09\n",
    "2381599,3,2005-09-12\n",
    "525356,2,2004-07-11\n",
    "1910569,4,2004-04-12\n",
    "2263586,4,2004-08-20\n",
    "2421815,2,2004-02-26\n",
    "1009622,1,2005-01-19\n",
    "1481961,2,2005-05-24\n",
    "401047,4,2005-06-03\n",
    "2179073,3,2004-08-29\n",
    "1434636,3,2004-05-01\n",
    "93986,5,2005-10-06\n",
    "1308744,5,2005-10-29\n",
    "2647871,4,2005-12-30\n",
    "1905581,5,2005-08-16\n",
    "2508819,3,2004-05-18\n",
    "1578279,1,2005-05-19\n",
    "1159695,4,2005-02-15\n",
    "2588432,3,2005-03-31\n",
    "2423091,3,2005-09-12\n",
    "470232,4,2004-04-08\n",
    "2148699,2,2004-06-05\n",
    "1342007,3,2004-07-16\n",
    "466135,4,2004-07-13\n",
    "2472440,3,2005-08-13\n",
    "1283744,3,2004-04-17\n",
    "1927580,4,2004-11-08\n",
    "716874,5,2005-05-06\n",
    "4326,4,2005-10-29\n",
    "</pre>\n",
    "\n",
    "<h2>2.2 Mapping the real world problem to a Machine Learning Problem </h2>\n",
    "\n",
    "<h3> 2.2.1 Type of Machine Learning Problem </h3>\n",
    "\n",
    "<pre>\n",
    "For a given movie and user we need to predict the rating would be given by him/her to the movie. \n",
    "The given problem is a Recommendation problem \n",
    "It can also seen as a Regression problem \n",
    "</pre>\n",
    "\n",
    "<h3> 2.2.2 Performance metric </h3>\n",
    "\n",
    "<ul>\n",
    "<li> Mean Absolute Percentage Error: https://en.wikipedia.org/wiki/Mean_absolute_percentage_error </li>\n",
    "<li> Root Mean Square Error: https://en.wikipedia.org/wiki/Root-mean-square_deviation </li>\n",
    "</ul>\n",
    "\n",
    "<h3> 2.2.3 Machine Learning Objective and Constraints </h3>\n",
    "\n",
    "1. Minimize RMSE.\n",
    "2. Try to provide some interpretability."
   ]
  },
  {
   "cell_type": "code",
   "execution_count": 1,
   "metadata": {
    "colab": {},
    "colab_type": "code",
    "id": "2j88uM9cTquE"
   },
   "outputs": [],
   "source": [
    "# this is just to know how much time will it take to run this entire ipython notebook \n",
    "from datetime import datetime\n",
    "# globalstart = datetime.now()\n",
    "import pandas as pd\n",
    "import numpy as np\n",
    "import matplotlib.pyplot as plt\n",
    "plt.rcParams.update({'figure.max_open_warning': 0})\n",
    "\n",
    "import seaborn as sns\n",
    "sns.set_style('whitegrid')\n",
    "import os\n",
    "from scipy import sparse\n",
    "from scipy.sparse import csr_matrix\n",
    "\n",
    "from sklearn.decomposition import TruncatedSVD\n",
    "from sklearn.metrics.pairwise import cosine_similarity\n",
    "import random"
   ]
  },
  {
   "cell_type": "code",
   "execution_count": 0,
   "metadata": {
    "colab": {},
    "colab_type": "code",
    "id": "vXpU_bVXT4sE"
   },
   "outputs": [],
   "source": [
    "!pip install -U -q PyDrive\n",
    "from pydrive.auth import GoogleAuth\n",
    "from pydrive.drive import GoogleDrive\n",
    "from google.colab import auth\n",
    "from oauth2client.client import GoogleCredentials"
   ]
  },
  {
   "cell_type": "code",
   "execution_count": 3,
   "metadata": {
    "colab": {
     "base_uri": "https://localhost:8080/",
     "height": 153
    },
    "colab_type": "code",
    "executionInfo": {
     "elapsed": 70926,
     "status": "ok",
     "timestamp": 1575617745668,
     "user": {
      "displayName": "Bharat Kumar",
      "photoUrl": "",
      "userId": "11978287233199522831"
     },
     "user_tz": -330
    },
    "id": "I8YPT5lRUHbA",
    "outputId": "661328dd-8591-4475-acdd-e2af6141d612"
   },
   "outputs": [
    {
     "name": "stdout",
     "output_type": "stream",
     "text": [
      "WARNING:tensorflow:\n",
      "The TensorFlow contrib module will not be included in TensorFlow 2.0.\n",
      "For more information, please see:\n",
      "  * https://github.com/tensorflow/community/blob/master/rfcs/20180907-contrib-sunset.md\n",
      "  * https://github.com/tensorflow/addons\n",
      "  * https://github.com/tensorflow/io (for I/O related ops)\n",
      "If you depend on functionality not listed there, please file an issue.\n",
      "\n"
     ]
    }
   ],
   "source": [
    "auth.authenticate_user()\n",
    "gauth = GoogleAuth()\n",
    "gauth.credentials = GoogleCredentials.get_application_default()\n",
    "drive = GoogleDrive(gauth)"
   ]
  },
  {
   "cell_type": "code",
   "execution_count": 0,
   "metadata": {
    "colab": {},
    "colab_type": "code",
    "id": "rAYMf9cgUupG"
   },
   "outputs": [],
   "source": [
    "downloaded = drive.CreateFile({'id':'1ILIaNy-Pi-O0cnhvfoR05HgzTqFPRKAu'}) # replace the id with id of file you want to access\n",
    "downloaded.GetContentFile('data.csv')\n",
    "downloaded = drive.CreateFile({'id':'1Nlm9r0SOpiGOy9LwE9Kk6p5YyS7V11vy'}) # replace the id with id of file you want to access\n",
    "downloaded.GetContentFile('combined_data_1.txt')"
   ]
  },
  {
   "cell_type": "code",
   "execution_count": 0,
   "metadata": {
    "colab": {},
    "colab_type": "code",
    "id": "No9fCW0uVbSC"
   },
   "outputs": [],
   "source": [
    "downloaded = drive.CreateFile({'id':'1QR0XHvcCu3tnNWtAkXde2Gij2ZrdVvE4'}) # replace the id with id of file you want to access\n",
    "downloaded.GetContentFile('combined_data_2.txt')\n",
    "downloaded = drive.CreateFile({'id':'1tFK6vE_0n5wteDsmiqkZnV1h7p2-eE_y'}) # replace the id with id of file you want to access\n",
    "downloaded.GetContentFile('combined_data_3.txt')\n",
    "downloaded = drive.CreateFile({'id':'1Pr8R79AKuNhN48Q3wByo-EZcmEmlNhL-'}) # replace the id with id of file you want to access\n",
    "downloaded.GetContentFile('combined_data_4.txt')"
   ]
  },
  {
   "cell_type": "markdown",
   "metadata": {
    "colab_type": "text",
    "id": "ApFLpi22hqIu"
   },
   "source": [
    "<h1> 3. Exploratory Data Analysis </h1>\n",
    "\n",
    "<h2> 3.1 Preprocessing</h2> \n",
    "\n",
    "<h3>3.1.1 Converting / Merging whole data to required format: u_i, m_j, r_ij</h3>"
   ]
  },
  {
   "cell_type": "code",
   "execution_count": 2,
   "metadata": {
    "colab": {
     "base_uri": "https://localhost:8080/",
     "height": 34
    },
    "colab_type": "code",
    "executionInfo": {
     "elapsed": 191027,
     "status": "ok",
     "timestamp": 1575617865989,
     "user": {
      "displayName": "Bharat Kumar",
      "photoUrl": "",
      "userId": "11978287233199522831"
     },
     "user_tz": -330
    },
    "id": "SQcxvp_GUXmy",
    "outputId": "ff02f59c-32dc-4413-c524-7f966a48d14d"
   },
   "outputs": [
    {
     "name": "stdout",
     "output_type": "stream",
     "text": [
      "Time taken : 0:00:00.000752\n"
     ]
    }
   ],
   "source": [
    "start = datetime.now()\n",
    "if not os.path.isfile('data.csv'):\n",
    "    # Create a file 'data.csv' before reading it\n",
    "    # Read all the files in netflix and store them in one big file('data.csv')\n",
    "    # We re reading from each of the four files and appendig each rating to a global file 'train.csv'\n",
    "    data = open('data.csv', mode='w')\n",
    "    \n",
    "    row = list()\n",
    "    files=['combined_data_1.txt','combined_data_2.txt', \n",
    "           'combined_data_3.txt', 'combined_data_4.txt']\n",
    "    for file in files:\n",
    "        print(\"Reading ratings from {}...\".format(file))\n",
    "        with open(file) as f:\n",
    "            for line in f: \n",
    "                del row[:] # you don't have to do this.\n",
    "                line = line.strip()\n",
    "                if line.endswith(':'):\n",
    "                    # All below are ratings for this movie, until another movie appears.\n",
    "                    movie_id = line.replace(':', '')\n",
    "                else:\n",
    "                    row = [x for x in line.split(',')]\n",
    "                    row.insert(0, movie_id)\n",
    "                    data.write(','.join(row))\n",
    "                    data.write('\\n')\n",
    "        print(\"Done.\\n\")\n",
    "    data.close()\n",
    "print('Time taken :', datetime.now() - start)"
   ]
  },
  {
   "cell_type": "code",
   "execution_count": 3,
   "metadata": {
    "colab": {
     "base_uri": "https://localhost:8080/",
     "height": 51
    },
    "colab_type": "code",
    "executionInfo": {
     "elapsed": 299517,
     "status": "ok",
     "timestamp": 1575617974844,
     "user": {
      "displayName": "Bharat Kumar",
      "photoUrl": "",
      "userId": "11978287233199522831"
     },
     "user_tz": -330
    },
    "id": "Db4YXfxrW22s",
    "outputId": "e9e7566e-0a95-46a2-844e-d8130e161c14"
   },
   "outputs": [
    {
     "name": "stdout",
     "output_type": "stream",
     "text": [
      "Sorting dataframe by Date:...\n",
      "Done sorting.\n"
     ]
    }
   ],
   "source": [
    "df = pd.read_csv('data.csv', names= ['movie', 'user', 'rating', 'date'])\n",
    "df['date']= pd.to_datetime(df['date'])\n",
    "\n",
    "print('Sorting dataframe by Date:...')\n",
    "df.sort_values('date', inplace= True)\n",
    "print('Done sorting.')"
   ]
  },
  {
   "cell_type": "code",
   "execution_count": 4,
   "metadata": {
    "colab": {
     "base_uri": "https://localhost:8080/",
     "height": 204
    },
    "colab_type": "code",
    "executionInfo": {
     "elapsed": 299073,
     "status": "ok",
     "timestamp": 1575617974857,
     "user": {
      "displayName": "Bharat Kumar",
      "photoUrl": "",
      "userId": "11978287233199522831"
     },
     "user_tz": -330
    },
    "id": "T2-25tRohyRk",
    "outputId": "241b048b-8529-417f-a87d-0af913bf15d7"
   },
   "outputs": [
    {
     "data": {
      "text/html": [
       "<div>\n",
       "<style scoped>\n",
       "    .dataframe tbody tr th:only-of-type {\n",
       "        vertical-align: middle;\n",
       "    }\n",
       "\n",
       "    .dataframe tbody tr th {\n",
       "        vertical-align: top;\n",
       "    }\n",
       "\n",
       "    .dataframe thead th {\n",
       "        text-align: right;\n",
       "    }\n",
       "</style>\n",
       "<table border=\"1\" class=\"dataframe\">\n",
       "  <thead>\n",
       "    <tr style=\"text-align: right;\">\n",
       "      <th></th>\n",
       "      <th>movie</th>\n",
       "      <th>user</th>\n",
       "      <th>rating</th>\n",
       "      <th>date</th>\n",
       "    </tr>\n",
       "  </thead>\n",
       "  <tbody>\n",
       "    <tr>\n",
       "      <th>56431994</th>\n",
       "      <td>10341</td>\n",
       "      <td>510180</td>\n",
       "      <td>4</td>\n",
       "      <td>1999-11-11</td>\n",
       "    </tr>\n",
       "    <tr>\n",
       "      <th>9056171</th>\n",
       "      <td>1798</td>\n",
       "      <td>510180</td>\n",
       "      <td>5</td>\n",
       "      <td>1999-11-11</td>\n",
       "    </tr>\n",
       "    <tr>\n",
       "      <th>58698779</th>\n",
       "      <td>10774</td>\n",
       "      <td>510180</td>\n",
       "      <td>3</td>\n",
       "      <td>1999-11-11</td>\n",
       "    </tr>\n",
       "    <tr>\n",
       "      <th>48101611</th>\n",
       "      <td>8651</td>\n",
       "      <td>510180</td>\n",
       "      <td>2</td>\n",
       "      <td>1999-11-11</td>\n",
       "    </tr>\n",
       "    <tr>\n",
       "      <th>81893208</th>\n",
       "      <td>14660</td>\n",
       "      <td>510180</td>\n",
       "      <td>2</td>\n",
       "      <td>1999-11-11</td>\n",
       "    </tr>\n",
       "  </tbody>\n",
       "</table>\n",
       "</div>"
      ],
      "text/plain": [
       "          movie    user  rating       date\n",
       "56431994  10341  510180       4 1999-11-11\n",
       "9056171    1798  510180       5 1999-11-11\n",
       "58698779  10774  510180       3 1999-11-11\n",
       "48101611   8651  510180       2 1999-11-11\n",
       "81893208  14660  510180       2 1999-11-11"
      ]
     },
     "execution_count": 4,
     "metadata": {},
     "output_type": "execute_result"
    }
   ],
   "source": [
    "df.head()"
   ]
  },
  {
   "cell_type": "code",
   "execution_count": 5,
   "metadata": {
    "colab": {
     "base_uri": "https://localhost:8080/",
     "height": 34
    },
    "colab_type": "code",
    "executionInfo": {
     "elapsed": 298699,
     "status": "ok",
     "timestamp": 1575617974860,
     "user": {
      "displayName": "Bharat Kumar",
      "photoUrl": "",
      "userId": "11978287233199522831"
     },
     "user_tz": -330
    },
    "id": "Qu10LnJGh3Ri",
    "outputId": "09259387-770c-4aea-b816-648346bf421e"
   },
   "outputs": [
    {
     "data": {
      "text/plain": [
       "(100480507, 4)"
      ]
     },
     "execution_count": 5,
     "metadata": {},
     "output_type": "execute_result"
    }
   ],
   "source": [
    "df.shape"
   ]
  },
  {
   "cell_type": "code",
   "execution_count": 6,
   "metadata": {
    "colab": {
     "base_uri": "https://localhost:8080/",
     "height": 170
    },
    "colab_type": "code",
    "executionInfo": {
     "elapsed": 301007,
     "status": "ok",
     "timestamp": 1575617977317,
     "user": {
      "displayName": "Bharat Kumar",
      "photoUrl": "",
      "userId": "11978287233199522831"
     },
     "user_tz": -330
    },
    "id": "eb8SCh8nh6VQ",
    "outputId": "21d38a10-c45d-44ec-80d0-3be9f68cf7b0"
   },
   "outputs": [
    {
     "data": {
      "text/plain": [
       "count    1.004805e+08\n",
       "mean     3.604290e+00\n",
       "std      1.085219e+00\n",
       "min      1.000000e+00\n",
       "25%      3.000000e+00\n",
       "50%      4.000000e+00\n",
       "75%      4.000000e+00\n",
       "max      5.000000e+00\n",
       "Name: rating, dtype: float64"
      ]
     },
     "execution_count": 6,
     "metadata": {},
     "output_type": "execute_result"
    }
   ],
   "source": [
    "df['rating'].describe()"
   ]
  },
  {
   "cell_type": "markdown",
   "metadata": {
    "colab_type": "text",
    "id": "08250ZAqh-me"
   },
   "source": [
    "<h3>3.1.2 Checking for NaN values </h3>"
   ]
  },
  {
   "cell_type": "code",
   "execution_count": 7,
   "metadata": {
    "colab": {
     "base_uri": "https://localhost:8080/",
     "height": 102
    },
    "colab_type": "code",
    "executionInfo": {
     "elapsed": 302833,
     "status": "ok",
     "timestamp": 1575617979311,
     "user": {
      "displayName": "Bharat Kumar",
      "photoUrl": "",
      "userId": "11978287233199522831"
     },
     "user_tz": -330
    },
    "id": "r9adF-Onh95-",
    "outputId": "bba85356-6627-4b3c-e596-575b33c1c3e1"
   },
   "outputs": [
    {
     "data": {
      "text/plain": [
       "movie     False\n",
       "user      False\n",
       "rating    False\n",
       "date      False\n",
       "dtype: bool"
      ]
     },
     "execution_count": 7,
     "metadata": {},
     "output_type": "execute_result"
    }
   ],
   "source": [
    "# https://chartio.com/resources/tutorials/how-to-check-if-any-value-is-nan-in-a-pandas-dataframe/\n",
    "df.isnull().any()"
   ]
  },
  {
   "cell_type": "markdown",
   "metadata": {
    "colab_type": "text",
    "id": "9011duddiIpu"
   },
   "source": [
    "<h3>3.1.3 Removing Duplicates </h3>"
   ]
  },
  {
   "cell_type": "code",
   "execution_count": 8,
   "metadata": {
    "colab": {
     "base_uri": "https://localhost:8080/",
     "height": 34
    },
    "colab_type": "code",
    "executionInfo": {
     "elapsed": 327638,
     "status": "ok",
     "timestamp": 1575618004258,
     "user": {
      "displayName": "Bharat Kumar",
      "photoUrl": "",
      "userId": "11978287233199522831"
     },
     "user_tz": -330
    },
    "id": "ktvN1fFXiLgw",
    "outputId": "5673faeb-0a98-4011-dc44-cacf8e1e3266"
   },
   "outputs": [
    {
     "data": {
      "text/plain": [
       "False"
      ]
     },
     "execution_count": 8,
     "metadata": {},
     "output_type": "execute_result"
    }
   ],
   "source": [
    "df.duplicated().any()"
   ]
  },
  {
   "cell_type": "markdown",
   "metadata": {
    "colab_type": "text",
    "id": "-z6rOaxViOw2"
   },
   "source": [
    " <h3>3.1.4 Basic Statistics (#Ratings, #Users, and #Movies)</h3>"
   ]
  },
  {
   "cell_type": "code",
   "execution_count": 9,
   "metadata": {
    "colab": {
     "base_uri": "https://localhost:8080/",
     "height": 68
    },
    "colab_type": "code",
    "executionInfo": {
     "elapsed": 328717,
     "status": "ok",
     "timestamp": 1575618005834,
     "user": {
      "displayName": "Bharat Kumar",
      "photoUrl": "",
      "userId": "11978287233199522831"
     },
     "user_tz": -330
    },
    "id": "WqO1VO8YiRwo",
    "outputId": "213518b6-dbe8-43fc-ca12-7b47a38b8355"
   },
   "outputs": [
    {
     "name": "stdout",
     "output_type": "stream",
     "text": [
      "The total number of ratings:  100480507\n",
      "Total number of users:  480189\n",
      "Total number of movies:  17770\n"
     ]
    }
   ],
   "source": [
    "print('The total number of ratings: ', df['rating'].count())\n",
    "print('Total number of users: ', len(df['user'].unique()))\n",
    "print('Total number of movies: ', len(df['movie'].unique()))"
   ]
  },
  {
   "cell_type": "markdown",
   "metadata": {
    "colab_type": "text",
    "id": "Ons2HfZMiUow"
   },
   "source": [
    "<h2>3.2 Spliting data into Train and Test(80:20) </h2>"
   ]
  },
  {
   "cell_type": "code",
   "execution_count": 0,
   "metadata": {
    "colab": {},
    "colab_type": "code",
    "id": "XsknY5U-iXx8"
   },
   "outputs": [],
   "source": [
    "downloaded = drive.CreateFile({'id':'1vr1-A8GJ24CP0us553LrQ4pkwZdTwIzn'}) # replace the id with id of file you want to access\n",
    "downloaded.GetContentFile('train.csv')\n",
    "downloaded = drive.CreateFile({'id':'1IaVRHSLBiO4OLSWZp-oILE4SFFN45ubC'}) # replace the id with id of file you want to access\n",
    "downloaded.GetContentFile('test.csv')"
   ]
  },
  {
   "cell_type": "code",
   "execution_count": 10,
   "metadata": {
    "colab": {},
    "colab_type": "code",
    "id": "YY8QnBPYi9iu"
   },
   "outputs": [],
   "source": [
    "if not os.path.isfile('train.csv'):\n",
    "    # create the dataframe and store it in the disk for offline purposes..\n",
    "    df.iloc[:int(df.shape[0]*0.80)].to_csv(\"train.csv\", index=False)\n",
    "\n",
    "if not os.path.isfile('test.csv'):\n",
    "    # create the dataframe and store it in the disk for offline purposes..\n",
    "    df.iloc[int(df.shape[0]*0.80):].to_csv(\"test.csv\", index=False)\n",
    "\n",
    "train_df = pd.read_csv(\"train.csv\", parse_dates=['date'])\n",
    "test_df = pd.read_csv(\"test.csv\")"
   ]
  },
  {
   "cell_type": "markdown",
   "metadata": {
    "colab_type": "text",
    "id": "4qgwGABGld64"
   },
   "source": [
    "<h3>3.2.1 Basic Statistics in Train data, Test Data (#Ratings, #Users, and #Movies)</h3>"
   ]
  },
  {
   "cell_type": "code",
   "execution_count": 16,
   "metadata": {
    "colab": {
     "base_uri": "https://localhost:8080/",
     "height": 170
    },
    "colab_type": "code",
    "executionInfo": {
     "elapsed": 431406,
     "status": "ok",
     "timestamp": 1575618108828,
     "user": {
      "displayName": "Bharat Kumar",
      "photoUrl": "",
      "userId": "11978287233199522831"
     },
     "user_tz": -330
    },
    "id": "c4TnOkmjlNna",
    "outputId": "20498b7c-33dd-4208-c347-220b0509b00f"
   },
   "outputs": [
    {
     "name": "stdout",
     "output_type": "stream",
     "text": [
      "Train data:-\n",
      "The total number of ratings:  80384405\n",
      "Total number of users:  405041\n",
      "Total number of movies:  17424\n",
      "**************************************************\n",
      "Test data:-\n",
      "The total number of ratings:  20096102\n",
      "Total number of users:  349312\n",
      "Total number of movies:  17757\n"
     ]
    }
   ],
   "source": [
    "print('Train data:-')\n",
    "print('The total number of ratings: ', train_df['rating'].count())\n",
    "print('Total number of users: ', len(train_df['user'].unique()))\n",
    "print('Total number of movies: ', len(train_df['movie'].unique()))\n",
    "print('*'*50)\n",
    "print('Test data:-')\n",
    "print('The total number of ratings: ', test_df['rating'].count())\n",
    "print('Total number of users: ', len(test_df['user'].unique()))\n",
    "print('Total number of movies: ', len(test_df['movie'].unique()))"
   ]
  },
  {
   "cell_type": "markdown",
   "metadata": {
    "colab_type": "text",
    "id": "1KC1NsWCllm-"
   },
   "source": [
    " <h2> 3.3 Exploratory Data Analysis on Train data </h2>"
   ]
  },
  {
   "cell_type": "code",
   "execution_count": 11,
   "metadata": {
    "colab": {},
    "colab_type": "code",
    "id": "nLMvMz8IkxXl"
   },
   "outputs": [],
   "source": [
    "# method to make y-axis more readable\n",
    "def human(num, units = 'M'):\n",
    "    units = units.lower()\n",
    "    num = float(num)\n",
    "    if units == 'k':\n",
    "        return str(num/10**3) + \" K\"\n",
    "    elif units == 'm':\n",
    "        return str(num/10**6) + \" M\"\n",
    "    elif units == 'b':\n",
    "        return str(num/10**9) +  \" B\""
   ]
  },
  {
   "cell_type": "markdown",
   "metadata": {
    "colab_type": "text",
    "id": "67-dK29blpT2"
   },
   "source": [
    "<h3> 3.3.1 Distribution of ratings </h3>"
   ]
  },
  {
   "cell_type": "code",
   "execution_count": 12,
   "metadata": {
    "colab": {
     "base_uri": "https://localhost:8080/",
     "height": 312
    },
    "colab_type": "code",
    "executionInfo": {
     "elapsed": 7110,
     "status": "ok",
     "timestamp": 1575625146092,
     "user": {
      "displayName": "Bharat Kumar",
      "photoUrl": "",
      "userId": "11978287233199522831"
     },
     "user_tz": -330
    },
    "id": "yTcUw9fYk4gT",
    "outputId": "70977677-f8c4-4370-e7c7-101e5eae8389"
   },
   "outputs": [
    {
     "name": "stderr",
     "output_type": "stream",
     "text": [
      "No handles with labels found to put in legend.\n"
     ]
    },
    {
     "data": {
      "image/png": "[encoded data removed]",
      "text/plain": [
       "<Figure size 432x288 with 1 Axes>"
      ]
     },
     "metadata": {
      "needs_background": "light"
     },
     "output_type": "display_data"
    }
   ],
   "source": [
    "sns.countplot(data= train_df, x='rating')\n",
    "plt.title('Train data Ratings')\n",
    "plt.ylabel('Ratings in Millions')\n",
    "sns.set_style('whitegrid')\n",
    "plt.legend()\n",
    "plt.show()"
   ]
  },
  {
   "cell_type": "markdown",
   "metadata": {
    "colab_type": "text",
    "id": "ZRo3uqVAlxMA"
   },
   "source": [
    "<p style=\"font-size:13px\"> <b>Add new column (week day) to the data set  for analysis.</b></p>"
   ]
  },
  {
   "cell_type": "code",
   "execution_count": 13,
   "metadata": {
    "colab": {
     "base_uri": "https://localhost:8080/",
     "height": 204
    },
    "colab_type": "code",
    "executionInfo": {
     "elapsed": 25506,
     "status": "ok",
     "timestamp": 1575625196286,
     "user": {
      "displayName": "Bharat Kumar",
      "photoUrl": "",
      "userId": "11978287233199522831"
     },
     "user_tz": -330
    },
    "id": "fo7rXX1zlAik",
    "outputId": "628c9e59-4777-4cb9-f3a3-c4683e28d6c0"
   },
   "outputs": [
    {
     "data": {
      "text/html": [
       "<div>\n",
       "<style scoped>\n",
       "    .dataframe tbody tr th:only-of-type {\n",
       "        vertical-align: middle;\n",
       "    }\n",
       "\n",
       "    .dataframe tbody tr th {\n",
       "        vertical-align: top;\n",
       "    }\n",
       "\n",
       "    .dataframe thead th {\n",
       "        text-align: right;\n",
       "    }\n",
       "</style>\n",
       "<table border=\"1\" class=\"dataframe\">\n",
       "  <thead>\n",
       "    <tr style=\"text-align: right;\">\n",
       "      <th></th>\n",
       "      <th>movie</th>\n",
       "      <th>user</th>\n",
       "      <th>rating</th>\n",
       "      <th>date</th>\n",
       "      <th>weekday</th>\n",
       "    </tr>\n",
       "  </thead>\n",
       "  <tbody>\n",
       "    <tr>\n",
       "      <th>0</th>\n",
       "      <td>10341</td>\n",
       "      <td>510180</td>\n",
       "      <td>4</td>\n",
       "      <td>1999-11-11</td>\n",
       "      <td>Thursday</td>\n",
       "    </tr>\n",
       "    <tr>\n",
       "      <th>1</th>\n",
       "      <td>1798</td>\n",
       "      <td>510180</td>\n",
       "      <td>5</td>\n",
       "      <td>1999-11-11</td>\n",
       "      <td>Thursday</td>\n",
       "    </tr>\n",
       "    <tr>\n",
       "      <th>2</th>\n",
       "      <td>10774</td>\n",
       "      <td>510180</td>\n",
       "      <td>3</td>\n",
       "      <td>1999-11-11</td>\n",
       "      <td>Thursday</td>\n",
       "    </tr>\n",
       "    <tr>\n",
       "      <th>3</th>\n",
       "      <td>8651</td>\n",
       "      <td>510180</td>\n",
       "      <td>2</td>\n",
       "      <td>1999-11-11</td>\n",
       "      <td>Thursday</td>\n",
       "    </tr>\n",
       "    <tr>\n",
       "      <th>4</th>\n",
       "      <td>14660</td>\n",
       "      <td>510180</td>\n",
       "      <td>2</td>\n",
       "      <td>1999-11-11</td>\n",
       "      <td>Thursday</td>\n",
       "    </tr>\n",
       "  </tbody>\n",
       "</table>\n",
       "</div>"
      ],
      "text/plain": [
       "   movie    user  rating       date   weekday\n",
       "0  10341  510180       4 1999-11-11  Thursday\n",
       "1   1798  510180       5 1999-11-11  Thursday\n",
       "2  10774  510180       3 1999-11-11  Thursday\n",
       "3   8651  510180       2 1999-11-11  Thursday\n",
       "4  14660  510180       2 1999-11-11  Thursday"
      ]
     },
     "execution_count": 13,
     "metadata": {},
     "output_type": "execute_result"
    }
   ],
   "source": [
    "# It is used to skip the warning ''SettingWithCopyWarning''.. \n",
    "pd.options.mode.chained_assignment = None  # default='warn'\n",
    "\n",
    "# return the name of the weekday series command\n",
    "train_df['weekday'] = train_df['date'].dt.weekday_name\n",
    "train_df.head()"
   ]
  },
  {
   "cell_type": "markdown",
   "metadata": {
    "colab_type": "text",
    "id": "k3S-5mRhl2bs"
   },
   "source": [
    "<h3> 3.3.2 Number of Ratings per a month </h3>"
   ]
  },
  {
   "cell_type": "code",
   "execution_count": 103,
   "metadata": {
    "colab": {
     "base_uri": "https://localhost:8080/",
     "height": 420
    },
    "colab_type": "code",
    "executionInfo": {
     "elapsed": 4349,
     "status": "ok",
     "timestamp": 1575625198220,
     "user": {
      "displayName": "Bharat Kumar",
      "photoUrl": "",
      "userId": "11978287233199522831"
     },
     "user_tz": -330
    },
    "id": "9cWyT7kGlF3C",
    "outputId": "0d96ab7a-98e0-42b6-9570-d5f4f4c18fa2"
   },
   "outputs": [
    {
     "name": "stderr",
     "output_type": "stream",
     "text": [
      "/usr/local/lib/python3.6/dist-packages/pandas/plotting/_matplotlib/converter.py:103: FutureWarning: Using an implicitly registered datetime converter for a matplotlib plotting method. The converter was registered by pandas on import. Future versions of pandas will require you to explicitly register matplotlib converters.\n",
      "\n",
      "To register the converters:\n",
      "\t>>> from pandas.plotting import register_matplotlib_converters\n",
      "\t>>> register_matplotlib_converters()\n",
      "  warnings.warn(msg, FutureWarning)\n",
      "No handles with labels found to put in legend.\n"
     ]
    },
    {
     "data": {
      "image/png": "[encoded data removed]",
      "text/plain": [
       "<Figure size 432x288 with 1 Axes>"
      ]
     },
     "metadata": {
      "tags": []
     },
     "output_type": "display_data"
    }
   ],
   "source": [
    "# https://www.geeksforgeeks.org/python-pandas-dataframe-resample/\n",
    "rpm = train_df.resample(rule= 'm', on='date')['rating'].count()\n",
    "plt.plot(rpm)\n",
    "plt.title('Number of ratings per month')\n",
    "plt.legend()\n",
    "plt.show()"
   ]
  },
  {
   "cell_type": "markdown",
   "metadata": {
    "colab_type": "text",
    "id": "au2VPaApzRjQ"
   },
   "source": [
    "<h3> 3.3.3 Analysis on the Ratings given by user </h3>"
   ]
  },
  {
   "cell_type": "code",
   "execution_count": 104,
   "metadata": {
    "colab": {
     "base_uri": "https://localhost:8080/",
     "height": 136
    },
    "colab_type": "code",
    "executionInfo": {
     "elapsed": 16605,
     "status": "ok",
     "timestamp": 1575625242000,
     "user": {
      "displayName": "Bharat Kumar",
      "photoUrl": "",
      "userId": "11978287233199522831"
     },
     "user_tz": -330
    },
    "id": "gOknlAPZlN_u",
    "outputId": "7b7c4b5c-39a2-41fa-b151-980cc379175c"
   },
   "outputs": [
    {
     "data": {
      "text/plain": [
       "user\n",
       "305344     17112\n",
       "2439493    15896\n",
       "387418     15402\n",
       "1639792     9767\n",
       "1461435     9447\n",
       "Name: rating, dtype: int64"
      ]
     },
     "execution_count": 104,
     "metadata": {
      "tags": []
     },
     "output_type": "execute_result"
    }
   ],
   "source": [
    "# highest number of ratings given by any user\n",
    "\n",
    "ratings_by_user= train_df.groupby('user').count().sort_values(by='rating', ascending= False)\n",
    "ratings_by_user['rating'].head()"
   ]
  },
  {
   "cell_type": "code",
   "execution_count": 105,
   "metadata": {
    "colab": {
     "base_uri": "https://localhost:8080/",
     "height": 298
    },
    "colab_type": "code",
    "executionInfo": {
     "elapsed": 59130,
     "status": "ok",
     "timestamp": 1575625297753,
     "user": {
      "displayName": "Bharat Kumar",
      "photoUrl": "",
      "userId": "11978287233199522831"
     },
     "user_tz": -330
    },
    "id": "MuUnb-xVlP0J",
    "outputId": "91bb7036-1379-4af7-cbe2-34b9c44f65f5"
   },
   "outputs": [
    {
     "data": {
      "text/plain": [
       "Text(0.5, 1.0, 'CDF')"
      ]
     },
     "execution_count": 105,
     "metadata": {
      "tags": []
     },
     "output_type": "execute_result"
    },
    {
     "data": {
      "image/png": "[encoded data removed]",
      "text/plain": [
       "<Figure size 432x288 with 2 Axes>"
      ]
     },
     "metadata": {
      "tags": []
     },
     "output_type": "display_data"
    }
   ],
   "source": [
    "plt.subplot(1, 2, 1)\n",
    "sns.kdeplot(ratings_by_user['rating'])\n",
    "plt.title('PDF')\n",
    "plt.subplot(1,2, 2)\n",
    "sns.kdeplot(ratings_by_user['rating'], cumulative= True)\n",
    "plt.title('CDF')"
   ]
  },
  {
   "cell_type": "code",
   "execution_count": 106,
   "metadata": {
    "colab": {
     "base_uri": "https://localhost:8080/",
     "height": 170
    },
    "colab_type": "code",
    "executionInfo": {
     "elapsed": 39111,
     "status": "ok",
     "timestamp": 1575625297757,
     "user": {
      "displayName": "Bharat Kumar",
      "photoUrl": "",
      "userId": "11978287233199522831"
     },
     "user_tz": -330
    },
    "id": "4GQrNmlKlWGH",
    "outputId": "242d97cb-98f3-4cb0-dfff-8b333512139c"
   },
   "outputs": [
    {
     "data": {
      "text/plain": [
       "count    405041.000000\n",
       "mean        198.459921\n",
       "std         290.793238\n",
       "min           1.000000\n",
       "25%          34.000000\n",
       "50%          89.000000\n",
       "75%         245.000000\n",
       "max       17112.000000\n",
       "Name: rating, dtype: float64"
      ]
     },
     "execution_count": 106,
     "metadata": {
      "tags": []
     },
     "output_type": "execute_result"
    }
   ],
   "source": [
    "ratings_by_user['rating'].describe()"
   ]
  },
  {
   "cell_type": "markdown",
   "metadata": {
    "colab_type": "text",
    "id": "lkJkzDDlzcOI"
   },
   "source": [
    "> _There,  is something interesting going on with the quantiles.._"
   ]
  },
  {
   "cell_type": "code",
   "execution_count": 107,
   "metadata": {
    "colab": {
     "base_uri": "https://localhost:8080/",
     "height": 295
    },
    "colab_type": "code",
    "executionInfo": {
     "elapsed": 16261,
     "status": "ok",
     "timestamp": 1575625297760,
     "user": {
      "displayName": "Bharat Kumar",
      "photoUrl": "",
      "userId": "11978287233199522831"
     },
     "user_tz": -330
    },
    "id": "wUPIS-Q_lbVB",
    "outputId": "ef1935de-903e-4b11-dbde-bbefbc5a0379"
   },
   "outputs": [
    {
     "data": {
      "image/png": "[encoded data removed]",
      "text/plain": [
       "<Figure size 432x288 with 1 Axes>"
      ]
     },
     "metadata": {
      "tags": []
     },
     "output_type": "display_data"
    }
   ],
   "source": [
    "quantiles= ratings_by_user['rating'].quantile(np.arange(0,1.01,0.01), interpolation='higher')\n",
    "\n",
    "plt.title(\"Quantiles and their Values\")\n",
    "plt.plot(quantiles)\n",
    "\n",
    "# quantiles with 0.05 difference => 100/5 = 20 values\n",
    "plt.scatter(x= quantiles.index[::5], y= quantiles.values[::5], c= 'orange', label= \"quantiles with 0.05 intervals\")\n",
    "\n",
    "# quantiles with 0.25 difference => 100/25 = 4 values\n",
    "plt.scatter(x= quantiles.index[::25], y= quantiles.values[::25], c= 'm', label= \"quantiles with 0.25 intervals\")\n",
    "plt.ylabel('No of ratings by user')\n",
    "plt.xlabel('Value at the quantile')\n",
    "plt.legend(loc= 'best')\n",
    "\n",
    "# annotate the 25th, 50th, 75th and 100th percentile values....\n",
    "for x,y in zip(quantiles.index[::25], quantiles[::25]):\n",
    "    plt.annotate(s= \"({} , {})\".format(x,y), xy= (x,y), xytext= (x-0.05, y+500)\n",
    "                ,fontweight= 'bold')\n",
    "plt.show()"
   ]
  },
  {
   "cell_type": "code",
   "execution_count": 108,
   "metadata": {
    "colab": {
     "base_uri": "https://localhost:8080/",
     "height": 391
    },
    "colab_type": "code",
    "executionInfo": {
     "elapsed": 1618,
     "status": "ok",
     "timestamp": 1575625313475,
     "user": {
      "displayName": "Bharat Kumar",
      "photoUrl": "",
      "userId": "11978287233199522831"
     },
     "user_tz": -330
    },
    "id": "s-IEGi4_ljKw",
    "outputId": "7169857e-d9a4-4181-e45f-c351d1d6d767"
   },
   "outputs": [
    {
     "data": {
      "text/plain": [
       "0.00        1\n",
       "0.05        7\n",
       "0.10       15\n",
       "0.15       21\n",
       "0.20       27\n",
       "0.25       34\n",
       "0.30       41\n",
       "0.35       50\n",
       "0.40       60\n",
       "0.45       73\n",
       "0.50       89\n",
       "0.55      109\n",
       "0.60      133\n",
       "0.65      163\n",
       "0.70      199\n",
       "0.75      245\n",
       "0.80      307\n",
       "0.85      392\n",
       "0.90      520\n",
       "0.95      749\n",
       "1.00    17112\n",
       "Name: rating, dtype: int64"
      ]
     },
     "execution_count": 108,
     "metadata": {
      "tags": []
     },
     "output_type": "execute_result"
    }
   ],
   "source": [
    "quantiles[::5]"
   ]
  },
  {
   "cell_type": "markdown",
   "metadata": {
    "colab_type": "text",
    "id": "jwel_Oinzq8Y"
   },
   "source": [
    "__how many ratings at the last 5% of all ratings__??"
   ]
  },
  {
   "cell_type": "code",
   "execution_count": 109,
   "metadata": {
    "colab": {
     "base_uri": "https://localhost:8080/",
     "height": 34
    },
    "colab_type": "code",
    "executionInfo": {
     "elapsed": 3633,
     "status": "ok",
     "timestamp": 1575625349725,
     "user": {
      "displayName": "Bharat Kumar",
      "photoUrl": "",
      "userId": "11978287233199522831"
     },
     "user_tz": -330
    },
    "id": "kSAXlLpilrdg",
    "outputId": "0b6a098c-a5c1-4da6-8bae-c1411c434b65"
   },
   "outputs": [
    {
     "data": {
      "text/plain": [
       "20242"
      ]
     },
     "execution_count": 109,
     "metadata": {
      "tags": []
     },
     "output_type": "execute_result"
    }
   ],
   "source": [
    "(ratings_by_user['rating']>749).sum()"
   ]
  },
  {
   "cell_type": "markdown",
   "metadata": {
    "colab_type": "text",
    "id": "EYzGuselzvrS"
   },
   "source": [
    "<h3> 3.3.4 Analysis of ratings of a movie given by a user </h3>"
   ]
  },
  {
   "cell_type": "code",
   "execution_count": 110,
   "metadata": {
    "colab": {
     "base_uri": "https://localhost:8080/",
     "height": 136
    },
    "colab_type": "code",
    "executionInfo": {
     "elapsed": 4540,
     "status": "ok",
     "timestamp": 1575625368663,
     "user": {
      "displayName": "Bharat Kumar",
      "photoUrl": "",
      "userId": "11978287233199522831"
     },
     "user_tz": -330
    },
    "id": "KOutr4M0lv3V",
    "outputId": "2d24d506-c7c7-48f5-fcc9-2c4fbcf75742"
   },
   "outputs": [
    {
     "data": {
      "text/plain": [
       "movie\n",
       "5317     179684\n",
       "15124    176811\n",
       "1905     160062\n",
       "6287     155787\n",
       "14313    153899\n",
       "Name: rating, dtype: int64"
      ]
     },
     "execution_count": 110,
     "metadata": {
      "tags": []
     },
     "output_type": "execute_result"
    }
   ],
   "source": [
    "ratings_for_movie= train_df.groupby('movie')['rating'].count().sort_values(ascending= False)\n",
    "ratings_for_movie.head()"
   ]
  },
  {
   "cell_type": "code",
   "execution_count": 111,
   "metadata": {
    "colab": {
     "base_uri": "https://localhost:8080/",
     "height": 282
    },
    "colab_type": "code",
    "executionInfo": {
     "elapsed": 2948,
     "status": "ok",
     "timestamp": 1575625380877,
     "user": {
      "displayName": "Bharat Kumar",
      "photoUrl": "",
      "userId": "11978287233199522831"
     },
     "user_tz": -330
    },
    "id": "cF3A1UbYlzeF",
    "outputId": "6b0dffbc-3a69-48c2-d599-57b61e452e8e"
   },
   "outputs": [
    {
     "data": {
      "text/plain": [
       "[<matplotlib.lines.Line2D at 0x7f6402466be0>]"
      ]
     },
     "execution_count": 111,
     "metadata": {
      "tags": []
     },
     "output_type": "execute_result"
    },
    {
     "data": {
      "image/png": "[encoded data removed]",
      "text/plain": [
       "<Figure size 432x288 with 1 Axes>"
      ]
     },
     "metadata": {
      "tags": []
     },
     "output_type": "display_data"
    }
   ],
   "source": [
    "plt.plot(ratings_for_movie.values) # if we dont provide '.values' then the output is different."
   ]
  },
  {
   "cell_type": "markdown",
   "metadata": {
    "colab_type": "text",
    "id": "Nz5dMsv9z5Pe"
   },
   "source": [
    "- __It is very skewed.. just like nunmber of ratings given per user.__\n",
    "    \n",
    "    \n",
    "    - There are some movies (which are very popular) which are rated by huge number of users.\n",
    "    \n",
    "    - But most of the movies(like 90%) got some hundereds of ratings.\n",
    "    \n",
    "<h3> 3.3.5 Number of ratings on each day of the week</h3>"
   ]
  },
  {
   "cell_type": "code",
   "execution_count": 112,
   "metadata": {
    "colab": {
     "base_uri": "https://localhost:8080/",
     "height": 170
    },
    "colab_type": "code",
    "executionInfo": {
     "elapsed": 8071,
     "status": "ok",
     "timestamp": 1575625417528,
     "user": {
      "displayName": "Bharat Kumar",
      "photoUrl": "",
      "userId": "11978287233199522831"
     },
     "user_tz": -330
    },
    "id": "zBmLjStXl621",
    "outputId": "ebdbcfa6-147b-4502-958e-36486323da53"
   },
   "outputs": [
    {
     "data": {
      "text/plain": [
       "weekday\n",
       "Friday       10703108\n",
       "Monday       13818790\n",
       "Saturday      7963290\n",
       "Sunday        8445834\n",
       "Thursday     11634550\n",
       "Tuesday      14221359\n",
       "Wednesday    13597474\n",
       "Name: rating, dtype: int64"
      ]
     },
     "execution_count": 112,
     "metadata": {
      "tags": []
     },
     "output_type": "execute_result"
    }
   ],
   "source": [
    "weekday_ratings= train_df.groupby('weekday')['rating'].count()\n",
    "weekday_ratings"
   ]
  },
  {
   "cell_type": "code",
   "execution_count": 113,
   "metadata": {
    "colab": {
     "base_uri": "https://localhost:8080/",
     "height": 295
    },
    "colab_type": "code",
    "executionInfo": {
     "elapsed": 18484,
     "status": "ok",
     "timestamp": 1575625442388,
     "user": {
      "displayName": "Bharat Kumar",
      "photoUrl": "",
      "userId": "11978287233199522831"
     },
     "user_tz": -330
    },
    "id": "IacyvQ-Ql-VN",
    "outputId": "749edcd2-1a7a-4789-871f-24fda6b6387b"
   },
   "outputs": [
    {
     "data": {
      "image/png": "[encoded data removed]",
      "text/plain": [
       "<Figure size 432x288 with 1 Axes>"
      ]
     },
     "metadata": {
      "tags": []
     },
     "output_type": "display_data"
    }
   ],
   "source": [
    "sns.countplot(x='weekday', data= train_df)\n",
    "plt.title('No of ratings on each day...')\n",
    "plt.show()"
   ]
  },
  {
   "cell_type": "code",
   "execution_count": 114,
   "metadata": {
    "colab": {
     "base_uri": "https://localhost:8080/",
     "height": 296
    },
    "colab_type": "code",
    "executionInfo": {
     "elapsed": 30891,
     "status": "ok",
     "timestamp": 1575625476458,
     "user": {
      "displayName": "Bharat Kumar",
      "photoUrl": "",
      "userId": "11978287233199522831"
     },
     "user_tz": -330
    },
    "id": "z_nOLBakmDWE",
    "outputId": "201860bc-9157-455b-b5bc-5f2b2532c08b"
   },
   "outputs": [
    {
     "data": {
      "image/png": "[encoded data removed]",
      "text/plain": [
       "<Figure size 432x288 with 1 Axes>"
      ]
     },
     "metadata": {
      "tags": []
     },
     "output_type": "display_data"
    },
    {
     "name": "stdout",
     "output_type": "stream",
     "text": [
      "0:00:26.644181\n"
     ]
    }
   ],
   "source": [
    "start= datetime.now()\n",
    "sns.boxplot(x='weekday', y= 'rating', data= train_df)\n",
    "plt.show()\n",
    "print(datetime.now()-start)"
   ]
  },
  {
   "cell_type": "code",
   "execution_count": 115,
   "metadata": {
    "colab": {
     "base_uri": "https://localhost:8080/",
     "height": 170
    },
    "colab_type": "code",
    "executionInfo": {
     "elapsed": 16956,
     "status": "ok",
     "timestamp": 1575625480678,
     "user": {
      "displayName": "Bharat Kumar",
      "photoUrl": "",
      "userId": "11978287233199522831"
     },
     "user_tz": -330
    },
    "id": "KuIROiCPmIDl",
    "outputId": "4470f118-2abd-4000-fbaf-c8421814f2b7"
   },
   "outputs": [
    {
     "data": {
      "text/plain": [
       "weekday\n",
       "Friday       3.585274\n",
       "Monday       3.577250\n",
       "Saturday     3.591791\n",
       "Sunday       3.594144\n",
       "Thursday     3.582463\n",
       "Tuesday      3.574438\n",
       "Wednesday    3.583751\n",
       "Name: rating, dtype: float64"
      ]
     },
     "execution_count": 115,
     "metadata": {
      "tags": []
     },
     "output_type": "execute_result"
    }
   ],
   "source": [
    "weekday_ratings_mean= train_df.groupby('weekday')['rating'].mean()\n",
    "weekday_ratings_mean"
   ]
  },
  {
   "cell_type": "markdown",
   "metadata": {
    "colab_type": "text",
    "id": "YV6MmbPk0Zmy"
   },
   "source": [
    "<h3> 3.3.6 Creating sparse matrix from data frame </h3>\n",
    "\n",
    "<table>\n",
    "<tr>\n",
    "<td>\n",
    "<img src='data_c.jpg' width='250px' align=left/>\n",
    "</td>\n",
    "<td>\n",
    "<img src='arrow.jpg' width='60px' align=left/>\n",
    "</td>\n",
    "<td>\n",
    "<img src='data_sparse_c.jpg' width='400px' align=left/>\n",
    "</td>\n",
    "</tr>\n",
    "</table>\n",
    "\n",
    "<h4> 3.3.6.1 Creating sparse matrix from train data frame </h4>"
   ]
  },
  {
   "cell_type": "code",
   "execution_count": 0,
   "metadata": {
    "colab": {},
    "colab_type": "code",
    "id": "SGkNT-CZ08Vq"
   },
   "outputs": [],
   "source": [
    "downloaded = drive.CreateFile({'id':'1a_zcFL3hNOIjrOO2RLtML9FZtd2xR8g1'}) # replace the id with id of file you want to access\n",
    "downloaded.GetContentFile('train_sparse_matrix.npz')\n",
    "downloaded = drive.CreateFile({'id':'1YKQ4Y9a2a_Why48eacLPDkiiDH0hu4zX'}) # replace the id with id of file you want to access\n",
    "downloaded.GetContentFile('test_sparse_matrix.npz')"
   ]
  },
  {
   "cell_type": "code",
   "execution_count": 14,
   "metadata": {
    "colab": {
     "base_uri": "https://localhost:8080/",
     "height": 68
    },
    "colab_type": "code",
    "executionInfo": {
     "elapsed": 442768,
     "status": "ok",
     "timestamp": 1575618120411,
     "user": {
      "displayName": "Bharat Kumar",
      "photoUrl": "",
      "userId": "11978287233199522831"
     },
     "user_tz": -330
    },
    "id": "Zblo0lB52L-8",
    "outputId": "8028aec5-5a62-4a9c-9372-841c9fc41b5d"
   },
   "outputs": [
    {
     "name": "stdout",
     "output_type": "stream",
     "text": [
      "It is present in your pwd, getting it from disk....\n",
      "DONE..\n",
      "0:00:03.900961\n"
     ]
    }
   ],
   "source": [
    "start = datetime.now()\n",
    "if os.path.isfile('train_sparse_matrix.npz'):\n",
    "    print(\"It is present in your pwd, getting it from disk....\")\n",
    "    # just get it from the disk instead of computing it\n",
    "    train_sparse_matrix = sparse.load_npz('train_sparse_matrix.npz')\n",
    "    print(\"DONE..\")\n",
    "else: \n",
    "    print(\"We are creating sparse_matrix from the dataframe..\")\n",
    "    # create sparse_matrix and store it for after usage.\n",
    "    # It should be in such a way that, MATRIX[row, col] = data\n",
    "    \n",
    "    # csr_matrix(data_values, (row_index, col_index), shape_of_matrix)\n",
    "    train_sparse_matrix = sparse.csr_matrix((train_df.rating.values, (train_df.user.values,\n",
    "                                               train_df.movie.values)),)\n",
    "    \n",
    "    print('Done. It\\'s shape is : (user, movie) : ',train_sparse_matrix.shape)\n",
    "    print('Saving it into disk for furthur usage..')\n",
    "    # save it into disk\n",
    "    sparse.save_npz(\"train_sparse_matrix.npz\", train_sparse_matrix)\n",
    "    print('Done..\\n')\n",
    "\n",
    "print(datetime.now() - start)"
   ]
  },
  {
   "cell_type": "markdown",
   "metadata": {
    "colab_type": "text",
    "id": "g0TfFPGD2wKc"
   },
   "source": [
    "<p><b>The Sparsity of Train Sparse Matrix</b></p>"
   ]
  },
  {
   "cell_type": "code",
   "execution_count": 19,
   "metadata": {
    "colab": {
     "base_uri": "https://localhost:8080/",
     "height": 51
    },
    "colab_type": "code",
    "executionInfo": {
     "elapsed": 442640,
     "status": "ok",
     "timestamp": 1575618120416,
     "user": {
      "displayName": "Bharat Kumar",
      "photoUrl": "",
      "userId": "11978287233199522831"
     },
     "user_tz": -330
    },
    "id": "e-gvqz5c2xV0",
    "outputId": "92fecab8-2906-491c-f362-a798f34087b0"
   },
   "outputs": [
    {
     "name": "stdout",
     "output_type": "stream",
     "text": [
      "(2649430, 17771)\n",
      "Percentage of Sparsity:  0.998292709259195 %\n"
     ]
    }
   ],
   "source": [
    "print(train_sparse_matrix.shape)\n",
    "# no of ((rows x columns) - non zero elements) / (rows x columns)\n",
    "print('Percentage of Sparsity: ', ((train_sparse_matrix.shape[0] * train_sparse_matrix.shape[1]) - \n",
    "       (train_sparse_matrix.count_nonzero())) / (train_sparse_matrix.shape[0] * train_sparse_matrix.shape[1]),'%')"
   ]
  },
  {
   "cell_type": "markdown",
   "metadata": {
    "colab_type": "text",
    "id": "tBPLZXlY20qq"
   },
   "source": [
    "<h4> 3.3.6.2 Creating sparse matrix from test data frame </h4>"
   ]
  },
  {
   "cell_type": "code",
   "execution_count": 15,
   "metadata": {
    "colab": {
     "base_uri": "https://localhost:8080/",
     "height": 51
    },
    "colab_type": "code",
    "executionInfo": {
     "elapsed": 443958,
     "status": "ok",
     "timestamp": 1575618121901,
     "user": {
      "displayName": "Bharat Kumar",
      "photoUrl": "",
      "userId": "11978287233199522831"
     },
     "user_tz": -330
    },
    "id": "148zQmxD23sm",
    "outputId": "b8e02f73-2ce3-4a2b-bfd3-56f9edbd3613"
   },
   "outputs": [
    {
     "name": "stdout",
     "output_type": "stream",
     "text": [
      "It is present in your pwd, getting it from disk....\n",
      "DONE..\n"
     ]
    }
   ],
   "source": [
    "start = datetime.now()\n",
    "if os.path.isfile('test_sparse_matrix.npz'):\n",
    "    print(\"It is present in your pwd, getting it from disk....\")\n",
    "    # just get it from the disk instead of computing it\n",
    "    test_sparse_matrix = sparse.load_npz('test_sparse_matrix.npz')\n",
    "    print(\"DONE..\")\n",
    "else: \n",
    "    print(\"We are creating sparse_matrix from the dataframe..\")\n",
    "    # create sparse_matrix and store it for after usage.\n",
    "    # csr_matrix(data_values, (row_index, col_index), shape_of_matrix)\n",
    "    # It should be in such a way that, MATRIX[row, col] = data\n",
    "    test_sparse_matrix = sparse.csr_matrix((test_df.rating.values, (test_df.user.values,\n",
    "                                               test_df.movie.values)),)\n",
    "    \n",
    "    print('Done. It\\'s shape is : (user, movie) : ',test_sparse_matrix.shape)\n",
    "    print('Saving it into disk for furthur usage..')\n",
    "    # save it into disk\n",
    "    sparse.save_npz(\"test_sparse_matrix.npz\", test_sparse_matrix)\n",
    "    print('Done..\\n')"
   ]
  },
  {
   "cell_type": "markdown",
   "metadata": {
    "colab_type": "text",
    "id": "JHMJpjfB26ms"
   },
   "source": [
    "<p><b>The Sparsity of Test Sparse Matrix</b></p>"
   ]
  },
  {
   "cell_type": "code",
   "execution_count": 21,
   "metadata": {
    "colab": {
     "base_uri": "https://localhost:8080/",
     "height": 51
    },
    "colab_type": "code",
    "executionInfo": {
     "elapsed": 443863,
     "status": "ok",
     "timestamp": 1575618121906,
     "user": {
      "displayName": "Bharat Kumar",
      "photoUrl": "",
      "userId": "11978287233199522831"
     },
     "user_tz": -330
    },
    "id": "E9zqtMuY29W2",
    "outputId": "8c943f04-9f3a-4e58-847b-a76d817e6395"
   },
   "outputs": [
    {
     "name": "stdout",
     "output_type": "stream",
     "text": [
      "(2649430, 17771)\n",
      "Percentage of Sparsity:  0.9995731772988694 %\n"
     ]
    }
   ],
   "source": [
    "print(test_sparse_matrix.shape)\n",
    "# no of ((rows x columns) - non zero elements) / (rows x columns)\n",
    "print('Percentage of Sparsity: ', ((test_sparse_matrix.shape[0] * test_sparse_matrix.shape[1]) - \n",
    "       (test_sparse_matrix.count_nonzero())) / (test_sparse_matrix.shape[0] * test_sparse_matrix.shape[1]),'%')"
   ]
  },
  {
   "cell_type": "markdown",
   "metadata": {
    "colab_type": "text",
    "id": "K6II8T-k3AkM"
   },
   "source": [
    "<h3>3.3.7 Finding Global average of all movie ratings, Average rating per user, and Average rating per movie</h3>"
   ]
  },
  {
   "cell_type": "code",
   "execution_count": 16,
   "metadata": {
    "colab": {},
    "colab_type": "code",
    "id": "bDxPTplGmXE6"
   },
   "outputs": [],
   "source": [
    "# get the user averages in dictionary (key: user_id/movie_id, value: avg rating)\n",
    "\n",
    "def get_average_ratings(sparse_matrix, of_users):\n",
    "    \n",
    "    # average ratings of user/axes\n",
    "    ax = 1 if of_users else 0 # 1 - User axes,0 - Movie axes\n",
    "\n",
    "    # \".A1\" is for converting Column_Matrix to 1-D numpy array \n",
    "    sum_of_ratings = sparse_matrix.sum(axis=ax).A1\n",
    "    # Boolean matrix of ratings ( whether a user rated that movie or not)\n",
    "    is_rated = sparse_matrix!=0\n",
    "    # no of ratings that each user OR movie..\n",
    "    no_of_ratings = is_rated.sum(axis=ax).A1\n",
    "    \n",
    "    # max_user  and max_movie ids in sparse matrix \n",
    "    u,m = sparse_matrix.shape\n",
    "    # creae a dictonary of users and their average ratigns..\n",
    "    average_ratings = { i : sum_of_ratings[i]/no_of_ratings[i]\n",
    "                                 for i in range(u if of_users else m) \n",
    "                                    if no_of_ratings[i] !=0}\n",
    "\n",
    "    # return that dictionary of average ratings\n",
    "    return average_ratings"
   ]
  },
  {
   "cell_type": "markdown",
   "metadata": {
    "colab_type": "text",
    "id": "PBtqVdGl3GXG"
   },
   "source": [
    "<h4> 3.3.7.1 finding global average of all movie ratings </h4>"
   ]
  },
  {
   "cell_type": "code",
   "execution_count": 17,
   "metadata": {
    "colab": {
     "base_uri": "https://localhost:8080/",
     "height": 34
    },
    "colab_type": "code",
    "executionInfo": {
     "elapsed": 2914,
     "status": "ok",
     "timestamp": 1575625555023,
     "user": {
      "displayName": "Bharat Kumar",
      "photoUrl": "",
      "userId": "11978287233199522831"
     },
     "user_tz": -330
    },
    "id": "dPe5ourSmdHx",
    "outputId": "c5c42c3a-e035-4f17-8867-4b0658cc3d0b"
   },
   "outputs": [
    {
     "data": {
      "text/plain": [
       "{'global': 3.582890686321557}"
      ]
     },
     "execution_count": 17,
     "metadata": {},
     "output_type": "execute_result"
    }
   ],
   "source": [
    "train_averages = dict()\n",
    "# get the global average of ratings in our train set.\n",
    "train_global_average = train_sparse_matrix.sum()/train_sparse_matrix.count_nonzero()\n",
    "train_averages['global'] = train_global_average\n",
    "train_averages"
   ]
  },
  {
   "cell_type": "markdown",
   "metadata": {
    "colab_type": "text",
    "id": "meyGZV1O3Lyq"
   },
   "source": [
    "<h4> 3.3.7.2 finding average rating per user</h4>"
   ]
  },
  {
   "cell_type": "code",
   "execution_count": 18,
   "metadata": {
    "colab": {
     "base_uri": "https://localhost:8080/",
     "height": 51
    },
    "colab_type": "code",
    "executionInfo": {
     "elapsed": 4372,
     "status": "ok",
     "timestamp": 1575625574112,
     "user": {
      "displayName": "Bharat Kumar",
      "photoUrl": "",
      "userId": "11978287233199522831"
     },
     "user_tz": -330
    },
    "id": "hkUa9dOlmiF1",
    "outputId": "53af224f-b8c7-4a13-b480-8dab3cb2e381"
   },
   "outputs": [
    {
     "name": "stdout",
     "output_type": "stream",
     "text": [
      "\n",
      "Average rating of user 10 : 3.3781094527363185\n"
     ]
    }
   ],
   "source": [
    "train_averages['user'] = get_average_ratings(train_sparse_matrix, of_users=True)\n",
    "print('\\nAverage rating of user 10 :',train_averages['user'][10])"
   ]
  },
  {
   "cell_type": "markdown",
   "metadata": {
    "colab_type": "text",
    "id": "qML3sijU3R2u"
   },
   "source": [
    "<h4> 3.3.7.3 finding average rating per movie</h4>"
   ]
  },
  {
   "cell_type": "code",
   "execution_count": 19,
   "metadata": {
    "colab": {
     "base_uri": "https://localhost:8080/",
     "height": 51
    },
    "colab_type": "code",
    "executionInfo": {
     "elapsed": 3527,
     "status": "ok",
     "timestamp": 1575625593646,
     "user": {
      "displayName": "Bharat Kumar",
      "photoUrl": "",
      "userId": "11978287233199522831"
     },
     "user_tz": -330
    },
    "id": "FQlVyJaimm_n",
    "outputId": "15f0a549-0647-4dd4-ee0e-2d9c2e393cbf"
   },
   "outputs": [
    {
     "name": "stdout",
     "output_type": "stream",
     "text": [
      "\n",
      " AVerage rating of movie 15 : 3.3038461538461537\n"
     ]
    }
   ],
   "source": [
    "train_averages['movie'] =  get_average_ratings(train_sparse_matrix, of_users=False)\n",
    "print('\\n AVerage rating of movie 15 :',train_averages['movie'][15])"
   ]
  },
  {
   "cell_type": "markdown",
   "metadata": {
    "colab_type": "text",
    "id": "dvhwJkcX3W8o"
   },
   "source": [
    "<h4> 3.3.7.4 PDF's & CDF's of Avg.Ratings of Users & Movies (In Train Data)</h4>"
   ]
  },
  {
   "cell_type": "code",
   "execution_count": 120,
   "metadata": {
    "colab": {
     "base_uri": "https://localhost:8080/",
     "height": 311
    },
    "colab_type": "code",
    "executionInfo": {
     "elapsed": 38658,
     "status": "ok",
     "timestamp": 1575625654709,
     "user": {
      "displayName": "Bharat Kumar",
      "photoUrl": "",
      "userId": "11978287233199522831"
     },
     "user_tz": -330
    },
    "id": "58go6m_SmtTn",
    "outputId": "9447eb8c-7775-48f3-9167-54764c3c34d2"
   },
   "outputs": [
    {
     "data": {
      "image/png": "[encoded data removed]",
      "text/plain": [
       "<Figure size 576x288 with 2 Axes>"
      ]
     },
     "metadata": {
      "tags": []
     },
     "output_type": "display_data"
    },
    {
     "name": "stdout",
     "output_type": "stream",
     "text": [
      "0:00:34.826430\n"
     ]
    }
   ],
   "source": [
    "start = datetime.now()\n",
    "# draw pdfs for average rating per user and average\n",
    "fig, (ax1, ax2) = plt.subplots(nrows=1, ncols=2, figsize=plt.figaspect(.5))\n",
    "fig.suptitle('Avg Ratings per User and per Movie', fontsize=15)\n",
    "\n",
    "ax1.set_title('Users-Avg-Ratings')\n",
    "# get the list of average user ratings from the averages dictionary..\n",
    "user_averages = [rat for rat in train_averages['user'].values()]\n",
    "sns.distplot(user_averages, ax=ax1, hist=False, \n",
    "             kde_kws=dict(cumulative=True), label='Cdf')\n",
    "sns.distplot(user_averages, ax=ax1, hist=False,label='Pdf')\n",
    "\n",
    "ax2.set_title('Movies-Avg-Rating')\n",
    "# get the list of movie_average_ratings from the dictionary..\n",
    "movie_averages = [rat for rat in train_averages['movie'].values()]\n",
    "sns.distplot(movie_averages, ax=ax2, hist=False, \n",
    "             kde_kws=dict(cumulative=True), label='Cdf')\n",
    "sns.distplot(movie_averages, ax=ax2, hist=False, label='Pdf')\n",
    "\n",
    "plt.show()\n",
    "print(datetime.now() - start)"
   ]
  },
  {
   "cell_type": "markdown",
   "metadata": {
    "colab_type": "text",
    "id": "EqzkF6fd3fq-"
   },
   "source": [
    "<h3> 3.3.8 Cold Start problem </h3>\n",
    "\n",
    "<h4> 3.3.8.1 Cold Start problem with Users</h4>"
   ]
  },
  {
   "cell_type": "code",
   "execution_count": 121,
   "metadata": {
    "colab": {
     "base_uri": "https://localhost:8080/",
     "height": 136
    },
    "colab_type": "code",
    "executionInfo": {
     "elapsed": 11508,
     "status": "ok",
     "timestamp": 1575625670727,
     "user": {
      "displayName": "Bharat Kumar",
      "photoUrl": "",
      "userId": "11978287233199522831"
     },
     "user_tz": -330
    },
    "id": "6z30iwlem05r",
    "outputId": "f6d7c873-3003-42fd-cd09-b77b99cde931"
   },
   "outputs": [
    {
     "name": "stdout",
     "output_type": "stream",
     "text": [
      "\n",
      "Total number of Users  : 480189\n",
      "\n",
      "Number of Users in Train data : 405041\n",
      "\n",
      "No of Users that didn't appear in train data: 75148(15.65 %) \n",
      " \n"
     ]
    }
   ],
   "source": [
    "total_users = len(np.unique(df.user))\n",
    "users_train = len(train_averages['user'])\n",
    "new_users = total_users - users_train\n",
    "\n",
    "print('\\nTotal number of Users  :', total_users)\n",
    "print('\\nNumber of Users in Train data :', users_train)\n",
    "print(\"\\nNo of Users that didn't appear in train data: {}({} %) \\n \".format(new_users,\n",
    "                                                                        np.round((new_users/total_users)*100, 2)))"
   ]
  },
  {
   "cell_type": "code",
   "execution_count": 122,
   "metadata": {
    "colab": {
     "base_uri": "https://localhost:8080/",
     "height": 54
    },
    "colab_type": "code",
    "executionInfo": {
     "elapsed": 1701,
     "status": "ok",
     "timestamp": 1575625751114,
     "user": {
      "displayName": "Bharat Kumar",
      "photoUrl": "",
      "userId": "11978287233199522831"
     },
     "user_tz": -330
    },
    "id": "d9kcxlBOnLp8",
    "outputId": "751385c5-a304-4142-b829-36db0d9109de"
   },
   "outputs": [
    {
     "data": {
      "text/plain": [
       "\"\\n# This almost took a lot of time of nearly 2.5 hrs for unique movies of 17770 !!!\\n\\nstart = datetime.now()\\ncount=0\\nfor i in test_df['movie'].unique():\\n    if i not in train_df['movie'].unique():\\n        count+=1\\nprint(count)\\nprint(datetime.now()-start)\\n\""
      ]
     },
     "execution_count": 122,
     "metadata": {
      "tags": []
     },
     "output_type": "execute_result"
    }
   ],
   "source": [
    "\"\"\"\n",
    "# This almost took a lot of time of nearly 2.5 hrs for unique movies of 17770 !!!\n",
    "\n",
    "start = datetime.now()\n",
    "count=0\n",
    "for i in test_df['movie'].unique():\n",
    "    if i not in train_df['movie'].unique():\n",
    "        count+=1\n",
    "print(count)\n",
    "print(datetime.now()-start)\n",
    "\"\"\""
   ]
  },
  {
   "cell_type": "code",
   "execution_count": 123,
   "metadata": {
    "colab": {
     "base_uri": "https://localhost:8080/",
     "height": 136
    },
    "colab_type": "code",
    "executionInfo": {
     "elapsed": 8968,
     "status": "ok",
     "timestamp": 1575625768623,
     "user": {
      "displayName": "Bharat Kumar",
      "photoUrl": "",
      "userId": "11978287233199522831"
     },
     "user_tz": -330
    },
    "id": "OKsoMoCTnDTc",
    "outputId": "1e2fb70c-946e-4b26-cc4d-91d51ae457d0"
   },
   "outputs": [
    {
     "name": "stdout",
     "output_type": "stream",
     "text": [
      "\n",
      "Total number of Movies  : 17770\n",
      "\n",
      "Number of Users in Train data : 17424\n",
      "\n",
      "No of Movies that didn't appear in train data: 346(1.95 %) \n",
      " \n"
     ]
    }
   ],
   "source": [
    "total_movies = len(np.unique(df.movie))\n",
    "movies_train = len(train_averages['movie'])\n",
    "new_movies = total_movies - movies_train\n",
    "\n",
    "print('\\nTotal number of Movies  :', total_movies)\n",
    "print('\\nNumber of Users in Train data :', movies_train)\n",
    "print(\"\\nNo of Movies that didn't appear in train data: {}({} %) \\n \".format(new_movies,\n",
    "                                                                        np.round((new_movies/total_movies)*100, 2)))"
   ]
  },
  {
   "cell_type": "markdown",
   "metadata": {
    "colab_type": "text",
    "id": "HuMwkujK3pQC"
   },
   "source": [
    "> We might have to handle __new users__ ( ___75148___ ) who didn't appear in train data.\n",
    "\n",
    "<h4> 3.3.8.2 Cold Start problem with Movies</h4>"
   ]
  },
  {
   "cell_type": "markdown",
   "metadata": {
    "colab_type": "text",
    "id": "o_1sdQy23wyQ"
   },
   "source": [
    "> We might have to handle __346 movies__ (small comparatively) in test data\n",
    "\n",
    "<h2> 3.4 Computing Similarity matrices </h2>\n",
    "\n",
    "<h3> 3.4.1 Computing User-User Similarity matrix </h3>\n",
    "\n",
    "1. Calculating User User Similarity_Matrix is __not very easy__(_unless you have huge Computing Power and lots of time_) because of number of. usersbeing lare.\n",
    "\n",
    "    * You can try if you want to. Your system could crash or the program stops with **Memory Error**\n",
    "\n",
    "<h4> 3.4.1.1 Trying with all dimensions (17k dimensions per user) </h4>"
   ]
  },
  {
   "cell_type": "code",
   "execution_count": 20,
   "metadata": {
    "colab": {},
    "colab_type": "code",
    "id": "eWbCuk9XnYq4"
   },
   "outputs": [],
   "source": [
    "def compute_user_similarity(sparse_matrix, compute_for_few=False, top = 100, verbose=False, verb_for_n_rows = 20,\n",
    "                            draw_time_taken=True):\n",
    "    no_of_users, _ = sparse_matrix.shape\n",
    "    # get the indices of  non zero rows(users) from our sparse matrix\n",
    "    row_ind, col_ind = sparse_matrix.nonzero()\n",
    "    row_ind = sorted(set(row_ind)) # we don't have to\n",
    "    time_taken = list() #  time taken for finding similar users for an user..\n",
    "    \n",
    "    # we create rows, cols, and data lists.., which can be used to create sparse matrices\n",
    "    rows, cols, data = list(), list(), list()\n",
    "    if verbose: \n",
    "        print(\"Computing top\",top,\"similarities for each user..\")\n",
    "    \n",
    "    start = datetime.now()\n",
    "    temp = 0\n",
    "    \n",
    "    for row in row_ind[:top] if compute_for_few else row_ind:\n",
    "        temp = temp+1\n",
    "        prev = datetime.now()\n",
    "        \n",
    "        # get the similarity row for this user with all other users\n",
    "        sim = cosine_similarity(sparse_matrix.getrow(row), sparse_matrix).ravel()\n",
    "        # We will get only the top ''top'' most similar users and ignore rest of them..\n",
    "        top_sim_ind = sim.argsort()[-top:]\n",
    "        top_sim_val = sim[top_sim_ind]\n",
    "        \n",
    "        # add them to our rows, cols and data\n",
    "        rows.extend([row]*top)\n",
    "        cols.extend(top_sim_ind)\n",
    "        data.extend(top_sim_val)\n",
    "        time_taken.append(datetime.now().timestamp() - prev.timestamp())\n",
    "        if verbose:\n",
    "            if temp%verb_for_n_rows == 0:\n",
    "                print(\"computing done for {} users [  time elapsed : {}  ]\"\n",
    "                      .format(temp, datetime.now()-start))\n",
    "            \n",
    "        \n",
    "    # lets create sparse matrix out of these and return it\n",
    "    if verbose: print('Creating Sparse matrix from the computed similarities')\n",
    "    #return rows, cols, data\n",
    "    \n",
    "    if draw_time_taken:\n",
    "        plt.plot(time_taken, label = 'time taken for each user')\n",
    "        plt.plot(np.cumsum(time_taken), label='Total time')\n",
    "        plt.legend(loc='best')\n",
    "        plt.xlabel('User')\n",
    "        plt.ylabel('Time (seconds)')\n",
    "        plt.show()\n",
    "        \n",
    "    return sparse.csr_matrix((data, (rows, cols)), shape=(no_of_users, no_of_users)), time_taken      "
   ]
  },
  {
   "cell_type": "code",
   "execution_count": 125,
   "metadata": {
    "colab": {
     "base_uri": "https://localhost:8080/",
     "height": 432
    },
    "colab_type": "code",
    "executionInfo": {
     "elapsed": 503128,
     "status": "ok",
     "timestamp": 1575626326872,
     "user": {
      "displayName": "Bharat Kumar",
      "photoUrl": "",
      "userId": "11978287233199522831"
     },
     "user_tz": -330
    },
    "id": "o22Xm2qlnf9U",
    "outputId": "463eb9ff-ee71-4dbf-a55e-469a625e779d"
   },
   "outputs": [
    {
     "name": "stdout",
     "output_type": "stream",
     "text": [
      "Computing top 100 similarities for each user..\n",
      "computing done for 20 users [  time elapsed : 0:01:38.657804  ]\n",
      "computing done for 40 users [  time elapsed : 0:03:19.138978  ]\n",
      "computing done for 60 users [  time elapsed : 0:04:56.127406  ]\n",
      "computing done for 80 users [  time elapsed : 0:06:32.820812  ]\n",
      "computing done for 100 users [  time elapsed : 0:08:10.999217  ]\n",
      "Creating Sparse matrix from the computed similarities\n"
     ]
    },
    {
     "data": {
      "image/png": "[encoded data removed]",
      "text/plain": [
       "<Figure size 432x288 with 1 Axes>"
      ]
     },
     "metadata": {
      "tags": []
     },
     "output_type": "display_data"
    },
    {
     "name": "stdout",
     "output_type": "stream",
     "text": [
      "----------------------------------------------------------------------------------------------------\n",
      "Time taken : 0:08:21.230505\n"
     ]
    }
   ],
   "source": [
    "start = datetime.now()\n",
    "u_u_sim_sparse, _ = compute_user_similarity(train_sparse_matrix, compute_for_few=True, top = 100,\n",
    "                                                     verbose=True)\n",
    "print(\"-\"*100)\n",
    "print(\"Time taken :\",datetime.now()-start)"
   ]
  },
  {
   "cell_type": "markdown",
   "metadata": {
    "colab_type": "text",
    "id": "pBlqmV9y33uE"
   },
   "source": [
    "<h4> 3.4.1.2 Trying with reduced dimensions (Using TruncatedSVD for dimensionality reduction of user vector)</h4>\n",
    "\n",
    "* We have  **405,041 users** in out training set and computing similarities between them..( **17K dimensional vector..**) is time consuming..\n",
    "\n",
    "\n",
    "- From above plot, It took roughly __8.88 sec__ for computing simlilar users for __one user__\n",
    "    \n",
    "    \n",
    "- We have __405,041 users__ with us in training set.\n",
    "\n",
    "\n",
    "- ${ 405041 \\times 8.88 = 3596764.08  \\sec } =  59946.068 \\min = 999.101133333 \\text{ hours}\n",
    "= 41.629213889 \\text{ days}...$\n",
    "\n",
    "    - Even if we run on 4 cores parallelly (a typical system now a days), It will still take almost __10 and 1/2__ days.\n",
    "    \n",
    " IDEA:  Instead, we will try to reduce the dimentsions using SVD, so that __it might__ speed up the process..."
   ]
  },
  {
   "cell_type": "code",
   "execution_count": 126,
   "metadata": {
    "colab": {
     "base_uri": "https://localhost:8080/",
     "height": 34
    },
    "colab_type": "code",
    "executionInfo": {
     "elapsed": 684605,
     "status": "ok",
     "timestamp": 1575626537040,
     "user": {
      "displayName": "Bharat Kumar",
      "photoUrl": "",
      "userId": "11978287233199522831"
     },
     "user_tz": -330
    },
    "id": "VuiUN9zNnmsS",
    "outputId": "66746acc-e52c-49d7-9a89-882b7b816634"
   },
   "outputs": [
    {
     "name": "stdout",
     "output_type": "stream",
     "text": [
      "0:03:30.967248\n"
     ]
    }
   ],
   "source": [
    "start= datetime.now()\n",
    "user_tsvd = TruncatedSVD(n_components= 500, random_state= 5)\n",
    "tsvd_user = user_tsvd.fit_transform(train_sparse_matrix[:450000])\n",
    "print(datetime.now()-start)"
   ]
  },
  {
   "cell_type": "markdown",
   "metadata": {
    "colab_type": "text",
    "id": "riVoF9Y84GOs"
   },
   "source": [
    "Here,\n",
    "\n",
    "\n",
    "- $\\sum \\longleftarrow$ (netflix\\_svd.**singular\\_values\\_** )\n",
    "\n",
    "\n",
    "- $\\bigvee^T \\longleftarrow$ (netflix\\_svd.**components_**)\n",
    "\n",
    "\n",
    "- $\\bigcup$ is not returned. instead **Projection_of_X** onto the new vectorspace is returned. \n",
    "\n",
    "\n",
    "- It uses **randomized svd** internally, which returns **All 3 of them saperately**. Use that instead.. "
   ]
  },
  {
   "cell_type": "code",
   "execution_count": 127,
   "metadata": {
    "colab": {
     "base_uri": "https://localhost:8080/",
     "height": 290
    },
    "colab_type": "code",
    "executionInfo": {
     "elapsed": 657835,
     "status": "ok",
     "timestamp": 1575626537977,
     "user": {
      "displayName": "Bharat Kumar",
      "photoUrl": "",
      "userId": "11978287233199522831"
     },
     "user_tz": -330
    },
    "id": "pfLObLpenth0",
    "outputId": "a23202c3-e7fc-43b8-8eee-a4ca07c2270c"
   },
   "outputs": [
    {
     "data": {
      "image/png": "[encoded data removed]",
      "text/plain": [
       "<Figure size 576x288 with 2 Axes>"
      ]
     },
     "metadata": {
      "tags": []
     },
     "output_type": "display_data"
    }
   ],
   "source": [
    "expl_var= np.cumsum(user_tsvd.explained_variance_ratio_)\n",
    "\n",
    "fig, (ax1, ax2) = plt.subplots(nrows=1, ncols=2, figsize=plt.figaspect(.5))\n",
    "\n",
    "ax1.set_ylabel(\"Variance Explained\", fontsize=15)\n",
    "ax1.set_xlabel(\"# Latent Facors\", fontsize=15)\n",
    "ax1.plot(expl_var)\n",
    "# annote some (latentfactors, expl_var) to make it clear\n",
    "ind = [1, 2,4,8,20, 60, 100, 200, 300, 400, 500]\n",
    "ax1.scatter(x = [i-1 for i in ind], y = expl_var[[i-1 for i in ind]], c='#ff3300')\n",
    "for i in ind:\n",
    "    ax1.annotate(s =\"({}, {})\".format(i,  np.round(expl_var[i-1], 2)), xy=(i-1, expl_var[i-1]),\n",
    "                xytext = ( i+20, expl_var[i-1] - 0.01), fontweight='bold')\n",
    "\n",
    "change_in_expl_var = [expl_var[i+1] - expl_var[i] for i in range(len(expl_var)-1)]\n",
    "ax2.plot(change_in_expl_var)\n",
    "\n",
    "\n",
    "\n",
    "ax2.set_ylabel(\"Gain in Var_Expl with One Additional LF\", fontsize=10)\n",
    "ax2.yaxis.set_label_position(\"right\")\n",
    "ax2.set_xlabel(\"# Latent Facors\", fontsize=20)\n",
    "\n",
    "plt.show()"
   ]
  },
  {
   "cell_type": "code",
   "execution_count": 128,
   "metadata": {
    "colab": {
     "base_uri": "https://localhost:8080/",
     "height": 204
    },
    "colab_type": "code",
    "executionInfo": {
     "elapsed": 637595,
     "status": "ok",
     "timestamp": 1575626537982,
     "user": {
      "displayName": "Bharat Kumar",
      "photoUrl": "",
      "userId": "11978287233199522831"
     },
     "user_tz": -330
    },
    "id": "z9iY0vGFnypI",
    "outputId": "98512f5a-9e64-47aa-f07a-801dc24b8be1"
   },
   "outputs": [
    {
     "name": "stdout",
     "output_type": "stream",
     "text": [
      "(1, 0.23)\n",
      "(2, 0.26)\n",
      "(4, 0.3)\n",
      "(8, 0.34)\n",
      "(20, 0.38)\n",
      "(60, 0.44)\n",
      "(100, 0.47)\n",
      "(200, 0.53)\n",
      "(300, 0.58)\n",
      "(400, 0.62)\n",
      "(500, 0.65)\n"
     ]
    }
   ],
   "source": [
    "for i in ind:\n",
    "    print(\"({}, {})\".format(i, np.round(expl_var[i-1], 2)))"
   ]
  },
  {
   "cell_type": "markdown",
   "metadata": {
    "colab_type": "text",
    "id": "LKP1rBN_4RD8"
   },
   "source": [
    " \n",
    "> I think 500 dimensions is good enough \n",
    "\n",
    "---------\n",
    "\n",
    "-  By just taking __(20 to 30)__ latent factors, explained variance that we could get is __20 %__. \n",
    "\n",
    "- To take it to __60%__, we have to take  __almost 400 latent factors__. It is not fare.\n",
    "\n",
    "\n",
    "\n",
    "- It basically is the __gain of variance explained__, if we ___add one additional latent factor to it.___\n",
    "\n",
    "\n",
    "- By adding one by one latent factore too it, the ___gain in expained variance__ with that addition is decreasing. (Obviously, because they are sorted that way).\n",
    "- ___LHS Graph___:\n",
    "    - __x__ --- ( No of latent factos ),\n",
    "    - __y__ --- ( The variance explained by taking x latent factors)\n",
    "\n",
    "\n",
    "\n",
    "- __More decrease in the line (RHS graph) __:\n",
    "    - We  are getting more expained variance than before.\n",
    "- __Less decrease in that line (RHS graph)__  :\n",
    "    - We are not getting benifitted from adding latent factor furthur. This is what is shown in the plots.\n",
    "\n",
    "\n",
    "- ___RHS Graph___:\n",
    "    - __x__ --- ( No of latent factors ),\n",
    "    - __y__ --- ( Gain n Expl_Var by taking one additional latent factor) "
   ]
  },
  {
   "cell_type": "code",
   "execution_count": 129,
   "metadata": {
    "colab": {
     "base_uri": "https://localhost:8080/",
     "height": 34
    },
    "colab_type": "code",
    "executionInfo": {
     "elapsed": 654490,
     "status": "ok",
     "timestamp": 1575626589628,
     "user": {
      "displayName": "Bharat Kumar",
      "photoUrl": "",
      "userId": "11978287233199522831"
     },
     "user_tz": -330
    },
    "id": "hj50Xotpn69E",
    "outputId": "3b71b72f-eebb-4d38-8161-871fdde3460e"
   },
   "outputs": [
    {
     "name": "stdout",
     "output_type": "stream",
     "text": [
      "0:00:50.892854\n"
     ]
    }
   ],
   "source": [
    "# Let's project our Original U_M matrix into into 500 Dimensional space...\n",
    "start = datetime.now()\n",
    "trunc_matrix = train_sparse_matrix.dot(user_tsvd.components_.T)\n",
    "print(datetime.now()- start)"
   ]
  },
  {
   "cell_type": "code",
   "execution_count": 130,
   "metadata": {
    "colab": {
     "base_uri": "https://localhost:8080/",
     "height": 34
    },
    "colab_type": "code",
    "executionInfo": {
     "elapsed": 615850,
     "status": "ok",
     "timestamp": 1575626589633,
     "user": {
      "displayName": "Bharat Kumar",
      "photoUrl": "",
      "userId": "11978287233199522831"
     },
     "user_tz": -330
    },
    "id": "6XfFPYxaoANC",
    "outputId": "c619765a-6448-4a4e-843f-bd9c1c714614"
   },
   "outputs": [
    {
     "data": {
      "text/plain": [
       "(numpy.ndarray, (2649430, 500))"
      ]
     },
     "execution_count": 130,
     "metadata": {
      "tags": []
     },
     "output_type": "execute_result"
    }
   ],
   "source": [
    "type(trunc_matrix), trunc_matrix.shape"
   ]
  },
  {
   "cell_type": "markdown",
   "metadata": {
    "colab_type": "text",
    "id": "pAYa9jxl4dvy"
   },
   "source": [
    "* Let's convert this to actual sparse matrix and store it for future purposes"
   ]
  },
  {
   "cell_type": "code",
   "execution_count": 21,
   "metadata": {
    "colab": {},
    "colab_type": "code",
    "id": "i8gTWNxpoaOU"
   },
   "outputs": [],
   "source": [
    "if not os.path.isfile('trunc_sparse_matrix.npz'):\n",
    "    # create that sparse sparse matrix\n",
    "    trunc_sparse_matrix = sparse.csr_matrix(trunc_matrix)\n",
    "    # Save this truncated sparse matrix for later usage..\n",
    "    sparse.save_npz('trunc_sparse_matrix', trunc_sparse_matrix)\n",
    "else:\n",
    "    trunc_sparse_matrix = sparse.load_npz('trunc_sparse_matrix.npz')"
   ]
  },
  {
   "cell_type": "code",
   "execution_count": 22,
   "metadata": {
    "colab": {},
    "colab_type": "code",
    "id": "l517x2zKpOF4"
   },
   "outputs": [
    {
     "data": {
      "text/plain": [
       "(2649430, 500)"
      ]
     },
     "execution_count": 22,
     "metadata": {},
     "output_type": "execute_result"
    }
   ],
   "source": [
    "trunc_sparse_matrix.shape"
   ]
  },
  {
   "cell_type": "code",
   "execution_count": 23,
   "metadata": {
    "colab": {},
    "colab_type": "code",
    "id": "6rhdYPOvpQOs"
   },
   "outputs": [
    {
     "name": "stdout",
     "output_type": "stream",
     "text": [
      "Computing top 50 similarities for each user..\n",
      "computing done for 10 users [  time elapsed : 0:01:14.290835  ]\n",
      "computing done for 20 users [  time elapsed : 0:02:27.938801  ]\n",
      "computing done for 30 users [  time elapsed : 0:03:41.737247  ]\n",
      "computing done for 40 users [  time elapsed : 0:04:56.654651  ]\n",
      "computing done for 50 users [  time elapsed : 0:06:11.022909  ]\n",
      "Creating Sparse matrix from the computed similarities\n"
     ]
    },
    {
     "data": {
      "image/png": "[encoded data removed]",
      "text/plain": [
       "<Figure size 432x288 with 1 Axes>"
      ]
     },
     "metadata": {},
     "output_type": "display_data"
    },
    {
     "name": "stdout",
     "output_type": "stream",
     "text": [
      "--------------------------------------------------\n",
      "time: 0:06:39.122774\n"
     ]
    }
   ],
   "source": [
    "start = datetime.now()\n",
    "trunc_u_u_sim_matrix, _ = compute_user_similarity(trunc_sparse_matrix, compute_for_few=True, top=50, verbose=True, \n",
    "                                                 verb_for_n_rows=10)\n",
    "print(\"-\"*50)\n",
    "print(\"time:\",datetime.now()-start)"
   ]
  },
  {
   "cell_type": "markdown",
   "metadata": {
    "colab_type": "text",
    "id": "PDZqPIui486a"
   },
   "source": [
    "**: This is taking more time for each user than Original one.**\n",
    "    \n",
    "- from above plot, It took almost __12.18__ for computing simlilar users for __one user__\n",
    "    \n",
    "    \n",
    "- We have __405041 users__ with us in training set.\n",
    "\n",
    "\n",
    "- ${ 405041 \\times 12.18 ==== 4933399.38 \\sec } ====  82223.323 \\min ==== 1370.388716667 \\text{ hours}\n",
    "==== 57.099529861 \\text{ days}...$\n",
    "\n",
    "    - Even we run on 4 cores parallelly (a typical system now a days), It will still take almost __(14 - 15) __ days.\n",
    "\n",
    "- __Why did this happen...??__\n",
    "\n",
    "\n",
    "    - Just think about it. It's not that difficult.\n",
    "\n",
    "---------------------------------_( sparse & dense..................get it ?? )_-----------------------------------\n",
    "\n",
    "__Is there any other way to compute user user similarity..??__\n",
    "\n",
    "-An alternative is to compute similar users for a particular user,  whenenver required (**ie., Run time**)\n",
    "    - We maintain a binary Vector for users, which tells us whether we already computed or not..\n",
    "    - ***If not*** : \n",
    "        - Compute top (let's just say, 1000) most similar users for this given user, and add this to our datastructure, so that we can just access it(similar users) without recomputing it again.\n",
    "        - \n",
    "    - ***If It is already Computed***:\n",
    "        - Just get it directly from our datastructure, which has that information.\n",
    "        - In production time, We might have to recompute similarities, if it is computed a long time ago. Because user preferences changes over time. If we could maintain some kind of Timer, which when expires, we have to update it ( recompute it ). \n",
    "        - \n",
    "    - ***Which datastructure to use:***\n",
    "        - It is purely implementation dependant. \n",
    "        - One simple method is to maintain a **Dictionary Of Dictionaries**.\n",
    "            - \n",
    "            - **key    :** _userid_ \n",
    "            - __value__: _Again a dictionary_\n",
    "                - __key__  : _Similar User_\n",
    "                - __value__: _Similarity Value_\n",
    "                       \n",
    "<h3> 3.4.2 Computing Movie-Movie Similarity matrix </h3>"
   ]
  },
  {
   "cell_type": "code",
   "execution_count": 0,
   "metadata": {
    "colab": {},
    "colab_type": "code",
    "id": "TlOjs9mfpgbZ"
   },
   "outputs": [],
   "source": [
    "downloaded = drive.CreateFile({'id':'1TGnEzVnzqqGBxcjpEpVUfa7haqnXrexa'}) # replace the id with id of file you want to access\n",
    "downloaded.GetContentFile('m_m_sim_sparse.npz')"
   ]
  },
  {
   "cell_type": "code",
   "execution_count": 24,
   "metadata": {
    "colab": {},
    "colab_type": "code",
    "id": "MgvRfLK0pyI5"
   },
   "outputs": [
    {
     "name": "stdout",
     "output_type": "stream",
     "text": [
      "It seems you don't have that file. Computing movie_movie similarity...\n",
      "Done..\n",
      "Saving it to disk without the need of re-computing it again.. \n",
      "Done..\n",
      "It's a  (17771, 17771)  dimensional matrix\n",
      "0:08:52.634497\n"
     ]
    }
   ],
   "source": [
    "start = datetime.now()\n",
    "if not os.path.isfile('mm_m_sim_sparse.npz'):\n",
    "    print(\"It seems you don't have that file. Computing movie_movie similarity...\")\n",
    "    start = datetime.now()\n",
    "    m_m_sim_sparse = cosine_similarity(X=train_sparse_matrix.T, dense_output=False)\n",
    "    print(\"Done..\")\n",
    "    # store this sparse matrix in disk before using it. For future purposes.\n",
    "    print(\"Saving it to disk without the need of re-computing it again.. \")\n",
    "    sparse.save_npz(\"m_m_sim_sparse_new.npz\", m_m_sim_sparse)\n",
    "    print(\"Done..\")\n",
    "else:\n",
    "    print(\"It is there, We will get it.\")\n",
    "    m_m_sim_sparse = sparse.load_npz(\"m_m_sim_sparse.npz\")\n",
    "    print(\"Done ...\")\n",
    "\n",
    "print(\"It's a \",m_m_sim_sparse.shape,\" dimensional matrix\")\n",
    "\n",
    "print(datetime.now() - start)"
   ]
  },
  {
   "cell_type": "markdown",
   "metadata": {
    "colab_type": "text",
    "id": "-xXiwJeV5T3-"
   },
   "source": [
    "- Even though we have similarity measure of each movie, with all other movies, We generally don't care much about least similar movies.\n",
    "\n",
    "\n",
    "- Most of the times, only top_xxx similar items matters. It may be 10 or 100.\n",
    "\n",
    "\n",
    "- We take only those top similar movie ratings and store them  in a saperate dictionary."
   ]
  },
  {
   "cell_type": "code",
   "execution_count": 26,
   "metadata": {
    "colab": {},
    "colab_type": "code",
    "id": "W0beu4PDqExH"
   },
   "outputs": [],
   "source": [
    "movie_ids = np.unique(m_m_sim_sparse[:5000].nonzero()[1])"
   ]
  },
  {
   "cell_type": "code",
   "execution_count": 27,
   "metadata": {
    "colab": {},
    "colab_type": "code",
    "id": "WzazRg86qJHQ"
   },
   "outputs": [
    {
     "name": "stdout",
     "output_type": "stream",
     "text": [
      "0:00:29.980393\n"
     ]
    },
    {
     "data": {
      "text/plain": [
       "array([  694,  5302,  1084, 13586,  1173,  4181,  8800, 10656, 15648,\n",
       "       10257, 15100, 10495, 16892,  8408,  7302, 11914, 12125,  3029,\n",
       "       14182,  8664,  4057, 15192,  2403,  6939,  1248,  2850,  2754,\n",
       "       15284,  8842,  6178, 15543,  3229,  6009,  8103,   845, 12749,\n",
       "       16096,  6413,  1883,   221,  2720,  8233, 15159,  6491, 10139,\n",
       "       17291,  4100,  6781, 11861, 14378,  5534, 17447,   630,  8121,\n",
       "        1941, 17700,  8573,   588, 15123, 10056,  3279,   486, 17266,\n",
       "       17063,  8824,   541, 12356,  3377,  2447, 12354, 17613, 15872,\n",
       "        3081, 10482, 17670,  2794, 12697, 13891, 14184,  9722,  2912,\n",
       "       12990,  1651, 13430, 10760, 13878,  2459, 14072, 16507,   481,\n",
       "       15198, 12252,  8203, 15979, 14597, 11727, 14002,  7398, 12928,\n",
       "        3932])"
      ]
     },
     "execution_count": 27,
     "metadata": {},
     "output_type": "execute_result"
    }
   ],
   "source": [
    "start = datetime.now()\n",
    "similar_movies = dict()\n",
    "for movie in movie_ids:\n",
    "    # get the top similar movies and store them in the dictionary\n",
    "    sim_movies = m_m_sim_sparse[movie].toarray().ravel().argsort()[::-1][1:]\n",
    "    similar_movies[movie] = sim_movies[:100]\n",
    "print(datetime.now() - start)\n",
    "\n",
    "# just testing similar movies for movie_15\n",
    "similar_movies[1]"
   ]
  },
  {
   "cell_type": "markdown",
   "metadata": {
    "colab_type": "text",
    "id": "wFWo5uUgqSkN"
   },
   "source": [
    "<h3> 3.4.3 Finding most similar movies using similarity matrix </h3>\n",
    "\n",
    "__ Does Similarity really works as the way we expected...? __ <br>\n",
    "_Let's pick some random movie and check for its similar movies...._"
   ]
  },
  {
   "cell_type": "code",
   "execution_count": 28,
   "metadata": {
    "colab": {},
    "colab_type": "code",
    "id": "034cfjWHqUiN"
   },
   "outputs": [
    {
     "name": "stdout",
     "output_type": "stream",
     "text": [
      "Tokenization took: 25.31 ms\n",
      "Type conversion took: 9.82 ms\n",
      "Parser memory cleanup took: 0.01 ms\n"
     ]
    },
    {
     "data": {
      "text/html": [
       "<div>\n",
       "<style scoped>\n",
       "    .dataframe tbody tr th:only-of-type {\n",
       "        vertical-align: middle;\n",
       "    }\n",
       "\n",
       "    .dataframe tbody tr th {\n",
       "        vertical-align: top;\n",
       "    }\n",
       "\n",
       "    .dataframe thead th {\n",
       "        text-align: right;\n",
       "    }\n",
       "</style>\n",
       "<table border=\"1\" class=\"dataframe\">\n",
       "  <thead>\n",
       "    <tr style=\"text-align: right;\">\n",
       "      <th></th>\n",
       "      <th>year_of_release</th>\n",
       "      <th>title</th>\n",
       "    </tr>\n",
       "    <tr>\n",
       "      <th>movie_id</th>\n",
       "      <th></th>\n",
       "      <th></th>\n",
       "    </tr>\n",
       "  </thead>\n",
       "  <tbody>\n",
       "    <tr>\n",
       "      <th>1</th>\n",
       "      <td>2003.0</td>\n",
       "      <td>Dinosaur Planet</td>\n",
       "    </tr>\n",
       "    <tr>\n",
       "      <th>2</th>\n",
       "      <td>2004.0</td>\n",
       "      <td>Isle of Man TT 2004 Review</td>\n",
       "    </tr>\n",
       "    <tr>\n",
       "      <th>3</th>\n",
       "      <td>1997.0</td>\n",
       "      <td>Character</td>\n",
       "    </tr>\n",
       "    <tr>\n",
       "      <th>4</th>\n",
       "      <td>1994.0</td>\n",
       "      <td>Paula Abdul's Get Up &amp; Dance</td>\n",
       "    </tr>\n",
       "    <tr>\n",
       "      <th>5</th>\n",
       "      <td>2004.0</td>\n",
       "      <td>The Rise and Fall of ECW</td>\n",
       "    </tr>\n",
       "  </tbody>\n",
       "</table>\n",
       "</div>"
      ],
      "text/plain": [
       "          year_of_release                         title\n",
       "movie_id                                               \n",
       "1                  2003.0               Dinosaur Planet\n",
       "2                  2004.0    Isle of Man TT 2004 Review\n",
       "3                  1997.0                     Character\n",
       "4                  1994.0  Paula Abdul's Get Up & Dance\n",
       "5                  2004.0      The Rise and Fall of ECW"
      ]
     },
     "execution_count": 28,
     "metadata": {},
     "output_type": "execute_result"
    }
   ],
   "source": [
    "# First Let's load the movie details into soe dataframe..\n",
    "# movie details are in 'netflix/movie_titles.csv'\n",
    "\n",
    "movie_titles = pd.read_csv(\"movie_titles.csv\", sep=',', header = None,\n",
    "                           names=['movie_id', 'year_of_release', 'title'], verbose=True,\n",
    "                      index_col = 'movie_id', encoding = \"ISO-8859-1\")\n",
    "\n",
    "movie_titles.head()"
   ]
  },
  {
   "cell_type": "markdown",
   "metadata": {},
   "source": [
    "<p style='font-size:15px'><b>Similar Movies for 'Grind'</b></p>"
   ]
  },
  {
   "cell_type": "code",
   "execution_count": 29,
   "metadata": {},
   "outputs": [
    {
     "name": "stdout",
     "output_type": "stream",
     "text": [
      "\n",
      "Movie -----> Grind\n",
      "\n",
      "It has 199 Ratings from users.\n",
      "\n",
      "We have 17284 movies which are similar to this  and we will get only top most..\n"
     ]
    }
   ],
   "source": [
    "mv_id = 75\n",
    "\n",
    "print(\"\\nMovie ----->\",movie_titles.loc[mv_id].values[1])\n",
    "\n",
    "print(\"\\nIt has {} Ratings from users.\".format(train_sparse_matrix[:,mv_id].getnnz()))\n",
    "\n",
    "print(\"\\nWe have {} movies which are similar to this  and we will get only top most..\".format(m_m_sim_sparse[:,mv_id].getnnz()))"
   ]
  },
  {
   "cell_type": "code",
   "execution_count": 30,
   "metadata": {},
   "outputs": [],
   "source": [
    "similarities = m_m_sim_sparse[mv_id].toarray().ravel()\n",
    "\n",
    "similar_indices = similarities.argsort()[::-1][1:]\n",
    "\n",
    "similarities[similar_indices]\n",
    "\n",
    "sim_indices = similarities.argsort()[::-1][1:] # It will sort and reverse the array and ignore its similarity (ie.,1)\n",
    "                                               # and return its indices(movie_ids)"
   ]
  },
  {
   "cell_type": "code",
   "execution_count": 31,
   "metadata": {},
   "outputs": [
    {
     "data": {
      "image/png": "[encoded data removed]",
      "text/plain": [
       "<Figure size 432x288 with 1 Axes>"
      ]
     },
     "metadata": {},
     "output_type": "display_data"
    }
   ],
   "source": [
    "plt.plot(similarities[sim_indices], label='All the ratings')\n",
    "plt.plot(similarities[sim_indices[:100]], label='top 100 similar movies')\n",
    "plt.title(\"Similar Movies of {}(movie_id)\".format(mv_id), fontsize=20)\n",
    "plt.xlabel(\"Movies (Not Movie_Ids)\", fontsize=15)\n",
    "plt.ylabel(\"Cosine Similarity\",fontsize=15)\n",
    "plt.legend()\n",
    "plt.show()"
   ]
  },
  {
   "cell_type": "code",
   "execution_count": 32,
   "metadata": {},
   "outputs": [
    {
     "data": {
      "text/html": [
       "<div>\n",
       "<style scoped>\n",
       "    .dataframe tbody tr th:only-of-type {\n",
       "        vertical-align: middle;\n",
       "    }\n",
       "\n",
       "    .dataframe tbody tr th {\n",
       "        vertical-align: top;\n",
       "    }\n",
       "\n",
       "    .dataframe thead th {\n",
       "        text-align: right;\n",
       "    }\n",
       "</style>\n",
       "<table border=\"1\" class=\"dataframe\">\n",
       "  <thead>\n",
       "    <tr style=\"text-align: right;\">\n",
       "      <th></th>\n",
       "      <th>year_of_release</th>\n",
       "      <th>title</th>\n",
       "    </tr>\n",
       "    <tr>\n",
       "      <th>movie_id</th>\n",
       "      <th></th>\n",
       "      <th></th>\n",
       "    </tr>\n",
       "  </thead>\n",
       "  <tbody>\n",
       "    <tr>\n",
       "      <th>15102</th>\n",
       "      <td>2002.0</td>\n",
       "      <td>World Traveler</td>\n",
       "    </tr>\n",
       "    <tr>\n",
       "      <th>7275</th>\n",
       "      <td>1999.0</td>\n",
       "      <td>Waking the Dead</td>\n",
       "    </tr>\n",
       "    <tr>\n",
       "      <th>6798</th>\n",
       "      <td>2005.0</td>\n",
       "      <td>The Mummy an' the Armadillo</td>\n",
       "    </tr>\n",
       "    <tr>\n",
       "      <th>13596</th>\n",
       "      <td>1998.0</td>\n",
       "      <td>Monument Ave.</td>\n",
       "    </tr>\n",
       "    <tr>\n",
       "      <th>9867</th>\n",
       "      <td>2002.0</td>\n",
       "      <td>Fairly Oddparents: Scary Godparents</td>\n",
       "    </tr>\n",
       "    <tr>\n",
       "      <th>6796</th>\n",
       "      <td>2000.0</td>\n",
       "      <td>Jesus' Son</td>\n",
       "    </tr>\n",
       "    <tr>\n",
       "      <th>17183</th>\n",
       "      <td>2005.0</td>\n",
       "      <td>King of the Corner</td>\n",
       "    </tr>\n",
       "    <tr>\n",
       "      <th>5715</th>\n",
       "      <td>2004.0</td>\n",
       "      <td>Phil of the Future: Gadgets and Gizmos</td>\n",
       "    </tr>\n",
       "    <tr>\n",
       "      <th>14901</th>\n",
       "      <td>1994.0</td>\n",
       "      <td>Guinevere</td>\n",
       "    </tr>\n",
       "    <tr>\n",
       "      <th>15906</th>\n",
       "      <td>1997.0</td>\n",
       "      <td>Keys to Tulsa</td>\n",
       "    </tr>\n",
       "  </tbody>\n",
       "</table>\n",
       "</div>"
      ],
      "text/plain": [
       "          year_of_release                                   title\n",
       "movie_id                                                         \n",
       "15102              2002.0                          World Traveler\n",
       "7275               1999.0                         Waking the Dead\n",
       "6798               2005.0             The Mummy an' the Armadillo\n",
       "13596              1998.0                           Monument Ave.\n",
       "9867               2002.0     Fairly Oddparents: Scary Godparents\n",
       "6796               2000.0                              Jesus' Son\n",
       "17183              2005.0                      King of the Corner\n",
       "5715               2004.0  Phil of the Future: Gadgets and Gizmos\n",
       "14901              1994.0                               Guinevere\n",
       "15906              1997.0                           Keys to Tulsa"
      ]
     },
     "execution_count": 32,
     "metadata": {},
     "output_type": "execute_result"
    }
   ],
   "source": [
    "movie_titles.loc[sim_indices[:10]]"
   ]
  },
  {
   "cell_type": "markdown",
   "metadata": {},
   "source": [
    " > Similarly, we can ___find similar users___ and compare how similar they are. \n",
    "    \n",
    " <h1> 4.  Machine Learning Models </h1>"
   ]
  },
  {
   "cell_type": "markdown",
   "metadata": {},
   "source": [
    "<img src='models.jpg' width=500px>"
   ]
  },
  {
   "cell_type": "code",
   "execution_count": 34,
   "metadata": {
    "colab": {},
    "colab_type": "code",
    "id": "3tPWM4dtjoVu"
   },
   "outputs": [],
   "source": [
    "def get_sample_sparse_matrix(sparse_matrix, no_users, no_movies, path, verbose = True):\n",
    "    \"\"\"\n",
    "        It will get it from the ''path'' if it is present  or It will create \n",
    "        and store the sampled sparse matrix in the path specified.\n",
    "    \"\"\"\n",
    "\n",
    "    # get (row, col) and (rating) tuple from sparse_matrix...\n",
    "    row_ind, col_ind, ratings = sparse.find(sparse_matrix)\n",
    "    users = np.unique(row_ind)\n",
    "    movies = np.unique(col_ind)\n",
    "\n",
    "    print(\"Original Matrix : (users, movies) -- ({} {})\".format(len(users), len(movies)))\n",
    "    print(\"Original Matrix : Ratings -- {}\\n\".format(len(ratings)))\n",
    "\n",
    "    # It just to make sure to get same sample everytime we run this program..\n",
    "    # and pick without replacement....\n",
    "    np.random.seed(15)\n",
    "    sample_users = np.random.choice(users, no_users, replace=False)\n",
    "    sample_movies = np.random.choice(movies, no_movies, replace=False)\n",
    "    # get the boolean mask or these sampled_items in originl row/col_inds..\n",
    "    mask = np.logical_and( np.isin(row_ind, sample_users),\n",
    "                      np.isin(col_ind, sample_movies) )\n",
    "    \n",
    "    sample_sparse_matrix = sparse.csr_matrix((ratings[mask], (row_ind[mask], col_ind[mask])),\n",
    "                                             shape=(max(sample_users)+1, max(sample_movies)+1))\n",
    "\n",
    "    if verbose:\n",
    "        print(\"Sampled Matrix : (users, movies) -- ({} {})\".format(len(sample_users), len(sample_movies)))\n",
    "        print(\"Sampled Matrix : Ratings --\", format(ratings[mask].shape[0]))\n",
    "\n",
    "    print('Saving it into disk for furthur usage..')\n",
    "    # save it into disk\n",
    "    sparse.save_npz(path, sample_sparse_matrix)\n",
    "    if verbose:\n",
    "            print('Done..\\n')\n",
    "    \n",
    "    return sample_sparse_matrix"
   ]
  },
  {
   "cell_type": "markdown",
   "metadata": {},
   "source": [
    "<h2> 4.1 Sampling Data </h2>\n",
    "\n",
    "<h3>4.1.1 Build sample train data from the train data</h3>"
   ]
  },
  {
   "cell_type": "code",
   "execution_count": 35,
   "metadata": {
    "colab": {
     "base_uri": "https://localhost:8080/",
     "height": 170
    },
    "colab_type": "code",
    "executionInfo": {
     "elapsed": 517809,
     "status": "ok",
     "timestamp": 1575618196066,
     "user": {
      "displayName": "Bharat Kumar",
      "photoUrl": "",
      "userId": "11978287233199522831"
     },
     "user_tz": -330
    },
    "id": "-n_lE_8E5Wc8",
    "outputId": "06295572-6a55-400e-a2c0-3c1a28bac745"
   },
   "outputs": [
    {
     "name": "stdout",
     "output_type": "stream",
     "text": [
      "It is present in your pwd, getting it from disk....\n",
      "DONE..\n",
      "0:00:00.152976\n"
     ]
    }
   ],
   "source": [
    "start = datetime.now()\n",
    "path = \"sample_train_sparse_matrix_new.npz\"\n",
    "if os.path.isfile(path):\n",
    "    print(\"It is present in your pwd, getting it from disk....\")\n",
    "    # just get it from the disk instead of computing it\n",
    "    sample_train_sparse_matrix = sparse.load_npz(path)\n",
    "    print(\"DONE..\")\n",
    "else: \n",
    "    # get 25k users and 5k movies from available data \n",
    "    sample_train_sparse_matrix= get_sample_sparse_matrix(train_sparse_matrix, no_users=20000, no_movies=2000, path= path)\n",
    "\n",
    "print(datetime.now() - start)"
   ]
  },
  {
   "cell_type": "markdown",
   "metadata": {},
   "source": [
    "<h3>4.1.2 Build sample test data from the test data</h3>"
   ]
  },
  {
   "cell_type": "code",
   "execution_count": 36,
   "metadata": {
    "colab": {
     "base_uri": "https://localhost:8080/",
     "height": 170
    },
    "colab_type": "code",
    "executionInfo": {
     "elapsed": 532742,
     "status": "ok",
     "timestamp": 1575618211088,
     "user": {
      "displayName": "Bharat Kumar",
      "photoUrl": "",
      "userId": "11978287233199522831"
     },
     "user_tz": -330
    },
    "id": "viowJVlBj0jg",
    "outputId": "42bc49f0-32b4-4f32-96c1-35ee30925016"
   },
   "outputs": [
    {
     "name": "stdout",
     "output_type": "stream",
     "text": [
      "It is present in your pwd, getting it from disk....\n",
      "DONE..\n",
      "0:00:00.116590\n"
     ]
    }
   ],
   "source": [
    "start = datetime.now()\n",
    "\n",
    "path = \"sample_test_sparse_matrix_new.npz\"\n",
    "if os.path.isfile(path):\n",
    "    print(\"It is present in your pwd, getting it from disk....\")\n",
    "    # just get it from the disk instead of computing it\n",
    "    sample_test_sparse_matrix = sparse.load_npz(path)\n",
    "    print(\"DONE..\")\n",
    "else:\n",
    "    # get 10k users and 2.5k movies from available data \n",
    "    sample_test_sparse_matrix = get_sample_sparse_matrix(test_sparse_matrix, no_users=10000, no_movies=1000, path = path)\n",
    "print(datetime.now() - start)"
   ]
  },
  {
   "cell_type": "markdown",
   "metadata": {},
   "source": [
    "<h2>4.2 Finding Global Average of all movie ratings, Average rating per User, and Average rating per Movie (from sampled train)</h2>"
   ]
  },
  {
   "cell_type": "code",
   "execution_count": 37,
   "metadata": {},
   "outputs": [],
   "source": [
    "sample_train_averages = dict()"
   ]
  },
  {
   "cell_type": "markdown",
   "metadata": {},
   "source": [
    "<h3>4.2.1 Finding Global Average of all movie ratings</h3>"
   ]
  },
  {
   "cell_type": "code",
   "execution_count": 38,
   "metadata": {},
   "outputs": [
    {
     "data": {
      "text/plain": [
       "{'global': 3.5915725873941238}"
      ]
     },
     "execution_count": 38,
     "metadata": {},
     "output_type": "execute_result"
    }
   ],
   "source": [
    "# get the global average of ratings in our train set.\n",
    "global_average = sample_train_sparse_matrix.sum()/sample_train_sparse_matrix.count_nonzero()\n",
    "sample_train_averages['global'] = global_average\n",
    "sample_train_averages"
   ]
  },
  {
   "cell_type": "markdown",
   "metadata": {},
   "source": [
    "<h3>4.2.2 Finding Average rating per User</h3>"
   ]
  },
  {
   "cell_type": "code",
   "execution_count": 39,
   "metadata": {},
   "outputs": [
    {
     "name": "stdout",
     "output_type": "stream",
     "text": [
      "\n",
      "Average rating of user 917517 : 3.235294117647059\n"
     ]
    }
   ],
   "source": [
    "sample_train_averages['user'] = get_average_ratings(sample_train_sparse_matrix, of_users=True)\n",
    "print('\\nAverage rating of user 917517 :',sample_train_averages['user'][917517])"
   ]
  },
  {
   "cell_type": "markdown",
   "metadata": {},
   "source": [
    "<h3>4.2.3 Finding Average rating per Movie</h3>"
   ]
  },
  {
   "cell_type": "code",
   "execution_count": 40,
   "metadata": {},
   "outputs": [
    {
     "name": "stdout",
     "output_type": "stream",
     "text": [
      "\n",
      " AVerage rating of movie 16094 : 2.9477611940298507\n"
     ]
    }
   ],
   "source": [
    "sample_train_averages['movie'] =  get_average_ratings(sample_train_sparse_matrix, of_users=False)\n",
    "print('\\n AVerage rating of movie 16094 :',sample_train_averages['movie'][16094])"
   ]
  },
  {
   "cell_type": "markdown",
   "metadata": {},
   "source": [
    "<h2> 4.3 Featurizing data </h2>"
   ]
  },
  {
   "cell_type": "code",
   "execution_count": 41,
   "metadata": {},
   "outputs": [
    {
     "name": "stdout",
     "output_type": "stream",
     "text": [
      "\n",
      " No of ratings in Our Sampled train matrix is : 848398\n",
      "\n",
      "\n",
      " No of ratings in Our Sampled test  matrix is : 73804\n",
      "\n"
     ]
    }
   ],
   "source": [
    "print('\\n No of ratings in Our Sampled train matrix is : {}\\n'.format(sample_train_sparse_matrix.count_nonzero()))\n",
    "print('\\n No of ratings in Our Sampled test  matrix is : {}\\n'.format(sample_test_sparse_matrix.count_nonzero()))"
   ]
  },
  {
   "cell_type": "markdown",
   "metadata": {},
   "source": [
    "<h3> 4.3.1 Featurizing data for regression problem </h3>\n",
    "\n",
    "<h4> 4.3.1.1 Featurizing train data </h4>"
   ]
  },
  {
   "cell_type": "code",
   "execution_count": 42,
   "metadata": {
    "colab": {},
    "colab_type": "code",
    "id": "rT_uN3AWjDU6"
   },
   "outputs": [],
   "source": [
    "# get users, movies and ratings from our samples train sparse matrix\n",
    "sample_train_users, sample_train_movies, sample_train_ratings = sparse.find(sample_train_sparse_matrix)"
   ]
  },
  {
   "cell_type": "code",
   "execution_count": 43,
   "metadata": {
    "colab": {},
    "colab_type": "code",
    "id": "bCIyC7-MlRlw"
   },
   "outputs": [],
   "source": [
    "# get the user averages in dictionary (key: user_id/movie_id, value: avg rating)\n",
    "\n",
    "def get_average_ratings(sparse_matrix, of_users):\n",
    "    \n",
    "    # average ratings of user/axes\n",
    "    ax = 1 if of_users else 0 # 1 - User axes,0 - Movie axes\n",
    "\n",
    "    # \".A1\" is for converting Column_Matrix to 1-D numpy array \n",
    "    sum_of_ratings = sparse_matrix.sum(axis=ax).A1\n",
    "    # Boolean matrix of ratings ( whether a user rated that movie or not)\n",
    "    is_rated = sparse_matrix!=0\n",
    "    # no of ratings that each user OR movie..\n",
    "    no_of_ratings = is_rated.sum(axis=ax).A1\n",
    "    \n",
    "    # max_user  and max_movie ids in sparse matrix \n",
    "    u,m = sparse_matrix.shape\n",
    "    # creae a dictonary of users and their average ratigns..\n",
    "    average_ratings = { i : sum_of_ratings[i]/no_of_ratings[i]\n",
    "                                 for i in range(u if of_users else m) \n",
    "                                    if no_of_ratings[i] !=0}\n",
    "\n",
    "    # return that dictionary of average ratings\n",
    "    return average_ratings"
   ]
  },
  {
   "cell_type": "code",
   "execution_count": 27,
   "metadata": {
    "colab": {
     "base_uri": "https://localhost:8080/",
     "height": 204
    },
    "colab_type": "code",
    "executionInfo": {
     "elapsed": 533102,
     "status": "ok",
     "timestamp": 1575618211635,
     "user": {
      "displayName": "Bharat Kumar",
      "photoUrl": "",
      "userId": "11978287233199522831"
     },
     "user_tz": -330
    },
    "id": "Lvk9mF6tk2dq",
    "outputId": "d1d58b18-bf43-4e6e-f545-74566779bf5b"
   },
   "outputs": [
    {
     "name": "stdout",
     "output_type": "stream",
     "text": [
      "sample train averages:  {'global': 3.570537458659482}\n",
      "\n",
      "Average rating of user 917517 : 3.090909090909091\n",
      "\n",
      " AVerage rating of movie 16094 : 2.882978723404255\n",
      "\n",
      " No of ratings in Our Sampled train matrix is : 469878\n",
      "\n",
      "\n",
      " No of ratings in Our Sampled test  matrix is : 36017\n",
      "\n"
     ]
    }
   ],
   "source": [
    "sample_train_averages = dict()\n",
    "\n",
    "# get the global average of ratings in our train set.\n",
    "global_average = sample_train_sparse_matrix.sum()/sample_train_sparse_matrix.count_nonzero()\n",
    "sample_train_averages['global'] = global_average\n",
    "print('sample train averages: ', sample_train_averages)\n",
    "\n",
    "sample_train_averages['user'] = get_average_ratings(sample_train_sparse_matrix, of_users=True)\n",
    "print('\\nAverage rating of user 917517 :',sample_train_averages['user'][917517])\n",
    "\n",
    "sample_train_averages['movie'] =  get_average_ratings(sample_train_sparse_matrix, of_users=False)\n",
    "print('\\n AVerage rating of movie 16094 :',sample_train_averages['movie'][16094])\n",
    "\n",
    "print('\\n No of ratings in Our Sampled train matrix is : {}\\n'.format(sample_train_sparse_matrix.count_nonzero()))\n",
    "print('\\n No of ratings in Our Sampled test  matrix is : {}\\n'.format(sample_test_sparse_matrix.count_nonzero()))"
   ]
  },
  {
   "cell_type": "code",
   "execution_count": 0,
   "metadata": {
    "colab": {},
    "colab_type": "code",
    "id": "iQZCVZri8liJ"
   },
   "outputs": [],
   "source": [
    "downloaded = drive.CreateFile({'id':'151IDv7Jm1bIV9fQvEchRJxrocar-Azis'}) # replace the id with id of file you want to access\n",
    "downloaded.GetContentFile('reg_train.csv')\n",
    "downloaded = drive.CreateFile({'id':'19tc7aowmstZh5npl3DL8dIl-V1zO0Bom'}) # replace the id with id of file you want to access\n",
    "downloaded.GetContentFile('reg_test.csv')"
   ]
  },
  {
   "cell_type": "code",
   "execution_count": 44,
   "metadata": {
    "colab": {
     "base_uri": "https://localhost:8080/",
     "height": 51
    },
    "colab_type": "code",
    "executionInfo": {
     "elapsed": 536095,
     "status": "ok",
     "timestamp": 1575618214742,
     "user": {
      "displayName": "Bharat Kumar",
      "photoUrl": "",
      "userId": "11978287233199522831"
     },
     "user_tz": -330
    },
    "id": "EyrScxxVklle",
    "outputId": "523d8352-8ca2-41fe-9a43-d801d89ff72b"
   },
   "outputs": [
    {
     "name": "stdout",
     "output_type": "stream",
     "text": [
      "File already exists you don't have to prepare again...\n",
      "0:00:00.000733\n"
     ]
    }
   ],
   "source": [
    "############################################################\n",
    "# It took me almost 10 hours to prepare this train dataset.#\n",
    "############################################################\n",
    "\n",
    "start = datetime.now()\n",
    "if os.path.isfile('reg_train_jitu.csv'):\n",
    "    print(\"File already exists you don't have to prepare again...\" )\n",
    "else:\n",
    "    print('preparing {} tuples for the dataset..\\n'.format(len(sample_train_ratings)))\n",
    "    with open('reg_train_new.csv', mode='w') as reg_data_file:\n",
    "        count = 0\n",
    "        for (user, movie, rating)  in zip(sample_train_users, sample_train_movies, sample_train_ratings):\n",
    "            st = datetime.now()\n",
    "        #     print(user, movie)    \n",
    "            #--------------------- Ratings of \"movie\" by similar users of \"user\" ---------------------\n",
    "            # compute the similar Users of the \"user\"        \n",
    "            user_sim = cosine_similarity(sample_train_sparse_matrix[user], sample_train_sparse_matrix).ravel()\n",
    "            top_sim_users = user_sim.argsort()[::-1][1:] # we are ignoring 'The User' from its similar users.\n",
    "            # get the ratings of most similar users for this movie\n",
    "            top_ratings = sample_train_sparse_matrix[top_sim_users, movie].toarray().ravel()\n",
    "            # we will make it's length \"5\" by adding movie averages to .\n",
    "            top_sim_users_ratings = list(top_ratings[top_ratings != 0][:5])\n",
    "            top_sim_users_ratings.extend([sample_train_averages['movie'][movie]]*(5 - len(top_sim_users_ratings)))\n",
    "        #     print(top_sim_users_ratings, end=\" \")    \n",
    "\n",
    "\n",
    "            #--------------------- Ratings by \"user\"  to similar movies of \"movie\" ---------------------\n",
    "            # compute the similar movies of the \"movie\"        \n",
    "            movie_sim = cosine_similarity(sample_train_sparse_matrix[:,movie].T, sample_train_sparse_matrix.T).ravel()\n",
    "            top_sim_movies = movie_sim.argsort()[::-1][1:] # we are ignoring 'The User' from its similar users.\n",
    "            # get the ratings of most similar movie rated by this user..\n",
    "            top_ratings = sample_train_sparse_matrix[user, top_sim_movies].toarray().ravel()\n",
    "            # we will make it's length \"5\" by adding user averages to.\n",
    "            top_sim_movies_ratings = list(top_ratings[top_ratings != 0][:5])\n",
    "            top_sim_movies_ratings.extend([sample_train_averages['user'][user]]*(5-len(top_sim_movies_ratings))) \n",
    "        #     print(top_sim_movies_ratings, end=\" : -- \")\n",
    "\n",
    "            #-----------------prepare the row to be stores in a file-----------------#\n",
    "            row = list()\n",
    "            row.append(user)\n",
    "            row.append(movie)\n",
    "            # Now add the other features to this data...\n",
    "            row.append(sample_train_averages['global']) # first feature\n",
    "            # next 5 features are similar_users \"movie\" ratings\n",
    "            row.extend(top_sim_users_ratings)\n",
    "            # next 5 features are \"user\" ratings for similar_movies\n",
    "            row.extend(top_sim_movies_ratings)\n",
    "            # Avg_user rating\n",
    "            row.append(sample_train_averages['user'][user])\n",
    "            # Avg_movie rating\n",
    "            row.append(sample_train_averages['movie'][movie])\n",
    "\n",
    "            # finally, The actual Rating of this user-movie pair...\n",
    "            row.append(rating)\n",
    "            count = count + 1\n",
    "\n",
    "            # add rows to the file opened..\n",
    "            reg_data_file.write(','.join(map(str, row)))\n",
    "            reg_data_file.write('\\n')        \n",
    "            if (count)%10000 == 0:\n",
    "                # print(','.join(map(str, row)))\n",
    "                print(\"Done for {} rows----- {}\".format(count, datetime.now() - start))\n",
    "\n",
    "\n",
    "print(datetime.now() - start)"
   ]
  },
  {
   "cell_type": "code",
   "execution_count": 51,
   "metadata": {
    "colab": {
     "base_uri": "https://localhost:8080/",
     "height": 204
    },
    "colab_type": "code",
    "executionInfo": {
     "elapsed": 536570,
     "status": "ok",
     "timestamp": 1575618215307,
     "user": {
      "displayName": "Bharat Kumar",
      "photoUrl": "",
      "userId": "11978287233199522831"
     },
     "user_tz": -330
    },
    "id": "Acy-Rx6T9mZU",
    "outputId": "1fad35d3-30b3-4e3e-8967-8c590f704ddc"
   },
   "outputs": [
    {
     "data": {
      "text/html": [
       "<div>\n",
       "<style scoped>\n",
       "    .dataframe tbody tr th:only-of-type {\n",
       "        vertical-align: middle;\n",
       "    }\n",
       "\n",
       "    .dataframe tbody tr th {\n",
       "        vertical-align: top;\n",
       "    }\n",
       "\n",
       "    .dataframe thead th {\n",
       "        text-align: right;\n",
       "    }\n",
       "</style>\n",
       "<table border=\"1\" class=\"dataframe\">\n",
       "  <thead>\n",
       "    <tr style=\"text-align: right;\">\n",
       "      <th></th>\n",
       "      <th>user</th>\n",
       "      <th>movie</th>\n",
       "      <th>GAvg</th>\n",
       "      <th>sur1</th>\n",
       "      <th>sur2</th>\n",
       "      <th>sur3</th>\n",
       "      <th>sur4</th>\n",
       "      <th>sur5</th>\n",
       "      <th>smr1</th>\n",
       "      <th>smr2</th>\n",
       "      <th>smr3</th>\n",
       "      <th>smr4</th>\n",
       "      <th>smr5</th>\n",
       "      <th>UAvg</th>\n",
       "      <th>MAvg</th>\n",
       "      <th>rating</th>\n",
       "    </tr>\n",
       "  </thead>\n",
       "  <tbody>\n",
       "    <tr>\n",
       "      <th>0</th>\n",
       "      <td>174683</td>\n",
       "      <td>10</td>\n",
       "      <td>3.587581</td>\n",
       "      <td>5.0</td>\n",
       "      <td>5.0</td>\n",
       "      <td>3.0</td>\n",
       "      <td>4.0</td>\n",
       "      <td>4.0</td>\n",
       "      <td>3.0</td>\n",
       "      <td>5.0</td>\n",
       "      <td>4.0</td>\n",
       "      <td>3.0</td>\n",
       "      <td>2.0</td>\n",
       "      <td>3.882353</td>\n",
       "      <td>3.611111</td>\n",
       "      <td>5</td>\n",
       "    </tr>\n",
       "    <tr>\n",
       "      <th>1</th>\n",
       "      <td>233949</td>\n",
       "      <td>10</td>\n",
       "      <td>3.587581</td>\n",
       "      <td>4.0</td>\n",
       "      <td>4.0</td>\n",
       "      <td>5.0</td>\n",
       "      <td>1.0</td>\n",
       "      <td>3.0</td>\n",
       "      <td>2.0</td>\n",
       "      <td>3.0</td>\n",
       "      <td>2.0</td>\n",
       "      <td>3.0</td>\n",
       "      <td>3.0</td>\n",
       "      <td>2.692308</td>\n",
       "      <td>3.611111</td>\n",
       "      <td>3</td>\n",
       "    </tr>\n",
       "    <tr>\n",
       "      <th>2</th>\n",
       "      <td>555770</td>\n",
       "      <td>10</td>\n",
       "      <td>3.587581</td>\n",
       "      <td>4.0</td>\n",
       "      <td>5.0</td>\n",
       "      <td>4.0</td>\n",
       "      <td>4.0</td>\n",
       "      <td>5.0</td>\n",
       "      <td>4.0</td>\n",
       "      <td>2.0</td>\n",
       "      <td>5.0</td>\n",
       "      <td>4.0</td>\n",
       "      <td>4.0</td>\n",
       "      <td>3.795455</td>\n",
       "      <td>3.611111</td>\n",
       "      <td>4</td>\n",
       "    </tr>\n",
       "    <tr>\n",
       "      <th>3</th>\n",
       "      <td>767518</td>\n",
       "      <td>10</td>\n",
       "      <td>3.587581</td>\n",
       "      <td>2.0</td>\n",
       "      <td>5.0</td>\n",
       "      <td>4.0</td>\n",
       "      <td>4.0</td>\n",
       "      <td>3.0</td>\n",
       "      <td>5.0</td>\n",
       "      <td>5.0</td>\n",
       "      <td>4.0</td>\n",
       "      <td>4.0</td>\n",
       "      <td>3.0</td>\n",
       "      <td>3.884615</td>\n",
       "      <td>3.611111</td>\n",
       "      <td>5</td>\n",
       "    </tr>\n",
       "    <tr>\n",
       "      <th>4</th>\n",
       "      <td>894393</td>\n",
       "      <td>10</td>\n",
       "      <td>3.587581</td>\n",
       "      <td>3.0</td>\n",
       "      <td>5.0</td>\n",
       "      <td>4.0</td>\n",
       "      <td>4.0</td>\n",
       "      <td>3.0</td>\n",
       "      <td>4.0</td>\n",
       "      <td>4.0</td>\n",
       "      <td>4.0</td>\n",
       "      <td>4.0</td>\n",
       "      <td>4.0</td>\n",
       "      <td>4.000000</td>\n",
       "      <td>3.611111</td>\n",
       "      <td>4</td>\n",
       "    </tr>\n",
       "  </tbody>\n",
       "</table>\n",
       "</div>"
      ],
      "text/plain": [
       "     user  movie      GAvg  sur1  sur2  sur3  sur4  sur5  smr1  smr2  smr3  \\\n",
       "0  174683     10  3.587581   5.0   5.0   3.0   4.0   4.0   3.0   5.0   4.0   \n",
       "1  233949     10  3.587581   4.0   4.0   5.0   1.0   3.0   2.0   3.0   2.0   \n",
       "2  555770     10  3.587581   4.0   5.0   4.0   4.0   5.0   4.0   2.0   5.0   \n",
       "3  767518     10  3.587581   2.0   5.0   4.0   4.0   3.0   5.0   5.0   4.0   \n",
       "4  894393     10  3.587581   3.0   5.0   4.0   4.0   3.0   4.0   4.0   4.0   \n",
       "\n",
       "   smr4  smr5      UAvg      MAvg  rating  \n",
       "0   3.0   2.0  3.882353  3.611111       5  \n",
       "1   3.0   3.0  2.692308  3.611111       3  \n",
       "2   4.0   4.0  3.795455  3.611111       4  \n",
       "3   4.0   3.0  3.884615  3.611111       5  \n",
       "4   4.0   4.0  4.000000  3.611111       4  "
      ]
     },
     "execution_count": 51,
     "metadata": {},
     "output_type": "execute_result"
    }
   ],
   "source": [
    "reg_train_new = pd.read_csv('reg_train_jitu.csv', names = ['user', 'movie', 'GAvg', 'sur1', 'sur2', 'sur3', 'sur4', 'sur5',\n",
    "                                                          'smr1', 'smr2', 'smr3', 'smr4', 'smr5', 'UAvg', 'MAvg', 'rating'],\n",
    "                            header=None)\n",
    "reg_train_new.head()"
   ]
  },
  {
   "cell_type": "code",
   "execution_count": 52,
   "metadata": {
    "colab": {
     "base_uri": "https://localhost:8080/",
     "height": 34
    },
    "colab_type": "code",
    "executionInfo": {
     "elapsed": 536475,
     "status": "ok",
     "timestamp": 1575618215312,
     "user": {
      "displayName": "Bharat Kumar",
      "photoUrl": "",
      "userId": "11978287233199522831"
     },
     "user_tz": -330
    },
    "id": "pYq9Z3pp_Kwq",
    "outputId": "534183ab-3723-412f-8e3a-0e408169f010"
   },
   "outputs": [
    {
     "data": {
      "text/plain": [
       "(856986, 16)"
      ]
     },
     "execution_count": 52,
     "metadata": {},
     "output_type": "execute_result"
    }
   ],
   "source": [
    "reg_train_new.shape"
   ]
  },
  {
   "cell_type": "markdown",
   "metadata": {
    "colab_type": "text",
    "id": "lPLr8Q63_Or-"
   },
   "source": [
    "-----------------------\n",
    "\n",
    "- __GAvg__ : Average rating of all the ratings \n",
    "\n",
    "\n",
    "- __Similar users rating of this movie__:\n",
    "    - sur1, sur2, sur3, sur4, sur5 ( top 5 similar users who rated that movie.. )\n",
    "    \n",
    "\n",
    "\n",
    "- __Similar movies rated by this user__:\n",
    "    - smr1, smr2, smr3, smr4, smr5 ( top 5 similar movies rated by this movie.. )\n",
    "\n",
    "\n",
    "- __UAvg__ : User's Average rating\n",
    "\n",
    "\n",
    "- __MAvg__ : Average rating of this movie\n",
    "\n",
    "\n",
    "- __rating__ : Rating of this movie by this user.\n",
    "\n",
    "-----------------------\n",
    "<h4> 4.3.1.2 Featurizing test data </h4>"
   ]
  },
  {
   "cell_type": "code",
   "execution_count": 47,
   "metadata": {
    "colab": {},
    "colab_type": "code",
    "id": "TGf6Itny_Tng"
   },
   "outputs": [],
   "source": [
    "# get users, movies and ratings from the Sampled Test \n",
    "sample_test_users, sample_test_movies, sample_test_ratings = sparse.find(sample_test_sparse_matrix)"
   ]
  },
  {
   "cell_type": "code",
   "execution_count": 49,
   "metadata": {
    "colab": {
     "base_uri": "https://localhost:8080/",
     "height": 34
    },
    "colab_type": "code",
    "executionInfo": {
     "elapsed": 536306,
     "status": "ok",
     "timestamp": 1575618215325,
     "user": {
      "displayName": "Bharat Kumar",
      "photoUrl": "",
      "userId": "11978287233199522831"
     },
     "user_tz": -330
    },
    "id": "XYIGTvr8_YFr",
    "outputId": "2c61f900-d4d3-45d0-f124-30f96489cd0a"
   },
   "outputs": [
    {
     "name": "stdout",
     "output_type": "stream",
     "text": [
      "It is already created...\n"
     ]
    }
   ],
   "source": [
    "# Used the file provided by another aaic student.\n",
    "\n",
    "start = datetime.now()\n",
    "\n",
    "if os.path.isfile('reg_test_jitu.csv'):\n",
    "    print(\"It is already created...\")\n",
    "else:\n",
    "\n",
    "    print('preparing {} tuples for the dataset..\\n'.format(len(sample_test_ratings)))\n",
    "    with open('sample/small/reg_test.csv', mode='w') as reg_data_file:\n",
    "        count = 0 \n",
    "        for (user, movie, rating)  in zip(sample_test_users, sample_test_movies, sample_test_ratings):\n",
    "            st = datetime.now()\n",
    "\n",
    "        #--------------------- Ratings of \"movie\" by similar users of \"user\" ---------------------\n",
    "            #print(user, movie)\n",
    "            try:\n",
    "                # compute the similar Users of the \"user\"        \n",
    "                user_sim = cosine_similarity(sample_train_sparse_matrix[user], sample_train_sparse_matrix).ravel()\n",
    "                top_sim_users = user_sim.argsort()[::-1][1:] # we are ignoring 'The User' from its similar users.\n",
    "                # get the ratings of most similar users for this movie\n",
    "                top_ratings = sample_train_sparse_matrix[top_sim_users, movie].toarray().ravel()\n",
    "                # we will make it's length \"5\" by adding movie averages to .\n",
    "                top_sim_users_ratings = list(top_ratings[top_ratings != 0][:5])\n",
    "                top_sim_users_ratings.extend([sample_train_averages['movie'][movie]]*(5 - len(top_sim_users_ratings)))\n",
    "                # print(top_sim_users_ratings, end=\"--\")\n",
    "\n",
    "            except (IndexError, KeyError):\n",
    "                # It is a new User or new Movie or there are no ratings for given user for top similar movies...\n",
    "                ########## Cold STart Problem ##########\n",
    "                top_sim_users_ratings.extend([sample_train_averages['global']]*(5 - len(top_sim_users_ratings)))\n",
    "                #print(top_sim_users_ratings)\n",
    "            except:\n",
    "                print(user, movie)\n",
    "                # we just want KeyErrors to be resolved. Not every Exception...\n",
    "                raise\n",
    "\n",
    "\n",
    "\n",
    "            #--------------------- Ratings by \"user\"  to similar movies of \"movie\" ---------------------\n",
    "            try:\n",
    "                # compute the similar movies of the \"movie\"        \n",
    "                movie_sim = cosine_similarity(sample_train_sparse_matrix[:,movie].T, sample_train_sparse_matrix.T).ravel()\n",
    "                top_sim_movies = movie_sim.argsort()[::-1][1:] # we are ignoring 'The User' from its similar users.\n",
    "                # get the ratings of most similar movie rated by this user..\n",
    "                top_ratings = sample_train_sparse_matrix[user, top_sim_movies].toarray().ravel()\n",
    "                # we will make it's length \"5\" by adding user averages to.\n",
    "                top_sim_movies_ratings = list(top_ratings[top_ratings != 0][:5])\n",
    "                top_sim_movies_ratings.extend([sample_train_averages['user'][user]]*(5-len(top_sim_movies_ratings))) \n",
    "                #print(top_sim_movies_ratings)\n",
    "            except (IndexError, KeyError):\n",
    "                #print(top_sim_movies_ratings, end=\" : -- \")\n",
    "                top_sim_movies_ratings.extend([sample_train_averages['global']]*(5-len(top_sim_movies_ratings)))\n",
    "                #print(top_sim_movies_ratings)\n",
    "            except :\n",
    "                raise\n",
    "\n",
    "            #-----------------prepare the row to be stores in a file-----------------#\n",
    "            row = list()\n",
    "            # add usser and movie name first\n",
    "            row.append(user)\n",
    "            row.append(movie)\n",
    "            row.append(sample_train_averages['global']) # first feature\n",
    "            #print(row)\n",
    "            # next 5 features are similar_users \"movie\" ratings\n",
    "            row.extend(top_sim_users_ratings)\n",
    "            #print(row)\n",
    "            # next 5 features are \"user\" ratings for similar_movies\n",
    "            row.extend(top_sim_movies_ratings)\n",
    "            #print(row)\n",
    "            # Avg_user rating\n",
    "            try:\n",
    "                row.append(sample_train_averages['user'][user])\n",
    "            except KeyError:\n",
    "                row.append(sample_train_averages['global'])\n",
    "            except:\n",
    "                raise\n",
    "            #print(row)\n",
    "            # Avg_movie rating\n",
    "            try:\n",
    "                row.append(sample_train_averages['movie'][movie])\n",
    "            except KeyError:\n",
    "                row.append(sample_train_averages['global'])\n",
    "            except:\n",
    "                raise\n",
    "            #print(row)\n",
    "            # finalley, The actual Rating of this user-movie pair...\n",
    "            row.append(rating)\n",
    "            #print(row)\n",
    "            count = count + 1\n",
    "\n",
    "            # add rows to the file opened..\n",
    "            reg_data_file.write(','.join(map(str, row)))\n",
    "            #print(','.join(map(str, row)))\n",
    "            reg_data_file.write('\\n')        \n",
    "            if (count)%1000 == 0:\n",
    "                #print(','.join(map(str, row)))\n",
    "                print(\"Done for {} rows----- {}\".format(count, datetime.now() - start))\n",
    "    print(\"\",datetime.now() - start)  "
   ]
  },
  {
   "cell_type": "code",
   "execution_count": 53,
   "metadata": {
    "colab": {
     "base_uri": "https://localhost:8080/",
     "height": 173
    },
    "colab_type": "code",
    "executionInfo": {
     "elapsed": 537107,
     "status": "ok",
     "timestamp": 1575618216261,
     "user": {
      "displayName": "Bharat Kumar",
      "photoUrl": "",
      "userId": "11978287233199522831"
     },
     "user_tz": -330
    },
    "id": "GBmlZx2e_gTX",
    "outputId": "7d926997-1e4a-4e2e-8761-7ef430da09db"
   },
   "outputs": [
    {
     "data": {
      "text/html": [
       "<div>\n",
       "<style scoped>\n",
       "    .dataframe tbody tr th:only-of-type {\n",
       "        vertical-align: middle;\n",
       "    }\n",
       "\n",
       "    .dataframe tbody tr th {\n",
       "        vertical-align: top;\n",
       "    }\n",
       "\n",
       "    .dataframe thead th {\n",
       "        text-align: right;\n",
       "    }\n",
       "</style>\n",
       "<table border=\"1\" class=\"dataframe\">\n",
       "  <thead>\n",
       "    <tr style=\"text-align: right;\">\n",
       "      <th></th>\n",
       "      <th>user</th>\n",
       "      <th>movie</th>\n",
       "      <th>GAvg</th>\n",
       "      <th>sur1</th>\n",
       "      <th>sur2</th>\n",
       "      <th>sur3</th>\n",
       "      <th>sur4</th>\n",
       "      <th>sur5</th>\n",
       "      <th>smr1</th>\n",
       "      <th>smr2</th>\n",
       "      <th>smr3</th>\n",
       "      <th>smr4</th>\n",
       "      <th>smr5</th>\n",
       "      <th>UAvg</th>\n",
       "      <th>MAvg</th>\n",
       "      <th>rating</th>\n",
       "    </tr>\n",
       "  </thead>\n",
       "  <tbody>\n",
       "    <tr>\n",
       "      <th>0</th>\n",
       "      <td>1129620</td>\n",
       "      <td>2</td>\n",
       "      <td>3.587581</td>\n",
       "      <td>3.587581</td>\n",
       "      <td>3.587581</td>\n",
       "      <td>3.587581</td>\n",
       "      <td>3.587581</td>\n",
       "      <td>3.587581</td>\n",
       "      <td>3.587581</td>\n",
       "      <td>3.587581</td>\n",
       "      <td>3.587581</td>\n",
       "      <td>3.587581</td>\n",
       "      <td>3.587581</td>\n",
       "      <td>3.587581</td>\n",
       "      <td>3.587581</td>\n",
       "      <td>3</td>\n",
       "    </tr>\n",
       "    <tr>\n",
       "      <th>1</th>\n",
       "      <td>779046</td>\n",
       "      <td>71</td>\n",
       "      <td>3.587581</td>\n",
       "      <td>3.587581</td>\n",
       "      <td>3.587581</td>\n",
       "      <td>3.587581</td>\n",
       "      <td>3.587581</td>\n",
       "      <td>3.587581</td>\n",
       "      <td>3.587581</td>\n",
       "      <td>3.587581</td>\n",
       "      <td>3.587581</td>\n",
       "      <td>3.587581</td>\n",
       "      <td>3.587581</td>\n",
       "      <td>3.587581</td>\n",
       "      <td>3.587581</td>\n",
       "      <td>5</td>\n",
       "    </tr>\n",
       "    <tr>\n",
       "      <th>2</th>\n",
       "      <td>808635</td>\n",
       "      <td>71</td>\n",
       "      <td>3.587581</td>\n",
       "      <td>3.587581</td>\n",
       "      <td>3.587581</td>\n",
       "      <td>3.587581</td>\n",
       "      <td>3.587581</td>\n",
       "      <td>3.587581</td>\n",
       "      <td>3.587581</td>\n",
       "      <td>3.587581</td>\n",
       "      <td>3.587581</td>\n",
       "      <td>3.587581</td>\n",
       "      <td>3.587581</td>\n",
       "      <td>3.587581</td>\n",
       "      <td>3.587581</td>\n",
       "      <td>5</td>\n",
       "    </tr>\n",
       "    <tr>\n",
       "      <th>3</th>\n",
       "      <td>898730</td>\n",
       "      <td>71</td>\n",
       "      <td>3.587581</td>\n",
       "      <td>3.587581</td>\n",
       "      <td>3.587581</td>\n",
       "      <td>3.587581</td>\n",
       "      <td>3.587581</td>\n",
       "      <td>3.587581</td>\n",
       "      <td>3.587581</td>\n",
       "      <td>3.587581</td>\n",
       "      <td>3.587581</td>\n",
       "      <td>3.587581</td>\n",
       "      <td>3.587581</td>\n",
       "      <td>3.587581</td>\n",
       "      <td>3.587581</td>\n",
       "      <td>3</td>\n",
       "    </tr>\n",
       "  </tbody>\n",
       "</table>\n",
       "</div>"
      ],
      "text/plain": [
       "      user  movie      GAvg      sur1      sur2      sur3      sur4      sur5  \\\n",
       "0  1129620      2  3.587581  3.587581  3.587581  3.587581  3.587581  3.587581   \n",
       "1   779046     71  3.587581  3.587581  3.587581  3.587581  3.587581  3.587581   \n",
       "2   808635     71  3.587581  3.587581  3.587581  3.587581  3.587581  3.587581   \n",
       "3   898730     71  3.587581  3.587581  3.587581  3.587581  3.587581  3.587581   \n",
       "\n",
       "       smr1      smr2      smr3      smr4      smr5      UAvg      MAvg  \\\n",
       "0  3.587581  3.587581  3.587581  3.587581  3.587581  3.587581  3.587581   \n",
       "1  3.587581  3.587581  3.587581  3.587581  3.587581  3.587581  3.587581   \n",
       "2  3.587581  3.587581  3.587581  3.587581  3.587581  3.587581  3.587581   \n",
       "3  3.587581  3.587581  3.587581  3.587581  3.587581  3.587581  3.587581   \n",
       "\n",
       "   rating  \n",
       "0       3  \n",
       "1       5  \n",
       "2       5  \n",
       "3       3  "
      ]
     },
     "execution_count": 53,
     "metadata": {},
     "output_type": "execute_result"
    }
   ],
   "source": [
    "reg_test_new = pd.read_csv('reg_test_jitu.csv', names = ['user', 'movie', 'GAvg', 'sur1', 'sur2', 'sur3', 'sur4', 'sur5',\n",
    "                                                          'smr1', 'smr2', 'smr3', 'smr4', 'smr5',\n",
    "                                                          'UAvg', 'MAvg', 'rating'], header=None)\n",
    "reg_test_new.head(4)"
   ]
  },
  {
   "cell_type": "code",
   "execution_count": 54,
   "metadata": {
    "colab": {
     "base_uri": "https://localhost:8080/",
     "height": 34
    },
    "colab_type": "code",
    "executionInfo": {
     "elapsed": 537046,
     "status": "ok",
     "timestamp": 1575618216264,
     "user": {
      "displayName": "Bharat Kumar",
      "photoUrl": "",
      "userId": "11978287233199522831"
     },
     "user_tz": -330
    },
    "id": "pangdztX_nOG",
    "outputId": "7da170c5-a6e9-4298-fdc7-1829a2a2d097"
   },
   "outputs": [
    {
     "data": {
      "text/plain": [
       "(72192, 16)"
      ]
     },
     "execution_count": 54,
     "metadata": {},
     "output_type": "execute_result"
    }
   ],
   "source": [
    "reg_test_new.shape"
   ]
  },
  {
   "cell_type": "markdown",
   "metadata": {
    "colab_type": "text",
    "id": "6uJrdqcR_uAT"
   },
   "source": [
    "<h3> 4.3.2 Transforming data for Surprise models</h3>"
   ]
  },
  {
   "cell_type": "code",
   "execution_count": 39,
   "metadata": {
    "colab": {
     "base_uri": "https://localhost:8080/",
     "height": 309
    },
    "colab_type": "code",
    "executionInfo": {
     "elapsed": 45260,
     "status": "ok",
     "timestamp": 1575618386569,
     "user": {
      "displayName": "Bharat Kumar",
      "photoUrl": "",
      "userId": "11978287233199522831"
     },
     "user_tz": -330
    },
    "id": "aoUMP8RrK1dJ",
    "outputId": "f24e70f5-1f51-479d-85f8-367be4564230"
   },
   "outputs": [
    {
     "name": "stdout",
     "output_type": "stream",
     "text": [
      "Collecting surprise\n",
      "  Downloading https://files.pythonhosted.org/packages/61/de/e5cba8682201fcf9c3719a6fdda95693468ed061945493dea2dd37c5618b/surprise-0.1-py2.py3-none-any.whl\n",
      "Collecting scikit-surprise\n",
      "\u001b[?25l  Downloading https://files.pythonhosted.org/packages/f5/da/b5700d96495fb4f092be497f02492768a3d96a3f4fa2ae7dea46d4081cfa/scikit-surprise-1.1.0.tar.gz (6.4MB)\n",
      "\u001b[K     |████████████████████████████████| 6.5MB 77kB/s \n",
      "\u001b[?25hRequirement already satisfied: joblib>=0.11 in /usr/local/lib/python3.6/dist-packages (from scikit-surprise->surprise) (0.14.0)\n",
      "Requirement already satisfied: numpy>=1.11.2 in /usr/local/lib/python3.6/dist-packages (from scikit-surprise->surprise) (1.17.4)\n",
      "Requirement already satisfied: scipy>=1.0.0 in /usr/local/lib/python3.6/dist-packages (from scikit-surprise->surprise) (1.3.3)\n",
      "Requirement already satisfied: six>=1.10.0 in /usr/local/lib/python3.6/dist-packages (from scikit-surprise->surprise) (1.12.0)\n",
      "Building wheels for collected packages: scikit-surprise\n",
      "  Building wheel for scikit-surprise (setup.py) ... \u001b[?25l\u001b[?25hdone\n",
      "  Created wheel for scikit-surprise: filename=scikit_surprise-1.1.0-cp36-cp36m-linux_x86_64.whl size=1678252 sha256=ac508824e9b0ac0576a8d7e0f8cc00fca220e63098babc522f1ed1a1af6082ca\n",
      "  Stored in directory: /root/.cache/pip/wheels/cc/fa/8c/16c93fccce688ae1bde7d979ff102f7bee980d9cfeb8641bcf\n",
      "Successfully built scikit-surprise\n",
      "Installing collected packages: scikit-surprise, surprise\n",
      "Successfully installed scikit-surprise-1.1.0 surprise-0.1\n"
     ]
    }
   ],
   "source": [
    "!pip3 install surprise"
   ]
  },
  {
   "cell_type": "code",
   "execution_count": 55,
   "metadata": {
    "colab": {},
    "colab_type": "code",
    "id": "5v_a_RqZ_vPC"
   },
   "outputs": [],
   "source": [
    "from surprise import Reader, Dataset"
   ]
  },
  {
   "cell_type": "markdown",
   "metadata": {
    "colab_type": "text",
    "id": "N9Fx8PiZ_x94"
   },
   "source": [
    "- We can't give raw data (movie, user, rating) to train the model in Surprise library.\n",
    "\n",
    "\n",
    "- They have a saperate format for TRAIN and TEST data, which will be useful for training the models like SVD, KNNBaseLineOnly....etc..,in Surprise.\n",
    "\n",
    "\n",
    "- We can form the trainset from a file, or from a Pandas  DataFrame. \n",
    "http://surprise.readthedocs.io/en/stable/getting_started.html#load-dom-dataframe-py "
   ]
  },
  {
   "cell_type": "code",
   "execution_count": 56,
   "metadata": {
    "colab": {},
    "colab_type": "code",
    "id": "7vhCC59v_3QB"
   },
   "outputs": [],
   "source": [
    "# It is to specify how to read the dataframe.\n",
    "# for our dataframe, we don't have to specify anything extra..\n",
    "reader = Reader(rating_scale=(1,5))\n",
    "\n",
    "# create the traindata from the dataframe...\n",
    "train_data = Dataset.load_from_df(reg_train_new[['user', 'movie', 'rating']], reader)\n",
    "\n",
    "# build the trainset from traindata.., It is of dataset format from surprise library..\n",
    "trainset = train_data.build_full_trainset() "
   ]
  },
  {
   "cell_type": "markdown",
   "metadata": {
    "colab_type": "text",
    "id": "NxtsUyoNAmvm"
   },
   "source": [
    "<h4> 4.3.2.2 Transforming test data </h4>\n",
    "\n",
    "- Test set is just a list of (user, movie, rating) tuples. (Order in the tuple is important) "
   ]
  },
  {
   "cell_type": "code",
   "execution_count": 57,
   "metadata": {
    "colab": {
     "base_uri": "https://localhost:8080/",
     "height": 34
    },
    "colab_type": "code",
    "executionInfo": {
     "elapsed": 4336,
     "status": "ok",
     "timestamp": 1575618420710,
     "user": {
      "displayName": "Bharat Kumar",
      "photoUrl": "",
      "userId": "11978287233199522831"
     },
     "user_tz": -330
    },
    "id": "6drl6z4eAn72",
    "outputId": "015cea7f-f8f2-43b4-ff4e-1dc95086e904"
   },
   "outputs": [
    {
     "data": {
      "text/plain": [
       "[(1129620, 2, 3), (779046, 71, 5), (808635, 71, 5)]"
      ]
     },
     "execution_count": 57,
     "metadata": {},
     "output_type": "execute_result"
    }
   ],
   "source": [
    "testset = list(zip(reg_test_new.user.values, reg_test_new.movie.values, reg_test_new.rating.values))\n",
    "testset[:3]"
   ]
  },
  {
   "cell_type": "markdown",
   "metadata": {
    "colab_type": "text",
    "id": "lRGDKYnWAs10"
   },
   "source": [
    "<h2> 4.4 Applying Machine Learning models </h2>\n",
    "\n",
    "-  Global dictionary that stores rmse and mape for all the models....\n",
    "\n",
    "    - It stores the metrics in a dictionary of dictionaries\n",
    "\n",
    "    > __keys__ : model names(string)\n",
    "\n",
    "    > __value__: dict(__key__ : metric, __value__ : value ) "
   ]
  },
  {
   "cell_type": "code",
   "execution_count": 58,
   "metadata": {
    "colab": {},
    "colab_type": "code",
    "id": "aIkXlnzbAty8"
   },
   "outputs": [],
   "source": [
    "# dict variables to hold the outputs of all models.\n",
    "\n",
    "models_evaluation_train = dict()\n",
    "models_evaluation_test = dict()"
   ]
  },
  {
   "cell_type": "markdown",
   "metadata": {
    "colab_type": "text",
    "id": "fYvMrimDA0vs"
   },
   "source": [
    " > __Utility functions for running regression models__"
   ]
  },
  {
   "cell_type": "code",
   "execution_count": 59,
   "metadata": {
    "colab": {},
    "colab_type": "code",
    "id": "KHR79dJaA1xi"
   },
   "outputs": [],
   "source": [
    "# to get rmse and mape given actual and predicted ratings..\n",
    "def get_error_metrics(y_true, y_pred):\n",
    "    rmse = np.sqrt(np.mean([ (y_true[i] - y_pred[i])**2 for i in range(len(y_pred)) ]))\n",
    "    mape = np.mean(np.abs( (y_true - y_pred)/y_true )) * 100\n",
    "    return rmse, mape\n",
    "\n",
    "###################################################################\n",
    "###################################################################\n",
    "def run_xgboost(algo,  x_train, y_train, x_test, y_test, verbose=True):\n",
    "    \"\"\"\n",
    "    It will return train_results and test_results\n",
    "    \"\"\"\n",
    "    \n",
    "    # dictionaries for storing train and test results\n",
    "    train_results = dict()\n",
    "    test_results = dict()\n",
    "    \n",
    "    \n",
    "    # fit the model\n",
    "    print('Training the model..')\n",
    "    start =datetime.now()\n",
    "    algo.fit(x_train, y_train, eval_metric = 'rmse')\n",
    "    print('Done. Time taken : {}\\n'.format(datetime.now()-start))\n",
    "    print('Done \\n')\n",
    "\n",
    "    # from the trained model, get the predictions....\n",
    "    print('Evaluating the model with TRAIN data...')\n",
    "    start =datetime.now()\n",
    "    y_train_pred = algo.predict(x_train)\n",
    "    # get the rmse and mape of train data...\n",
    "    rmse_train, mape_train = get_error_metrics(y_train.values, y_train_pred)\n",
    "    \n",
    "    # store the results in train_results dictionary..\n",
    "    train_results = {'rmse': rmse_train,\n",
    "                    'mape' : mape_train,\n",
    "                    'predictions' : y_train_pred}\n",
    "    \n",
    "    #######################################\n",
    "    # get the test data predictions and compute rmse and mape\n",
    "    print('Evaluating Test data')\n",
    "    y_test_pred = algo.predict(x_test) \n",
    "    rmse_test, mape_test = get_error_metrics(y_true=y_test.values, y_pred=y_test_pred)\n",
    "    # store them in our test results dictionary.\n",
    "    test_results = {'rmse': rmse_test,\n",
    "                    'mape' : mape_test,\n",
    "                    'predictions':y_test_pred}\n",
    "    if verbose:\n",
    "        print('\\nTEST DATA')\n",
    "        print('-'*30)\n",
    "        print('RMSE : ', rmse_test)\n",
    "        print('MAPE : ', mape_test)\n",
    "        \n",
    "    # return these train and test results...\n",
    "    return train_results, test_results"
   ]
  },
  {
   "cell_type": "markdown",
   "metadata": {
    "colab_type": "text",
    "id": "f7mOQfgXA_NM"
   },
   "source": [
    "> __Utility functions for Surprise modes__"
   ]
  },
  {
   "cell_type": "code",
   "execution_count": 60,
   "metadata": {
    "colab": {},
    "colab_type": "code",
    "id": "cYpYOVr2A41W"
   },
   "outputs": [],
   "source": [
    "# it is just to makesure that all of our algorithms should produce same results\n",
    "# everytime they run...\n",
    "\n",
    "my_seed = 15\n",
    "random.seed(my_seed)\n",
    "np.random.seed(my_seed)\n",
    "\n",
    "##########################################################\n",
    "# get  (actual_list , predicted_list) ratings given list \n",
    "# of predictions (prediction is a class in Surprise).    \n",
    "##########################################################\n",
    "def get_ratings(predictions):\n",
    "    actual = np.array([pred.r_ui for pred in predictions])\n",
    "    pred = np.array([pred.est for pred in predictions])\n",
    "    \n",
    "    return actual, pred\n",
    "\n",
    "################################################################\n",
    "# get ''rmse'' and ''mape'' , given list of prediction objecs \n",
    "################################################################\n",
    "def get_errors(predictions, print_them=False):\n",
    "\n",
    "    actual, pred = get_ratings(predictions)\n",
    "    rmse = np.sqrt(np.mean((pred - actual)**2))\n",
    "    mape = np.mean(np.abs(pred - actual)/actual)\n",
    "\n",
    "    return rmse, mape*100\n",
    "\n",
    "##################################################################################\n",
    "# It will return predicted ratings, rmse and mape of both train and test data   #\n",
    "##################################################################################\n",
    "def run_surprise(algo, trainset, testset, verbose=True): \n",
    "    '''\n",
    "        return train_dict, test_dict\n",
    "    \n",
    "        It returns two dictionaries, one for train and the other is for test\n",
    "        Each of them have 3 key-value pairs, which specify ''rmse'', ''mape'', and ''predicted ratings''.\n",
    "    '''\n",
    "    start = datetime.now()\n",
    "    # dictionaries that stores metrics for train and test..\n",
    "    train = dict()\n",
    "    test = dict()\n",
    "    \n",
    "    # train the algorithm with the trainset\n",
    "    st = datetime.now()\n",
    "    print('Training the model...')\n",
    "    algo.fit(trainset)\n",
    "    print('Done. time taken : {} \\n'.format(datetime.now()-st))\n",
    "    \n",
    "    # ---------------- Evaluating train data--------------------#\n",
    "    st = datetime.now()\n",
    "    print('Evaluating the model with train data..')\n",
    "    # get the train predictions (list of prediction class inside Surprise)\n",
    "    train_preds = algo.test(trainset.build_testset())\n",
    "    # get predicted ratings from the train predictions..\n",
    "    train_actual_ratings, train_pred_ratings = get_ratings(train_preds)\n",
    "    # get ''rmse'' and ''mape'' from the train predictions.\n",
    "    train_rmse, train_mape = get_errors(train_preds)\n",
    "    print('time taken : {}'.format(datetime.now()-st))\n",
    "    \n",
    "    if verbose:\n",
    "        print('-'*15)\n",
    "        print('Train Data')\n",
    "        print('-'*15)\n",
    "        print(\"RMSE : {}\\n\\nMAPE : {}\\n\".format(train_rmse, train_mape))\n",
    "    \n",
    "    #store them in the train dictionary\n",
    "    if verbose:\n",
    "        print('adding train results in the dictionary..')\n",
    "    train['rmse'] = train_rmse\n",
    "    train['mape'] = train_mape\n",
    "    train['predictions'] = train_pred_ratings\n",
    "    \n",
    "    #------------ Evaluating Test data---------------#\n",
    "    st = datetime.now()\n",
    "    print('\\nEvaluating for test data...')\n",
    "    # get the predictions( list of prediction classes) of test data\n",
    "    test_preds = algo.test(testset)\n",
    "    # get the predicted ratings from the list of predictions\n",
    "    test_actual_ratings, test_pred_ratings = get_ratings(test_preds)\n",
    "    # get error metrics from the predicted and actual ratings\n",
    "    test_rmse, test_mape = get_errors(test_preds)\n",
    "    print('time taken : {}'.format(datetime.now()-st))\n",
    "    \n",
    "    if verbose:\n",
    "        print('-'*15)\n",
    "        print('Test Data')\n",
    "        print('-'*15)\n",
    "        print(\"RMSE : {}\\n\\nMAPE : {}\\n\".format(test_rmse, test_mape))\n",
    "    # store them in test dictionary\n",
    "    if verbose:\n",
    "        print('storing the test results in test dictionary...')\n",
    "    test['rmse'] = test_rmse\n",
    "    test['mape'] = test_mape\n",
    "    test['predictions'] = test_pred_ratings\n",
    "    \n",
    "    print('\\n'+'-'*45)\n",
    "    print('Total time taken to run this algorithm :', datetime.now() - start)\n",
    "    \n",
    "    # return two dictionaries train and test\n",
    "    return train, test"
   ]
  },
  {
   "cell_type": "markdown",
   "metadata": {
    "colab_type": "text",
    "id": "SGin73_ABfhd"
   },
   "source": [
    "<h3> 4.4.1 XGBoost with initial 13 features </h3>"
   ]
  },
  {
   "cell_type": "code",
   "execution_count": 61,
   "metadata": {
    "colab": {},
    "colab_type": "code",
    "id": "cE8eLwn_Bgmo"
   },
   "outputs": [],
   "source": [
    "# prepare Train data\n",
    "x_train = reg_train_new.drop(['user','movie','rating'], axis=1)\n",
    "y_train = reg_train_new['rating']\n",
    "\n",
    "# Prepare Test data\n",
    "x_test = reg_test_new.drop(['user','movie','rating'], axis=1)\n",
    "y_test = reg_test_new['rating']"
   ]
  },
  {
   "cell_type": "code",
   "execution_count": 62,
   "metadata": {
    "colab": {},
    "colab_type": "code",
    "id": "igQewCNEBrQy"
   },
   "outputs": [],
   "source": [
    "from sklearn.model_selection import RandomizedSearchCV\n",
    "import xgboost as xgb"
   ]
  },
  {
   "cell_type": "code",
   "execution_count": 63,
   "metadata": {
    "colab": {},
    "colab_type": "code",
    "id": "-VG884GTBl9g"
   },
   "outputs": [
    {
     "name": "stderr",
     "output_type": "stream",
     "text": [
      "/home/passionateguy_bharat/.local/lib/python3.5/site-packages/xgboost/core.py:587: FutureWarning: Series.base is deprecated and will be removed in a future version\n",
      "  if getattr(data, 'base', None) is not None and \\\n",
      "/home/passionateguy_bharat/.local/lib/python3.5/site-packages/xgboost/core.py:588: FutureWarning: Series.base is deprecated and will be removed in a future version\n",
      "  data.base is not None and isinstance(data, np.ndarray) \\\n"
     ]
    },
    {
     "name": "stdout",
     "output_type": "stream",
     "text": [
      "[10:39:37] WARNING: /workspace/src/objective/regression_obj.cu:152: reg:linear is now deprecated in favor of reg:squarederror.\n"
     ]
    },
    {
     "data": {
      "text/plain": [
       "RandomizedSearchCV(cv=2, error_score='raise-deprecating',\n",
       "                   estimator=XGBRegressor(base_score=0.5, booster='gbtree',\n",
       "                                          colsample_bylevel=1,\n",
       "                                          colsample_bynode=1,\n",
       "                                          colsample_bytree=1, gamma=0,\n",
       "                                          importance_type='gain',\n",
       "                                          learning_rate=0.1, max_delta_step=0,\n",
       "                                          max_depth=3, min_child_weight=1,\n",
       "                                          missing=None, n_estimators=100,\n",
       "                                          n_jobs=-1, nthread=4,\n",
       "                                          objective='reg:linear',\n",
       "                                          random_stat...\n",
       "                   iid='warn', n_iter=10, n_jobs=-1,\n",
       "                   param_distributions={'colsample_bytree': [0.6, 0.8],\n",
       "                                        'gamma': [0, 0.1],\n",
       "                                        'learning_rate': [0.01, 0.1],\n",
       "                                        'max_depth': [2, 3, 4],\n",
       "                                        'min_child_weight': [3, 5],\n",
       "                                        'n_estimators': [50, 100, 150],\n",
       "                                        'reg_alpha': [0.005, 0.01],\n",
       "                                        'reg_lambda': [0.005, 0.01],\n",
       "                                        'sub_sample': [0.6, 0.8]},\n",
       "                   pre_dispatch='2*n_jobs', random_state=None, refit=True,\n",
       "                   return_train_score=True, scoring='r2', verbose=0)"
      ]
     },
     "execution_count": 63,
     "metadata": {},
     "output_type": "execute_result"
    }
   ],
   "source": [
    "# Hyper param tuning.\n",
    "parameters = {'learning_rate':   [0.01, 0.1], # 2 components\n",
    "              'n_estimators':    [50, 100, 150], # 3 components\n",
    "              'max_depth':       [2,3,4], # 3 components\n",
    "              'min_child_weight':[3, 5], # 2 components\n",
    "              'sub_sample':      [0.6, 0.8], # 2 components\n",
    "              'colsample_bytree':[0.6, 0.8], # 2 components\n",
    "              'gamma':           [0, 0.1], # 2 components\n",
    "              'reg_alpha':       [0.005, 0.01], # 2 components\n",
    "              'reg_lambda':      [0.005, 0.01]} # 2 components\n",
    "\n",
    "# total of 768 combinations used for randomized search\n",
    "rscv = RandomizedSearchCV(estimator = xgb.XGBRegressor(nthread=4, n_jobs=-1), param_distributions= parameters, cv= 2,\n",
    "                          n_jobs= -1, return_train_score=True, scoring = 'r2')\n",
    "rscv.fit(x_train, y_train)"
   ]
  },
  {
   "cell_type": "code",
   "execution_count": 64,
   "metadata": {
    "colab": {},
    "colab_type": "code",
    "id": "4PUpHAv7Bw5J"
   },
   "outputs": [
    {
     "name": "stdout",
     "output_type": "stream",
     "text": [
      "Best parameters: \n",
      " XGBRegressor(base_score=0.5, booster='gbtree', colsample_bylevel=1,\n",
      "             colsample_bynode=1, colsample_bytree=0.6, gamma=0,\n",
      "             importance_type='gain', learning_rate=0.1, max_delta_step=0,\n",
      "             max_depth=2, min_child_weight=3, missing=None, n_estimators=100,\n",
      "             n_jobs=-1, nthread=4, objective='reg:linear', random_state=0,\n",
      "             reg_alpha=0.01, reg_lambda=0.005, scale_pos_weight=1, seed=None,\n",
      "             silent=None, sub_sample=0.6, subsample=1, verbosity=1)\n",
      "\n",
      "neg_mean_absolute_error: 0.010537179555950904\n"
     ]
    }
   ],
   "source": [
    "print('Best parameters: \\n', rscv.best_estimator_)\n",
    "print()\n",
    "print('neg_mean_absolute_error:', rscv.score(x_test, y_test))"
   ]
  },
  {
   "cell_type": "code",
   "execution_count": 65,
   "metadata": {
    "colab": {
     "base_uri": "https://localhost:8080/",
     "height": 584
    },
    "colab_type": "code",
    "executionInfo": {
     "elapsed": 14248,
     "status": "ok",
     "timestamp": 1575618583736,
     "user": {
      "displayName": "Bharat Kumar",
      "photoUrl": "",
      "userId": "11978287233199522831"
     },
     "user_tz": -330
    },
    "id": "NLtfYehaCJ1A",
    "outputId": "ec6b826c-c0c8-480f-a63d-b94bc9bf85ae"
   },
   "outputs": [
    {
     "name": "stdout",
     "output_type": "stream",
     "text": [
      "Training the model..\n"
     ]
    },
    {
     "name": "stderr",
     "output_type": "stream",
     "text": [
      "/home/passionateguy_bharat/.local/lib/python3.5/site-packages/xgboost/core.py:587: FutureWarning: Series.base is deprecated and will be removed in a future version\n",
      "  if getattr(data, 'base', None) is not None and \\\n",
      "/home/passionateguy_bharat/.local/lib/python3.5/site-packages/xgboost/core.py:588: FutureWarning: Series.base is deprecated and will be removed in a future version\n",
      "  data.base is not None and isinstance(data, np.ndarray) \\\n"
     ]
    },
    {
     "name": "stdout",
     "output_type": "stream",
     "text": [
      "[10:39:46] WARNING: /workspace/src/objective/regression_obj.cu:152: reg:linear is now deprecated in favor of reg:squarederror.\n",
      "Done. Time taken : 0:00:08.946443\n",
      "\n",
      "Done \n",
      "\n",
      "Evaluating the model with TRAIN data...\n",
      "Evaluating Test data\n",
      "\n",
      "TEST DATA\n",
      "------------------------------\n",
      "RMSE :  1.0887173978827296\n",
      "MAPE :  35.103864167700245\n"
     ]
    },
    {
     "data": {
      "image/png": "[encoded data removed]",
      "text/plain": [
       "<Figure size 432x288 with 1 Axes>"
      ]
     },
     "metadata": {},
     "output_type": "display_data"
    }
   ],
   "source": [
    "# initialize Our first XGBoost model...\n",
    "first_xgb = xgb.XGBRegressor(base_score=0.5, booster='gbtree', colsample_bylevel=1,\n",
    "             colsample_bynode=1, colsample_bytree=0.6, gamma=0,\n",
    "             importance_type='gain', learning_rate=0.1, max_delta_step=0,\n",
    "             max_depth=2, min_child_weight=3, missing=None, n_estimators=100,\n",
    "             n_jobs=-1, nthread=4, objective='reg:linear', random_state=0,\n",
    "             reg_alpha=0.01, reg_lambda=0.005, scale_pos_weight=1, seed=None,\n",
    "             silent=None, sub_sample=0.6, subsample=1, verbosity=1)\n",
    "\n",
    "train_results, test_results = run_xgboost(first_xgb, x_train, y_train, x_test, y_test)\n",
    "\n",
    "# store the results in models_evaluations dictionaries\n",
    "models_evaluation_train['first_algo'] = train_results\n",
    "models_evaluation_test['first_algo'] = test_results\n",
    "\n",
    "xgb.plot_importance(first_xgb)\n",
    "plt.show()"
   ]
  },
  {
   "cell_type": "markdown",
   "metadata": {
    "colab_type": "text",
    "id": "QOzAUVZ5D9TO"
   },
   "source": [
    "<h3> 4.4.2 Suprise BaselineModel </h3>\n"
   ]
  },
  {
   "cell_type": "code",
   "execution_count": 66,
   "metadata": {
    "colab": {},
    "colab_type": "code",
    "id": "rjpOLtr8D-vJ"
   },
   "outputs": [],
   "source": [
    "from surprise import BaselineOnly"
   ]
  },
  {
   "cell_type": "markdown",
   "metadata": {
    "colab_type": "text",
    "id": "9UOZH4xBEFya"
   },
   "source": [
    "__Predicted_rating : ( baseline prediction ) __\n",
    "\n",
    "    -  http://surprise.readthedocs.io/en/stable/basic_algorithms.html#surprise.prediction_algorithms.baseline_only.BaselineOnly \n",
    " >$   \\large {\\hat{r}_{ui} = b_{ui} =\\mu + b_u + b_i} $\n",
    "\n",
    "\n",
    "- $\\pmb \\mu $ : Average of all ratings in training data.\n",
    "- $\\pmb b_u$ : User bias\n",
    "- $\\pmb b_i$ : Item bias (movie biases) \n",
    "    \n",
    "__Optimization function ( Least Squares Problem ) __\n",
    "\n",
    "    - http://surprise.readthedocs.io/en/stable/prediction_algorithms.html#baselines-estimates-configuration \n",
    "\n",
    "> $ \\large \\sum_{r_{ui} \\in R_{train}} \\left(r_{ui} - (\\mu + b_u + b_i)\\right)^2 +\n",
    "\\lambda \\left(b_u^2 + b_i^2 \\right).\\text {        [mimimize } {b_u, b_i]}$ "
   ]
  },
  {
   "cell_type": "code",
   "execution_count": 50,
   "metadata": {
    "colab": {
     "base_uri": "https://localhost:8080/",
     "height": 493
    },
    "colab_type": "code",
    "executionInfo": {
     "elapsed": 17388,
     "status": "ok",
     "timestamp": 1575618607998,
     "user": {
      "displayName": "Bharat Kumar",
      "photoUrl": "",
      "userId": "11978287233199522831"
     },
     "user_tz": -330
    },
    "id": "TtETxG_REOfh",
    "outputId": "c0ff2f21-8912-4952-9640-d96d6dd69d08"
   },
   "outputs": [
    {
     "name": "stdout",
     "output_type": "stream",
     "text": [
      "Training the model...\n",
      "Estimating biases using sgd...\n",
      "Done. time taken : 0:00:07.148251 \n",
      "\n",
      "Evaluating the model with train data..\n",
      "time taken : 0:00:08.183330\n",
      "---------------\n",
      "Train Data\n",
      "---------------\n",
      "RMSE : 0.9220478981418425\n",
      "\n",
      "MAPE : 28.6415868708249\n",
      "\n",
      "adding train results in the dictionary..\n",
      "\n",
      "Evaluating for test data...\n",
      "time taken : 0:00:00.606168\n",
      "---------------\n",
      "Test Data\n",
      "---------------\n",
      "RMSE : 1.0863663098706433\n",
      "\n",
      "MAPE : 34.9272700831115\n",
      "\n",
      "storing the test results in test dictionary...\n",
      "\n",
      "---------------------------------------------\n",
      "Total time taken to run this algorithm : 0:00:15.939966\n"
     ]
    }
   ],
   "source": [
    "# options are to specify.., how to compute those user and item biases\n",
    "params = {'method': 'sgd',\n",
    "               'learning_rate': .001}\n",
    "\n",
    "bsl_algo = BaselineOnly(bsl_options= params)\n",
    "\n",
    "# run this algorithm.., It will return the train and test results..\n",
    "bsl_train_results, bsl_test_results = run_surprise(bsl_algo, trainset, testset, verbose=True)\n",
    "\n",
    "\n",
    "# Just store these error metrics in our models_evaluation datastructure\n",
    "models_evaluation_train['bsl_algo'] = bsl_train_results \n",
    "models_evaluation_test['bsl_algo'] = bsl_test_results"
   ]
  },
  {
   "cell_type": "markdown",
   "metadata": {
    "colab_type": "text",
    "id": "SZokU6HwEUsF"
   },
   "source": []
  },
  {
   "cell_type": "markdown",
   "metadata": {
    "colab_type": "text",
    "id": "XuJ9ElHlEZ42"
   },
   "source": [
    "<h3> 4.4.3 XGBoost with initial 13 features + Surprise Baseline predictor </h3>\n",
    "\n",
    "__Updating Train Data__"
   ]
  },
  {
   "cell_type": "code",
   "execution_count": 53,
   "metadata": {
    "colab": {
     "base_uri": "https://localhost:8080/",
     "height": 85
    },
    "colab_type": "code",
    "executionInfo": {
     "elapsed": 4787,
     "status": "ok",
     "timestamp": 1575618626758,
     "user": {
      "displayName": "Bharat Kumar",
      "photoUrl": "",
      "userId": "11978287233199522831"
     },
     "user_tz": -330
    },
    "id": "Rd3kISI-EbER",
    "outputId": "c73574f3-487a-426f-d6e8-7c20f8c2128d"
   },
   "outputs": [
    {
     "data": {
      "text/plain": [
       "{'mape': 28.6415868708249,\n",
       " 'predictions': array([3.68139346, 3.72015018, 4.51053701, ..., 3.91562856, 3.93909859,\n",
       "        3.91926974]),\n",
       " 'rmse': 0.9220478981418425}"
      ]
     },
     "execution_count": 53,
     "metadata": {
      "tags": []
     },
     "output_type": "execute_result"
    }
   ],
   "source": [
    "# output of 'run_surprise' function\n",
    "models_evaluation_train['bsl_algo']"
   ]
  },
  {
   "cell_type": "code",
   "execution_count": 52,
   "metadata": {
    "colab": {
     "base_uri": "https://localhost:8080/",
     "height": 111
    },
    "colab_type": "code",
    "executionInfo": {
     "elapsed": 1148,
     "status": "ok",
     "timestamp": 1575618614421,
     "user": {
      "displayName": "Bharat Kumar",
      "photoUrl": "",
      "userId": "11978287233199522831"
     },
     "user_tz": -330
    },
    "id": "Beb9vPygEfEH",
    "outputId": "cac85d05-5d6f-4295-f13c-8a3c1836c879"
   },
   "outputs": [
    {
     "data": {
      "text/html": [
       "<div>\n",
       "<style scoped>\n",
       "    .dataframe tbody tr th:only-of-type {\n",
       "        vertical-align: middle;\n",
       "    }\n",
       "\n",
       "    .dataframe tbody tr th {\n",
       "        vertical-align: top;\n",
       "    }\n",
       "\n",
       "    .dataframe thead th {\n",
       "        text-align: right;\n",
       "    }\n",
       "</style>\n",
       "<table border=\"1\" class=\"dataframe\">\n",
       "  <thead>\n",
       "    <tr style=\"text-align: right;\">\n",
       "      <th></th>\n",
       "      <th>user</th>\n",
       "      <th>movie</th>\n",
       "      <th>GAvg</th>\n",
       "      <th>sur1</th>\n",
       "      <th>sur2</th>\n",
       "      <th>sur3</th>\n",
       "      <th>sur4</th>\n",
       "      <th>sur5</th>\n",
       "      <th>smr1</th>\n",
       "      <th>smr2</th>\n",
       "      <th>smr3</th>\n",
       "      <th>smr4</th>\n",
       "      <th>smr5</th>\n",
       "      <th>UAvg</th>\n",
       "      <th>MAvg</th>\n",
       "      <th>rating</th>\n",
       "      <th>bslpr</th>\n",
       "    </tr>\n",
       "  </thead>\n",
       "  <tbody>\n",
       "    <tr>\n",
       "      <th>0</th>\n",
       "      <td>174683</td>\n",
       "      <td>10</td>\n",
       "      <td>3.587581</td>\n",
       "      <td>5.0</td>\n",
       "      <td>5.0</td>\n",
       "      <td>3.0</td>\n",
       "      <td>4.0</td>\n",
       "      <td>4.0</td>\n",
       "      <td>3.0</td>\n",
       "      <td>5.0</td>\n",
       "      <td>4.0</td>\n",
       "      <td>3.0</td>\n",
       "      <td>2.0</td>\n",
       "      <td>3.882353</td>\n",
       "      <td>3.611111</td>\n",
       "      <td>5</td>\n",
       "      <td>3.681393</td>\n",
       "    </tr>\n",
       "    <tr>\n",
       "      <th>1</th>\n",
       "      <td>233949</td>\n",
       "      <td>10</td>\n",
       "      <td>3.587581</td>\n",
       "      <td>4.0</td>\n",
       "      <td>4.0</td>\n",
       "      <td>5.0</td>\n",
       "      <td>1.0</td>\n",
       "      <td>3.0</td>\n",
       "      <td>2.0</td>\n",
       "      <td>3.0</td>\n",
       "      <td>2.0</td>\n",
       "      <td>3.0</td>\n",
       "      <td>3.0</td>\n",
       "      <td>2.692308</td>\n",
       "      <td>3.611111</td>\n",
       "      <td>3</td>\n",
       "      <td>3.720150</td>\n",
       "    </tr>\n",
       "  </tbody>\n",
       "</table>\n",
       "</div>"
      ],
      "text/plain": [
       "     user  movie      GAvg  sur1  ...      UAvg      MAvg  rating     bslpr\n",
       "0  174683     10  3.587581   5.0  ...  3.882353  3.611111       5  3.681393\n",
       "1  233949     10  3.587581   4.0  ...  2.692308  3.611111       3  3.720150\n",
       "\n",
       "[2 rows x 17 columns]"
      ]
     },
     "execution_count": 52,
     "metadata": {
      "tags": []
     },
     "output_type": "execute_result"
    }
   ],
   "source": [
    "# add our baseline_predicted value as our 14th new feature (predictions of baseline) => (13 + 1 =14 features in total)\n",
    "reg_train_new['bslpr'] = models_evaluation_train['bsl_algo']['predictions']\n",
    "reg_train_new.head(2) "
   ]
  },
  {
   "cell_type": "markdown",
   "metadata": {
    "colab_type": "text",
    "id": "JWUkK1DrEhj8"
   },
   "source": [
    "__Updating Test Data__"
   ]
  },
  {
   "cell_type": "code",
   "execution_count": 54,
   "metadata": {
    "colab": {
     "base_uri": "https://localhost:8080/",
     "height": 85
    },
    "colab_type": "code",
    "executionInfo": {
     "elapsed": 3795,
     "status": "ok",
     "timestamp": 1575618636668,
     "user": {
      "displayName": "Bharat Kumar",
      "photoUrl": "",
      "userId": "11978287233199522831"
     },
     "user_tz": -330
    },
    "id": "6qEtj6-wEkTn",
    "outputId": "97caf95b-2b66-446e-f571-ee969814e9a7"
   },
   "outputs": [
    {
     "data": {
      "text/plain": [
       "{'mape': 34.9272700831115,\n",
       " 'predictions': array([3.58758136, 3.58758136, 3.58758136, ..., 3.58758136, 3.58758136,\n",
       "        3.58758136]),\n",
       " 'rmse': 1.0863663098706433}"
      ]
     },
     "execution_count": 54,
     "metadata": {
      "tags": []
     },
     "output_type": "execute_result"
    }
   ],
   "source": [
    "models_evaluation_test['bsl_algo']"
   ]
  },
  {
   "cell_type": "code",
   "execution_count": 55,
   "metadata": {
    "colab": {
     "base_uri": "https://localhost:8080/",
     "height": 111
    },
    "colab_type": "code",
    "executionInfo": {
     "elapsed": 4176,
     "status": "ok",
     "timestamp": 1575618655423,
     "user": {
      "displayName": "Bharat Kumar",
      "photoUrl": "",
      "userId": "11978287233199522831"
     },
     "user_tz": -330
    },
    "id": "4b88cBb1En1E",
    "outputId": "a9c98102-5c88-4fa3-e91b-27dea0c8383b"
   },
   "outputs": [
    {
     "data": {
      "text/html": [
       "<div>\n",
       "<style scoped>\n",
       "    .dataframe tbody tr th:only-of-type {\n",
       "        vertical-align: middle;\n",
       "    }\n",
       "\n",
       "    .dataframe tbody tr th {\n",
       "        vertical-align: top;\n",
       "    }\n",
       "\n",
       "    .dataframe thead th {\n",
       "        text-align: right;\n",
       "    }\n",
       "</style>\n",
       "<table border=\"1\" class=\"dataframe\">\n",
       "  <thead>\n",
       "    <tr style=\"text-align: right;\">\n",
       "      <th></th>\n",
       "      <th>user</th>\n",
       "      <th>movie</th>\n",
       "      <th>GAvg</th>\n",
       "      <th>sur1</th>\n",
       "      <th>sur2</th>\n",
       "      <th>sur3</th>\n",
       "      <th>sur4</th>\n",
       "      <th>sur5</th>\n",
       "      <th>smr1</th>\n",
       "      <th>smr2</th>\n",
       "      <th>smr3</th>\n",
       "      <th>smr4</th>\n",
       "      <th>smr5</th>\n",
       "      <th>UAvg</th>\n",
       "      <th>MAvg</th>\n",
       "      <th>rating</th>\n",
       "      <th>bslpr</th>\n",
       "    </tr>\n",
       "  </thead>\n",
       "  <tbody>\n",
       "    <tr>\n",
       "      <th>0</th>\n",
       "      <td>1129620</td>\n",
       "      <td>2</td>\n",
       "      <td>3.587581</td>\n",
       "      <td>3.587581</td>\n",
       "      <td>3.587581</td>\n",
       "      <td>3.587581</td>\n",
       "      <td>3.587581</td>\n",
       "      <td>3.587581</td>\n",
       "      <td>3.587581</td>\n",
       "      <td>3.587581</td>\n",
       "      <td>3.587581</td>\n",
       "      <td>3.587581</td>\n",
       "      <td>3.587581</td>\n",
       "      <td>3.587581</td>\n",
       "      <td>3.587581</td>\n",
       "      <td>3</td>\n",
       "      <td>3.587581</td>\n",
       "    </tr>\n",
       "    <tr>\n",
       "      <th>1</th>\n",
       "      <td>779046</td>\n",
       "      <td>71</td>\n",
       "      <td>3.587581</td>\n",
       "      <td>3.587581</td>\n",
       "      <td>3.587581</td>\n",
       "      <td>3.587581</td>\n",
       "      <td>3.587581</td>\n",
       "      <td>3.587581</td>\n",
       "      <td>3.587581</td>\n",
       "      <td>3.587581</td>\n",
       "      <td>3.587581</td>\n",
       "      <td>3.587581</td>\n",
       "      <td>3.587581</td>\n",
       "      <td>3.587581</td>\n",
       "      <td>3.587581</td>\n",
       "      <td>5</td>\n",
       "      <td>3.587581</td>\n",
       "    </tr>\n",
       "  </tbody>\n",
       "</table>\n",
       "</div>"
      ],
      "text/plain": [
       "      user  movie      GAvg      sur1  ...      UAvg      MAvg  rating     bslpr\n",
       "0  1129620      2  3.587581  3.587581  ...  3.587581  3.587581       3  3.587581\n",
       "1   779046     71  3.587581  3.587581  ...  3.587581  3.587581       5  3.587581\n",
       "\n",
       "[2 rows x 17 columns]"
      ]
     },
     "execution_count": 55,
     "metadata": {
      "tags": []
     },
     "output_type": "execute_result"
    }
   ],
   "source": [
    "reg_test_new['bslpr'] = models_evaluation_test['bsl_algo']['predictions']\n",
    "reg_test_new.head(2)"
   ]
  },
  {
   "cell_type": "code",
   "execution_count": 0,
   "metadata": {
    "colab": {},
    "colab_type": "code",
    "id": "G6031FWwEqyR"
   },
   "outputs": [],
   "source": [
    "# prepare train data\n",
    "x_train = reg_train_new.drop(['user', 'movie','rating'], axis=1)\n",
    "y_train = reg_train_new['rating']\n",
    "\n",
    "# Prepare Test data\n",
    "x_test = reg_test_new.drop(['user','movie','rating'], axis=1)\n",
    "y_test = reg_test_new['rating']"
   ]
  },
  {
   "cell_type": "code",
   "execution_count": 0,
   "metadata": {
    "colab": {},
    "colab_type": "code",
    "id": "WZUeXaiCEtdc"
   },
   "outputs": [],
   "source": [
    "# Hyper param tuning.\n",
    "parameters = {'learning_rate':   [0.01, 0.1], # 2 components\n",
    "              'n_estimators':    [50, 100, 150], # 3 components\n",
    "              'max_depth':       [2,3,4], # 3 components\n",
    "              'min_child_weight':[3, 5], # 2 components\n",
    "              'sub_sample':      [0.6, 0.8], # 2 components\n",
    "              'colsample_bytree':[0.6, 0.8], # 2 components\n",
    "              'gamma':           [0, 0.1], # 2 components\n",
    "              'reg_alpha':       [0.005, 0.01], # 2 components\n",
    "              'reg_lambda':      [0.005, 0.01]} # 2 components\n",
    "\n",
    "# total of 768 combinations used for randomized search\n",
    "rscv = RandomizedSearchCV(estimator = xgb.XGBRegressor(nthread=4, n_jobs=-1), param_distributions= parameters, n_jobs= -1, \n",
    "                          return_train_score=True, scoring = 'r2')\n",
    "rscv.fit(x_train, y_train)"
   ]
  },
  {
   "cell_type": "code",
   "execution_count": 0,
   "metadata": {
    "colab": {},
    "colab_type": "code",
    "id": "ADYPi91gExM_"
   },
   "outputs": [],
   "source": [
    "print('Best parameters: \\n', rscv.best_estimator_)\n",
    "print()\n",
    "print('neg_mean_absolute_error:', rscv.score(x_test, y_test))"
   ]
  },
  {
   "cell_type": "code",
   "execution_count": 57,
   "metadata": {
    "colab": {
     "base_uri": "https://localhost:8080/",
     "height": 584
    },
    "colab_type": "code",
    "executionInfo": {
     "elapsed": 24308,
     "status": "ok",
     "timestamp": 1575618695890,
     "user": {
      "displayName": "Bharat Kumar",
      "photoUrl": "",
      "userId": "11978287233199522831"
     },
     "user_tz": -330
    },
    "id": "9wrDsaMmE2gE",
    "outputId": "d53467d7-f390-4bb5-bb12-5061dbdeecd3"
   },
   "outputs": [
    {
     "name": "stdout",
     "output_type": "stream",
     "text": [
      "Training the model..\n"
     ]
    },
    {
     "name": "stderr",
     "output_type": "stream",
     "text": [
      "/usr/local/lib/python3.6/dist-packages/xgboost/core.py:587: FutureWarning: Series.base is deprecated and will be removed in a future version\n",
      "  if getattr(data, 'base', None) is not None and \\\n",
      "/usr/local/lib/python3.6/dist-packages/xgboost/core.py:588: FutureWarning: Series.base is deprecated and will be removed in a future version\n",
      "  data.base is not None and isinstance(data, np.ndarray) \\\n"
     ]
    },
    {
     "name": "stdout",
     "output_type": "stream",
     "text": [
      "[07:51:08] WARNING: /workspace/src/objective/regression_obj.cu:152: reg:linear is now deprecated in favor of reg:squarederror.\n",
      "Done. Time taken : 0:00:17.755979\n",
      "\n",
      "Done \n",
      "\n",
      "Evaluating the model with TRAIN data...\n",
      "Evaluating Test data\n",
      "\n",
      "TEST DATA\n",
      "------------------------------\n",
      "RMSE :  1.092464637038003\n",
      "MAPE :  34.86015569350967\n"
     ]
    },
    {
     "data": {
      "image/png": "[encoded data removed]",
      "text/plain": [
       "<Figure size 432x288 with 1 Axes>"
      ]
     },
     "metadata": {
      "tags": []
     },
     "output_type": "display_data"
    }
   ],
   "source": [
    "# initialize Our first XGBoost model...\n",
    "xgb_bsl = xgb.XGBRegressor(base_score=0.5, booster='gbtree', colsample_bylevel=1,\n",
    "             colsample_bynode=1, colsample_bytree=0.8, gamma=0,\n",
    "             importance_type='gain', learning_rate=0.1, max_delta_step=0,\n",
    "             max_depth=3, min_child_weight=3, missing=None, n_estimators=100,\n",
    "             n_jobs=-1, nthread=4, objective='reg:linear', random_state=0,\n",
    "             reg_alpha=0.005, reg_lambda=0.01, scale_pos_weight=1, seed=None,\n",
    "             silent=None, sub_sample=0.6, subsample=1, verbosity=1)\n",
    "\n",
    "train_results, test_results = run_xgboost(xgb_bsl, x_train, y_train, x_test, y_test)\n",
    "\n",
    "# store the results in models_evaluations dictionaries\n",
    "models_evaluation_train['xgb_bsl'] = train_results\n",
    "models_evaluation_test['xgb_bsl'] = test_results\n",
    "\n",
    "xgb.plot_importance(xgb_bsl)\n",
    "plt.show()"
   ]
  },
  {
   "cell_type": "markdown",
   "metadata": {
    "colab_type": "text",
    "id": "Q40zpVPPHK_M"
   },
   "source": [
    "<h3> 4.4.4 Surprise KNNBaseline predictor </h3>"
   ]
  },
  {
   "cell_type": "code",
   "execution_count": 0,
   "metadata": {
    "colab": {},
    "colab_type": "code",
    "id": "1NQ1X96KHMIl"
   },
   "outputs": [],
   "source": [
    "from surprise import KNNBaseline"
   ]
  },
  {
   "cell_type": "markdown",
   "metadata": {
    "colab_type": "text",
    "id": "EuT1RpcDHSXH"
   },
   "source": [
    "- KNN BASELINE\n",
    "    - http://surprise.readthedocs.io/en/stable/knn_inspired.html#surprise.prediction_algorithms.knns.KNNBaseline \n",
    "        \n",
    "- PEARSON_BASELINE SIMILARITY\n",
    "    - http://surprise.readthedocs.io/en/stable/similarities.html#surprise.similarities.pearson_baseline \n",
    "        \n",
    "- SHRINKAGE\n",
    "    - _2.2 Neighborhood Models_ in http://courses.ischool.berkeley.edu/i290-dm/s11/SECURE/a1-koren.pdf \n",
    "\n",
    "- __predicted Rating__ : ( ___ based on User-User similarity ___ )\n",
    "\n",
    "\\begin{align} \\hat{r}_{ui} = b_{ui} + \\frac{ \\sum\\limits_{v \\in N^k_i(u)}\n",
    "\\text{sim}(u, v) \\cdot (r_{vi} - b_{vi})} {\\sum\\limits_{v \\in\n",
    "N^k_i(u)} \\text{sim}(u, v)} \\end{align}\n",
    "\n",
    "- $\\pmb{b_{ui}}$ -  _Baseline prediction_ of (user,movie) rating\n",
    "\n",
    "- $ \\pmb {N_i^k (u)}$ - Set of __K similar__ users (neighbours) of __user (u)__ who rated __movie(i)__  \n",
    "\n",
    "- _sim (u, v)_ - __Similarity__ between users __u and v__  \n",
    "    - Generally, it will be cosine similarity or Pearson correlation coefficient. \n",
    "    - But we use __shrunk Pearson-baseline correlation coefficient__, which is based on the pearsonBaseline similarity ( we take base line predictions instead of mean rating of user/item)\n",
    "       \n",
    "- __ Predicted rating __ ( based on Item Item similarity ):\n",
    " \\begin{align} \\hat{r}_{ui} = b_{ui} + \\frac{ \\sum\\limits_{j \\in N^k_u(i)}\\text{sim}(i, j) \\cdot (r_{uj} - b_{uj})} {\\sum\\limits_{j \\in N^k_u(j)} \\text{sim}(i, j)} \\end{align}\n",
    "\n",
    "    -  ___Notations follows same as above (user user based predicted rating ) ___\n",
    "    \n",
    "<h4> 4.4.4.1 Surprise KNNBaseline with movie movie similarities</h4>"
   ]
  },
  {
   "cell_type": "code",
   "execution_count": 59,
   "metadata": {
    "colab": {
     "base_uri": "https://localhost:8080/",
     "height": 527
    },
    "colab_type": "code",
    "executionInfo": {
     "elapsed": 142447,
     "status": "ok",
     "timestamp": 1575618839261,
     "user": {
      "displayName": "Bharat Kumar",
      "photoUrl": "",
      "userId": "11978287233199522831"
     },
     "user_tz": -330
    },
    "id": "e6O5wrYQHY6n",
    "outputId": "45446536-3e7b-4c71-9607-bc32448bdc40"
   },
   "outputs": [
    {
     "name": "stdout",
     "output_type": "stream",
     "text": [
      "Training the model...\n",
      "Estimating biases using sgd...\n",
      "Computing the pearson_baseline similarity matrix...\n",
      "Done computing similarity matrix.\n",
      "Done. time taken : 0:00:15.477464 \n",
      "\n",
      "Evaluating the model with train data..\n",
      "time taken : 0:02:02.597895\n",
      "---------------\n",
      "Train Data\n",
      "---------------\n",
      "RMSE : 0.5038994796517224\n",
      "\n",
      "MAPE : 14.168515366483724\n",
      "\n",
      "adding train results in the dictionary..\n",
      "\n",
      "Evaluating for test data...\n",
      "time taken : 0:00:00.725691\n",
      "---------------\n",
      "Test Data\n",
      "---------------\n",
      "RMSE : 1.0871254774375978\n",
      "\n",
      "MAPE : 34.9334477168073\n",
      "\n",
      "storing the test results in test dictionary...\n",
      "\n",
      "---------------------------------------------\n",
      "Total time taken to run this algorithm : 0:02:18.802668\n"
     ]
    }
   ],
   "source": [
    "# we specify , how to compute similarities and what to consider with sim_options to our algorithm\n",
    "\n",
    "# 'user_based' : Fals => this considers the similarities of movies instead of users\n",
    "\n",
    "sim_params = {'user_based' : False,\n",
    "               'name': 'pearson_baseline',\n",
    "               'shrinkage': 100,\n",
    "               'min_support': 2\n",
    "              } \n",
    "# we keep other parameters like regularization parameter and learning_rate as default values.\n",
    "bsl_params = {'method': 'sgd'}\n",
    "\n",
    "knn_bsl_m = KNNBaseline(k=40, sim_options = sim_params, bsl_options = bsl_params)\n",
    "\n",
    "knn_bsl_m_train_results, knn_bsl_m_test_results = run_surprise(knn_bsl_m, trainset, testset, verbose=True)\n",
    "\n",
    "# Just store these error metrics in our models_evaluation datastructure\n",
    "models_evaluation_train['knn_bsl_m'] = knn_bsl_m_train_results \n",
    "models_evaluation_test['knn_bsl_m'] = knn_bsl_m_test_results\n"
   ]
  },
  {
   "cell_type": "markdown",
   "metadata": {
    "colab_type": "text",
    "id": "2hsAuSHQHdvZ"
   },
   "source": [
    "<h4> 4.4.4.2 Surprise KNNBaseline with user user similarities</h4>"
   ]
  },
  {
   "cell_type": "code",
   "execution_count": 60,
   "metadata": {
    "colab": {
     "base_uri": "https://localhost:8080/",
     "height": 527
    },
    "colab_type": "code",
    "executionInfo": {
     "elapsed": 2280055,
     "status": "ok",
     "timestamp": 1575620983972,
     "user": {
      "displayName": "Bharat Kumar",
      "photoUrl": "",
      "userId": "11978287233199522831"
     },
     "user_tz": -330
    },
    "id": "BtfeMqPJHjkr",
    "outputId": "e8211f3f-c304-4c01-aea0-650485f91383"
   },
   "outputs": [
    {
     "name": "stdout",
     "output_type": "stream",
     "text": [
      "Training the model...\n",
      "Estimating biases using sgd...\n",
      "Computing the pearson_baseline similarity matrix...\n",
      "Done computing similarity matrix.\n",
      "Done. time taken : 0:07:13.685311 \n",
      "\n",
      "Evaluating the model with train data..\n",
      "time taken : 0:28:29.860786\n",
      "---------------\n",
      "Train Data\n",
      "---------------\n",
      "RMSE : 0.4536279292470732\n",
      "\n",
      "MAPE : 12.840252350475915\n",
      "\n",
      "adding train results in the dictionary..\n",
      "\n",
      "Evaluating for test data...\n",
      "time taken : 0:00:01.330704\n",
      "---------------\n",
      "Test Data\n",
      "---------------\n",
      "RMSE : 1.0868961034865674\n",
      "\n",
      "MAPE : 34.93095406703468\n",
      "\n",
      "storing the test results in test dictionary...\n",
      "\n",
      "---------------------------------------------\n",
      "Total time taken to run this algorithm : 0:35:44.878760\n"
     ]
    }
   ],
   "source": [
    "# we specify , how to compute similarities and what to consider with sim_options to our algorithm\n",
    "sim_params = {'user_based' : True,\n",
    "               'name': 'pearson_baseline',\n",
    "               'shrinkage': 100,\n",
    "               'min_support': 2\n",
    "              } \n",
    "# we keep other parameters like regularization parameter and learning_rate as default values.\n",
    "bsl_params = {'method': 'sgd'} \n",
    "\n",
    "knn_bsl_u = KNNBaseline(k=40, sim_options = sim_params, bsl_options = bsl_params)\n",
    "knn_bsl_u_train_results, knn_bsl_u_test_results = run_surprise(knn_bsl_u, trainset, testset, verbose=True)\n",
    "\n",
    "# Just store these error metrics in our models_evaluation datastructure\n",
    "models_evaluation_train['knn_bsl_u'] = knn_bsl_u_train_results \n",
    "models_evaluation_test['knn_bsl_u'] = knn_bsl_u_test_results"
   ]
  },
  {
   "cell_type": "markdown",
   "metadata": {
    "colab_type": "text",
    "id": "rmNqgX_OVsdd"
   },
   "source": [
    "<h3> 4.4.5 XGBoost with initial 13 features + Surprise Baseline predictor + KNNBaseline predictor </h3>\n",
    "\n",
    "- - - First we will run XGBoost with predictions from both KNN's ( that uses User\\_User and Item\\_Item similarities along with our previous features.\n",
    "\n",
    " \n",
    "- - - Then we will run XGBoost with just predictions form both knn models and preditions from our baseline model. \n",
    "\n",
    "__Preparing Train data __"
   ]
  },
  {
   "cell_type": "code",
   "execution_count": 63,
   "metadata": {
    "colab": {
     "base_uri": "https://localhost:8080/",
     "height": 85
    },
    "colab_type": "code",
    "executionInfo": {
     "elapsed": 1658,
     "status": "ok",
     "timestamp": 1575621240842,
     "user": {
      "displayName": "Bharat Kumar",
      "photoUrl": "",
      "userId": "11978287233199522831"
     },
     "user_tz": -330
    },
    "id": "dJDs_L1sVyoj",
    "outputId": "12c1461b-7a5d-4873-8102-c08d89aba670"
   },
   "outputs": [
    {
     "data": {
      "text/plain": [
       "{'mape': 12.840252350475915,\n",
       " 'predictions': array([4.98449486, 3.18129643, 4.9012647 , ..., 3.        , 5.        ,\n",
       "        4.        ]),\n",
       " 'rmse': 0.4536279292470732}"
      ]
     },
     "execution_count": 63,
     "metadata": {
      "tags": []
     },
     "output_type": "execute_result"
    }
   ],
   "source": [
    "models_evaluation_train['knn_bsl_u']"
   ]
  },
  {
   "cell_type": "code",
   "execution_count": 64,
   "metadata": {
    "colab": {
     "base_uri": "https://localhost:8080/",
     "height": 85
    },
    "colab_type": "code",
    "executionInfo": {
     "elapsed": 2161,
     "status": "ok",
     "timestamp": 1575621251409,
     "user": {
      "displayName": "Bharat Kumar",
      "photoUrl": "",
      "userId": "11978287233199522831"
     },
     "user_tz": -330
    },
    "id": "Fz3mEqaTV66S",
    "outputId": "eed60b15-6436-45fe-ae9e-0ba70af467d4"
   },
   "outputs": [
    {
     "data": {
      "text/plain": [
       "{'mape': 14.168515366483724,\n",
       " 'predictions': array([4.88478232, 3.29593441, 4.9676822 , ..., 3.        , 5.        ,\n",
       "        4.        ]),\n",
       " 'rmse': 0.5038994796517224}"
      ]
     },
     "execution_count": 64,
     "metadata": {
      "tags": []
     },
     "output_type": "execute_result"
    }
   ],
   "source": [
    "models_evaluation_train['knn_bsl_m']"
   ]
  },
  {
   "cell_type": "code",
   "execution_count": 66,
   "metadata": {
    "colab": {
     "base_uri": "https://localhost:8080/",
     "height": 111
    },
    "colab_type": "code",
    "executionInfo": {
     "elapsed": 1388,
     "status": "ok",
     "timestamp": 1575621336702,
     "user": {
      "displayName": "Bharat Kumar",
      "photoUrl": "",
      "userId": "11978287233199522831"
     },
     "user_tz": -330
    },
    "id": "rObdqWVJWE44",
    "outputId": "22019f83-546a-4918-fad5-08f8016e58a2"
   },
   "outputs": [
    {
     "data": {
      "text/html": [
       "<div>\n",
       "<style scoped>\n",
       "    .dataframe tbody tr th:only-of-type {\n",
       "        vertical-align: middle;\n",
       "    }\n",
       "\n",
       "    .dataframe tbody tr th {\n",
       "        vertical-align: top;\n",
       "    }\n",
       "\n",
       "    .dataframe thead th {\n",
       "        text-align: right;\n",
       "    }\n",
       "</style>\n",
       "<table border=\"1\" class=\"dataframe\">\n",
       "  <thead>\n",
       "    <tr style=\"text-align: right;\">\n",
       "      <th></th>\n",
       "      <th>user</th>\n",
       "      <th>movie</th>\n",
       "      <th>GAvg</th>\n",
       "      <th>sur1</th>\n",
       "      <th>sur2</th>\n",
       "      <th>sur3</th>\n",
       "      <th>sur4</th>\n",
       "      <th>sur5</th>\n",
       "      <th>smr1</th>\n",
       "      <th>smr2</th>\n",
       "      <th>smr3</th>\n",
       "      <th>smr4</th>\n",
       "      <th>smr5</th>\n",
       "      <th>UAvg</th>\n",
       "      <th>MAvg</th>\n",
       "      <th>rating</th>\n",
       "      <th>bslpr</th>\n",
       "      <th>knn_bsl_u</th>\n",
       "      <th>knn_bsl_m</th>\n",
       "    </tr>\n",
       "  </thead>\n",
       "  <tbody>\n",
       "    <tr>\n",
       "      <th>0</th>\n",
       "      <td>174683</td>\n",
       "      <td>10</td>\n",
       "      <td>3.587581</td>\n",
       "      <td>5.0</td>\n",
       "      <td>5.0</td>\n",
       "      <td>3.0</td>\n",
       "      <td>4.0</td>\n",
       "      <td>4.0</td>\n",
       "      <td>3.0</td>\n",
       "      <td>5.0</td>\n",
       "      <td>4.0</td>\n",
       "      <td>3.0</td>\n",
       "      <td>2.0</td>\n",
       "      <td>3.882353</td>\n",
       "      <td>3.611111</td>\n",
       "      <td>5</td>\n",
       "      <td>3.681393</td>\n",
       "      <td>4.984495</td>\n",
       "      <td>4.884782</td>\n",
       "    </tr>\n",
       "    <tr>\n",
       "      <th>1</th>\n",
       "      <td>233949</td>\n",
       "      <td>10</td>\n",
       "      <td>3.587581</td>\n",
       "      <td>4.0</td>\n",
       "      <td>4.0</td>\n",
       "      <td>5.0</td>\n",
       "      <td>1.0</td>\n",
       "      <td>3.0</td>\n",
       "      <td>2.0</td>\n",
       "      <td>3.0</td>\n",
       "      <td>2.0</td>\n",
       "      <td>3.0</td>\n",
       "      <td>3.0</td>\n",
       "      <td>2.692308</td>\n",
       "      <td>3.611111</td>\n",
       "      <td>3</td>\n",
       "      <td>3.720150</td>\n",
       "      <td>3.181296</td>\n",
       "      <td>3.295934</td>\n",
       "    </tr>\n",
       "  </tbody>\n",
       "</table>\n",
       "</div>"
      ],
      "text/plain": [
       "     user  movie      GAvg  sur1  ...  rating     bslpr  knn_bsl_u  knn_bsl_m\n",
       "0  174683     10  3.587581   5.0  ...       5  3.681393   4.984495   4.884782\n",
       "1  233949     10  3.587581   4.0  ...       3  3.720150   3.181296   3.295934\n",
       "\n",
       "[2 rows x 19 columns]"
      ]
     },
     "execution_count": 66,
     "metadata": {
      "tags": []
     },
     "output_type": "execute_result"
    }
   ],
   "source": [
    "# add the predicted values from both knns to this dataframe\n",
    "reg_train_new['knn_bsl_u'] = models_evaluation_train['knn_bsl_u']['predictions']\n",
    "reg_train_new['knn_bsl_m'] = models_evaluation_train['knn_bsl_m']['predictions']\n",
    "\n",
    "reg_train_new.head(2)"
   ]
  },
  {
   "cell_type": "markdown",
   "metadata": {
    "colab_type": "text",
    "id": "3dcpKyUBWafw"
   },
   "source": [
    "__Preparing Test data  __"
   ]
  },
  {
   "cell_type": "code",
   "execution_count": 67,
   "metadata": {
    "colab": {
     "base_uri": "https://localhost:8080/",
     "height": 85
    },
    "colab_type": "code",
    "executionInfo": {
     "elapsed": 1289,
     "status": "ok",
     "timestamp": 1575621369052,
     "user": {
      "displayName": "Bharat Kumar",
      "photoUrl": "",
      "userId": "11978287233199522831"
     },
     "user_tz": -330
    },
    "id": "JqB5bYX8WbqG",
    "outputId": "e0428de3-2e8a-4e71-b466-f4f7b18ef994"
   },
   "outputs": [
    {
     "data": {
      "text/plain": [
       "{'mape': 34.93095406703468,\n",
       " 'predictions': array([3.58758136, 3.58758136, 3.58758136, ..., 3.58758136, 3.58758136,\n",
       "        3.58758136]),\n",
       " 'rmse': 1.0868961034865674}"
      ]
     },
     "execution_count": 67,
     "metadata": {
      "tags": []
     },
     "output_type": "execute_result"
    }
   ],
   "source": [
    "models_evaluation_test['knn_bsl_u']"
   ]
  },
  {
   "cell_type": "code",
   "execution_count": 68,
   "metadata": {
    "colab": {
     "base_uri": "https://localhost:8080/",
     "height": 85
    },
    "colab_type": "code",
    "executionInfo": {
     "elapsed": 1226,
     "status": "ok",
     "timestamp": 1575621379277,
     "user": {
      "displayName": "Bharat Kumar",
      "photoUrl": "",
      "userId": "11978287233199522831"
     },
     "user_tz": -330
    },
    "id": "3KRqI9BLWiBm",
    "outputId": "9d4bdfd0-d879-4999-dbb0-b9c3938d04f6"
   },
   "outputs": [
    {
     "data": {
      "text/plain": [
       "{'mape': 34.9334477168073,\n",
       " 'predictions': array([3.58758136, 3.58758136, 3.58758136, ..., 3.58758136, 3.58758136,\n",
       "        3.58758136]),\n",
       " 'rmse': 1.0871254774375978}"
      ]
     },
     "execution_count": 68,
     "metadata": {
      "tags": []
     },
     "output_type": "execute_result"
    }
   ],
   "source": [
    "models_evaluation_test['knn_bsl_m']"
   ]
  },
  {
   "cell_type": "code",
   "execution_count": 69,
   "metadata": {
    "colab": {
     "base_uri": "https://localhost:8080/",
     "height": 131
    },
    "colab_type": "code",
    "executionInfo": {
     "elapsed": 1385,
     "status": "ok",
     "timestamp": 1575621410832,
     "user": {
      "displayName": "Bharat Kumar",
      "photoUrl": "",
      "userId": "11978287233199522831"
     },
     "user_tz": -330
    },
    "id": "r3jY1WlqWkzD",
    "outputId": "4c2b4d68-93e8-4af6-e749-7c55a40b1fc3"
   },
   "outputs": [
    {
     "data": {
      "text/html": [
       "<div>\n",
       "<style scoped>\n",
       "    .dataframe tbody tr th:only-of-type {\n",
       "        vertical-align: middle;\n",
       "    }\n",
       "\n",
       "    .dataframe tbody tr th {\n",
       "        vertical-align: top;\n",
       "    }\n",
       "\n",
       "    .dataframe thead th {\n",
       "        text-align: right;\n",
       "    }\n",
       "</style>\n",
       "<table border=\"1\" class=\"dataframe\">\n",
       "  <thead>\n",
       "    <tr style=\"text-align: right;\">\n",
       "      <th></th>\n",
       "      <th>user</th>\n",
       "      <th>movie</th>\n",
       "      <th>GAvg</th>\n",
       "      <th>sur1</th>\n",
       "      <th>sur2</th>\n",
       "      <th>sur3</th>\n",
       "      <th>sur4</th>\n",
       "      <th>sur5</th>\n",
       "      <th>smr1</th>\n",
       "      <th>smr2</th>\n",
       "      <th>smr3</th>\n",
       "      <th>smr4</th>\n",
       "      <th>smr5</th>\n",
       "      <th>UAvg</th>\n",
       "      <th>MAvg</th>\n",
       "      <th>rating</th>\n",
       "      <th>bslpr</th>\n",
       "      <th>knn_bsl_u</th>\n",
       "      <th>knn_bsl_m</th>\n",
       "    </tr>\n",
       "  </thead>\n",
       "  <tbody>\n",
       "    <tr>\n",
       "      <th>0</th>\n",
       "      <td>1129620</td>\n",
       "      <td>2</td>\n",
       "      <td>3.587581</td>\n",
       "      <td>3.587581</td>\n",
       "      <td>3.587581</td>\n",
       "      <td>3.587581</td>\n",
       "      <td>3.587581</td>\n",
       "      <td>3.587581</td>\n",
       "      <td>3.587581</td>\n",
       "      <td>3.587581</td>\n",
       "      <td>3.587581</td>\n",
       "      <td>3.587581</td>\n",
       "      <td>3.587581</td>\n",
       "      <td>3.587581</td>\n",
       "      <td>3.587581</td>\n",
       "      <td>3</td>\n",
       "      <td>3.587581</td>\n",
       "      <td>3.587581</td>\n",
       "      <td>3.587581</td>\n",
       "    </tr>\n",
       "    <tr>\n",
       "      <th>1</th>\n",
       "      <td>779046</td>\n",
       "      <td>71</td>\n",
       "      <td>3.587581</td>\n",
       "      <td>3.587581</td>\n",
       "      <td>3.587581</td>\n",
       "      <td>3.587581</td>\n",
       "      <td>3.587581</td>\n",
       "      <td>3.587581</td>\n",
       "      <td>3.587581</td>\n",
       "      <td>3.587581</td>\n",
       "      <td>3.587581</td>\n",
       "      <td>3.587581</td>\n",
       "      <td>3.587581</td>\n",
       "      <td>3.587581</td>\n",
       "      <td>3.587581</td>\n",
       "      <td>5</td>\n",
       "      <td>3.587581</td>\n",
       "      <td>3.587581</td>\n",
       "      <td>3.587581</td>\n",
       "    </tr>\n",
       "  </tbody>\n",
       "</table>\n",
       "</div>"
      ],
      "text/plain": [
       "      user  movie      GAvg      sur1  ...  rating     bslpr  knn_bsl_u  knn_bsl_m\n",
       "0  1129620      2  3.587581  3.587581  ...       3  3.587581   3.587581   3.587581\n",
       "1   779046     71  3.587581  3.587581  ...       5  3.587581   3.587581   3.587581\n",
       "\n",
       "[2 rows x 19 columns]"
      ]
     },
     "execution_count": 69,
     "metadata": {
      "tags": []
     },
     "output_type": "execute_result"
    }
   ],
   "source": [
    "reg_test_new['knn_bsl_u'] = models_evaluation_test['knn_bsl_u']['predictions']\n",
    "reg_test_new['knn_bsl_m'] = models_evaluation_test['knn_bsl_m']['predictions']\n",
    "\n",
    "reg_test_new.head(2)"
   ]
  },
  {
   "cell_type": "code",
   "execution_count": 0,
   "metadata": {
    "colab": {},
    "colab_type": "code",
    "id": "uRb34la4W3Wy"
   },
   "outputs": [],
   "source": [
    "# prepare the train data....\n",
    "x_train = reg_train_new.drop(['user', 'movie', 'rating'], axis=1)\n",
    "y_train = reg_train_new['rating']\n",
    "\n",
    "# prepare the train data....\n",
    "x_test = reg_test_new.drop(['user','movie','rating'], axis=1)\n",
    "y_test = reg_test_new['rating']"
   ]
  },
  {
   "cell_type": "code",
   "execution_count": 71,
   "metadata": {
    "colab": {
     "base_uri": "https://localhost:8080/",
     "height": 564
    },
    "colab_type": "code",
    "executionInfo": {
     "elapsed": 117827,
     "status": "ok",
     "timestamp": 1575621627972,
     "user": {
      "displayName": "Bharat Kumar",
      "photoUrl": "",
      "userId": "11978287233199522831"
     },
     "user_tz": -330
    },
    "id": "hUAhAVkmW9B1",
    "outputId": "73355a8c-94eb-465b-d0cf-6cabee5b1685"
   },
   "outputs": [
    {
     "name": "stderr",
     "output_type": "stream",
     "text": [
      "/usr/local/lib/python3.6/dist-packages/sklearn/model_selection/_split.py:1978: FutureWarning: The default value of cv will change from 3 to 5 in version 0.22. Specify it explicitly to silence this warning.\n",
      "  warnings.warn(CV_WARNING, FutureWarning)\n",
      "/usr/local/lib/python3.6/dist-packages/xgboost/core.py:587: FutureWarning: Series.base is deprecated and will be removed in a future version\n",
      "  if getattr(data, 'base', None) is not None and \\\n",
      "/usr/local/lib/python3.6/dist-packages/xgboost/core.py:588: FutureWarning: Series.base is deprecated and will be removed in a future version\n",
      "  data.base is not None and isinstance(data, np.ndarray) \\\n"
     ]
    },
    {
     "name": "stdout",
     "output_type": "stream",
     "text": [
      "[08:40:09] WARNING: /workspace/src/objective/regression_obj.cu:152: reg:linear is now deprecated in favor of reg:squarederror.\n"
     ]
    },
    {
     "data": {
      "text/plain": [
       "RandomizedSearchCV(cv='warn', error_score='raise-deprecating',\n",
       "                   estimator=XGBRegressor(base_score=0.5, booster='gbtree',\n",
       "                                          colsample_bylevel=1,\n",
       "                                          colsample_bynode=1,\n",
       "                                          colsample_bytree=1, gamma=0,\n",
       "                                          importance_type='gain',\n",
       "                                          learning_rate=0.1, max_delta_step=0,\n",
       "                                          max_depth=3, min_child_weight=1,\n",
       "                                          missing=None, n_estimators=100,\n",
       "                                          n_jobs=-1, nthread=4,\n",
       "                                          objective='reg:linear',\n",
       "                                          random...\n",
       "                   iid='warn', n_iter=10, n_jobs=-1,\n",
       "                   param_distributions={'colsample_bytree': [0.6, 0.8],\n",
       "                                        'gamma': [0, 0.1],\n",
       "                                        'learning_rate': [0.01, 0.1],\n",
       "                                        'max_depth': [2, 3, 4],\n",
       "                                        'min_child_weight': [3, 5],\n",
       "                                        'n_estimators': [50, 100, 150],\n",
       "                                        'reg_alpha': [0.005, 0.01],\n",
       "                                        'reg_lambda': [0.005, 0.01],\n",
       "                                        'sub_sample': [0.6, 0.8]},\n",
       "                   pre_dispatch='2*n_jobs', random_state=None, refit=True,\n",
       "                   return_train_score=True, scoring='r2', verbose=0)"
      ]
     },
     "execution_count": 71,
     "metadata": {
      "tags": []
     },
     "output_type": "execute_result"
    }
   ],
   "source": [
    "# Hyper param tuning.\n",
    "parameters = {'learning_rate':   [0.01, 0.1], # 2 components\n",
    "              'n_estimators':    [50, 100, 150], # 3 components\n",
    "              'max_depth':       [2,3,4], # 3 components\n",
    "              'min_child_weight':[3, 5], # 2 components\n",
    "              'sub_sample':      [0.6, 0.8], # 2 components\n",
    "              'colsample_bytree':[0.6, 0.8], # 2 components\n",
    "              'gamma':           [0, 0.1], # 2 components\n",
    "              'reg_alpha':       [0.005, 0.01], # 2 components\n",
    "              'reg_lambda':      [0.005, 0.01]} # 2 components\n",
    "\n",
    "# total of 768 combinations used for randomized search\n",
    "rscv = RandomizedSearchCV(estimator = xgb.XGBRegressor(nthread=4, n_jobs=-1), param_distributions= parameters, n_jobs= -1, \n",
    "                          return_train_score=True, scoring = 'r2')\n",
    "rscv.fit(x_train, y_train)"
   ]
  },
  {
   "cell_type": "code",
   "execution_count": 72,
   "metadata": {
    "colab": {
     "base_uri": "https://localhost:8080/",
     "height": 187
    },
    "colab_type": "code",
    "executionInfo": {
     "elapsed": 99190,
     "status": "ok",
     "timestamp": 1575621627981,
     "user": {
      "displayName": "Bharat Kumar",
      "photoUrl": "",
      "userId": "11978287233199522831"
     },
     "user_tz": -330
    },
    "id": "8eY50GOYXE3A",
    "outputId": "9dfbe13e-5221-4234-8e1f-e66170d520b4"
   },
   "outputs": [
    {
     "name": "stdout",
     "output_type": "stream",
     "text": [
      "Best parameters: \n",
      " XGBRegressor(base_score=0.5, booster='gbtree', colsample_bylevel=1,\n",
      "             colsample_bynode=1, colsample_bytree=0.6, gamma=0,\n",
      "             importance_type='gain', learning_rate=0.1, max_delta_step=0,\n",
      "             max_depth=2, min_child_weight=3, missing=None, n_estimators=100,\n",
      "             n_jobs=-1, nthread=4, objective='reg:linear', random_state=0,\n",
      "             reg_alpha=0.01, reg_lambda=0.005, scale_pos_weight=1, seed=None,\n",
      "             silent=None, sub_sample=0.6, subsample=1, verbosity=1)\n",
      "\n",
      "neg_mean_absolute_error: 0.011646380887316399\n"
     ]
    }
   ],
   "source": [
    "print('Best parameters: \\n', rscv.best_estimator_)\n",
    "print()\n",
    "print('neg_mean_absolute_error:', rscv.score(x_test, y_test))"
   ]
  },
  {
   "cell_type": "code",
   "execution_count": 73,
   "metadata": {
    "colab": {
     "base_uri": "https://localhost:8080/",
     "height": 584
    },
    "colab_type": "code",
    "executionInfo": {
     "elapsed": 18551,
     "status": "ok",
     "timestamp": 1575621694991,
     "user": {
      "displayName": "Bharat Kumar",
      "photoUrl": "",
      "userId": "11978287233199522831"
     },
     "user_tz": -330
    },
    "id": "4FiWXRtzXJdV",
    "outputId": "492ebb17-5697-43f5-9ad8-1381d6129055"
   },
   "outputs": [
    {
     "name": "stdout",
     "output_type": "stream",
     "text": [
      "Training the model..\n"
     ]
    },
    {
     "name": "stderr",
     "output_type": "stream",
     "text": [
      "/usr/local/lib/python3.6/dist-packages/xgboost/core.py:587: FutureWarning: Series.base is deprecated and will be removed in a future version\n",
      "  if getattr(data, 'base', None) is not None and \\\n",
      "/usr/local/lib/python3.6/dist-packages/xgboost/core.py:588: FutureWarning: Series.base is deprecated and will be removed in a future version\n",
      "  data.base is not None and isinstance(data, np.ndarray) \\\n"
     ]
    },
    {
     "name": "stdout",
     "output_type": "stream",
     "text": [
      "[08:41:12] WARNING: /workspace/src/objective/regression_obj.cu:152: reg:linear is now deprecated in favor of reg:squarederror.\n",
      "Done. Time taken : 0:00:13.263243\n",
      "\n",
      "Done \n",
      "\n",
      "Evaluating the model with TRAIN data...\n",
      "Evaluating Test data\n",
      "\n",
      "TEST DATA\n",
      "------------------------------\n",
      "RMSE :  1.0881069932328495\n",
      "MAPE :  35.35244502169828\n"
     ]
    },
    {
     "data": {
      "image/png": "[encoded data removed]",
      "text/plain": [
       "<Figure size 432x288 with 1 Axes>"
      ]
     },
     "metadata": {
      "tags": []
     },
     "output_type": "display_data"
    }
   ],
   "source": [
    "# declare the model\n",
    "xgb_knn_bsl = xgb.XGBRegressor(base_score=0.5, booster='gbtree', colsample_bylevel=1,\n",
    "             colsample_bynode=1, colsample_bytree=0.6, gamma=0,\n",
    "             importance_type='gain', learning_rate=0.1, max_delta_step=0,\n",
    "             max_depth=2, min_child_weight=3, missing=None, n_estimators=100,\n",
    "             n_jobs=-1, nthread=4, objective='reg:linear', random_state=0,\n",
    "             reg_alpha=0.01, reg_lambda=0.005, scale_pos_weight=1, seed=None,\n",
    "             silent=None, sub_sample=0.6, subsample=1, verbosity=1)\n",
    "train_results, test_results = run_xgboost(xgb_knn_bsl, x_train, y_train, x_test, y_test)\n",
    "\n",
    "# store the results in models_evaluations dictionaries\n",
    "models_evaluation_train['xgb_knn_bsl'] = train_results\n",
    "models_evaluation_test['xgb_knn_bsl'] = test_results\n",
    "\n",
    "\n",
    "xgb.plot_importance(xgb_knn_bsl)\n",
    "plt.show()"
   ]
  },
  {
   "cell_type": "markdown",
   "metadata": {
    "colab_type": "text",
    "id": "5YvNbdJIX4XA"
   },
   "source": [
    "<h3> 4.4.6 Matrix Factorization Techniques </h3>\n",
    "\n",
    "<h4> 4.4.6.1 SVD Matrix Factorization User Movie intractions </h4>"
   ]
  },
  {
   "cell_type": "code",
   "execution_count": 0,
   "metadata": {
    "colab": {},
    "colab_type": "code",
    "id": "BYk4Fc_lX6Yz"
   },
   "outputs": [],
   "source": [
    "from surprise import SVD"
   ]
  },
  {
   "cell_type": "markdown",
   "metadata": {
    "colab_type": "text",
    "id": "sKLx9gDoX-YW"
   },
   "source": [
    "- __ Predicted Rating : __\n",
    "    - \n",
    "    - $ \\large  \\hat r_{ui} = \\mu + b_u + b_i + q_i^Tp_u $\n",
    "    \n",
    "        - $\\pmb q_i$ - Representation of item(movie) in latent factor space\n",
    "        \n",
    "        - $\\pmb p_u$ - Representation of user in new latent factor space\n",
    "        \n",
    "- A BASIC MATRIX FACTORIZATION MODEL in  https://datajobs.com/data-science-repo/Recommender-Systems-[Netflix].pdf\n",
    "\n",
    "- __Optimization problem with user item interactions and regularization (to avoid overfitting)__\n",
    "    - \n",
    "    - $\\large \\sum_{r_{ui} \\in R_{train}} \\left(r_{ui} - \\hat{r}_{ui} \\right)^2 +\n",
    "\\lambda\\left(b_i^2 + b_u^2 + ||q_i||^2 + ||p_u||^2\\right) $"
   ]
  },
  {
   "cell_type": "code",
   "execution_count": 75,
   "metadata": {
    "colab": {
     "base_uri": "https://localhost:8080/",
     "height": 816
    },
    "colab_type": "code",
    "executionInfo": {
     "elapsed": 65675,
     "status": "ok",
     "timestamp": 1575621879828,
     "user": {
      "displayName": "Bharat Kumar",
      "photoUrl": "",
      "userId": "11978287233199522831"
     },
     "user_tz": -330
    },
    "id": "ks14NxWfYI2G",
    "outputId": "695c702c-f823-4cac-f264-fb523f7f7d81"
   },
   "outputs": [
    {
     "name": "stdout",
     "output_type": "stream",
     "text": [
      "Training the model...\n",
      "Processing epoch 0\n",
      "Processing epoch 1\n",
      "Processing epoch 2\n",
      "Processing epoch 3\n",
      "Processing epoch 4\n",
      "Processing epoch 5\n",
      "Processing epoch 6\n",
      "Processing epoch 7\n",
      "Processing epoch 8\n",
      "Processing epoch 9\n",
      "Processing epoch 10\n",
      "Processing epoch 11\n",
      "Processing epoch 12\n",
      "Processing epoch 13\n",
      "Processing epoch 14\n",
      "Processing epoch 15\n",
      "Processing epoch 16\n",
      "Processing epoch 17\n",
      "Processing epoch 18\n",
      "Processing epoch 19\n",
      "Done. time taken : 0:00:52.615455 \n",
      "\n",
      "Evaluating the model with train data..\n",
      "time taken : 0:00:09.203319\n",
      "---------------\n",
      "Train Data\n",
      "---------------\n",
      "RMSE : 0.6746731413267192\n",
      "\n",
      "MAPE : 20.05479554670084\n",
      "\n",
      "adding train results in the dictionary..\n",
      "\n",
      "Evaluating for test data...\n",
      "time taken : 0:00:01.144430\n",
      "---------------\n",
      "Test Data\n",
      "---------------\n",
      "RMSE : 1.0864183392580073\n",
      "\n",
      "MAPE : 34.86051459384974\n",
      "\n",
      "storing the test results in test dictionary...\n",
      "\n",
      "---------------------------------------------\n",
      "Total time taken to run this algorithm : 0:01:02.965255\n"
     ]
    }
   ],
   "source": [
    "# initiallize the model\n",
    "svd = SVD(n_factors=100, biased=True, random_state=15, verbose=True)\n",
    "svd_train_results, svd_test_results = run_surprise(svd, trainset, testset, verbose=True)\n",
    "\n",
    "# Just store these error metrics in our models_evaluation datastructure\n",
    "models_evaluation_train['svd'] = svd_train_results \n",
    "models_evaluation_test['svd'] = svd_test_results"
   ]
  },
  {
   "cell_type": "markdown",
   "metadata": {
    "colab_type": "text",
    "id": "ECd7sQSmYVd8"
   },
   "source": [
    "  <h4> 4.4.6.2 SVD Matrix Factorization with implicit feedback from user ( user rated movies ) </h4>"
   ]
  },
  {
   "cell_type": "markdown",
   "metadata": {
    "colab_type": "text",
    "id": "17A4LTOgYVK2"
   },
   "source": []
  },
  {
   "cell_type": "code",
   "execution_count": 0,
   "metadata": {
    "colab": {},
    "colab_type": "code",
    "id": "PWrVdRXUWkpe"
   },
   "outputs": [],
   "source": [
    "from surprise import SVDpp"
   ]
  },
  {
   "cell_type": "markdown",
   "metadata": {
    "colab_type": "text",
    "id": "PIZeGmXtYvHa"
   },
   "source": [
    "- ----->  2.5 Implicit Feedback in http://courses.ischool.berkeley.edu/i290-dm/s11/SECURE/a1-koren.pdf\n",
    "\n",
    "- __ Predicted Rating : __\n",
    "    - \n",
    "    - $ \\large \\hat{r}_{ui} = \\mu + b_u + b_i + q_i^T\\left(p_u +\n",
    "    |I_u|^{-\\frac{1}{2}} \\sum_{j \\in I_u}y_j\\right) $ \n",
    "    \n",
    " - $ \\pmb{I_u}$ --- the set of all items rated by user u\n",
    "\n",
    "- $\\pmb{y_j}$ --- Our new set of item factors that capture implicit ratings.  \n",
    "\n",
    "- __Optimization problem with user item interactions and regularization (to avoid overfitting)__\n",
    "    - \n",
    "    - $ \\large \\sum_{r_{ui} \\in R_{train}} \\left(r_{ui} - \\hat{r}_{ui} \\right)^2 +\n",
    "\\lambda\\left(b_i^2 + b_u^2 + ||q_i||^2 + ||p_u||^2 + ||y_j||^2\\right) $ "
   ]
  },
  {
   "cell_type": "code",
   "execution_count": 77,
   "metadata": {
    "colab": {
     "base_uri": "https://localhost:8080/",
     "height": 816
    },
    "colab_type": "code",
    "executionInfo": {
     "elapsed": 2254906,
     "status": "ok",
     "timestamp": 1575624248226,
     "user": {
      "displayName": "Bharat Kumar",
      "photoUrl": "",
      "userId": "11978287233199522831"
     },
     "user_tz": -330
    },
    "id": "giPhSWdFYwmE",
    "outputId": "b8cec2b3-ed5f-4d37-e0d0-6f17d29dfd84"
   },
   "outputs": [
    {
     "name": "stdout",
     "output_type": "stream",
     "text": [
      "Training the model...\n",
      " processing epoch 0\n",
      " processing epoch 1\n",
      " processing epoch 2\n",
      " processing epoch 3\n",
      " processing epoch 4\n",
      " processing epoch 5\n",
      " processing epoch 6\n",
      " processing epoch 7\n",
      " processing epoch 8\n",
      " processing epoch 9\n",
      " processing epoch 10\n",
      " processing epoch 11\n",
      " processing epoch 12\n",
      " processing epoch 13\n",
      " processing epoch 14\n",
      " processing epoch 15\n",
      " processing epoch 16\n",
      " processing epoch 17\n",
      " processing epoch 18\n",
      " processing epoch 19\n",
      "Done. time taken : 0:35:58.485374 \n",
      "\n",
      "Evaluating the model with train data..\n",
      "time taken : 0:01:32.066327\n",
      "---------------\n",
      "Train Data\n",
      "---------------\n",
      "RMSE : 0.6641918784333875\n",
      "\n",
      "MAPE : 19.24213231265533\n",
      "\n",
      "adding train results in the dictionary..\n",
      "\n",
      "Evaluating for test data...\n",
      "time taken : 0:00:01.223381\n",
      "---------------\n",
      "Test Data\n",
      "---------------\n",
      "RMSE : 1.0868790316621306\n",
      "\n",
      "MAPE : 34.82076787455494\n",
      "\n",
      "storing the test results in test dictionary...\n",
      "\n",
      "---------------------------------------------\n",
      "Total time taken to run this algorithm : 0:37:31.777362\n"
     ]
    }
   ],
   "source": [
    "# initiallize the model\n",
    "svdpp = SVDpp(n_factors=50, random_state=15, verbose=True)\n",
    "svdpp_train_results, svdpp_test_results = run_surprise(svdpp, trainset, testset, verbose=True)\n",
    "\n",
    "# Just store these error metrics in our models_evaluation datastructure\n",
    "models_evaluation_train['svdpp'] = svdpp_train_results \n",
    "models_evaluation_test['svdpp'] = svdpp_test_results"
   ]
  },
  {
   "cell_type": "markdown",
   "metadata": {
    "colab_type": "text",
    "id": "_yptDK54ZA-R"
   },
   "source": [
    "<h3> 4.4.7 XgBoost with 13 features + Surprise Baseline + Surprise KNNbaseline + MF Techniques </h3>\n",
    "\n",
    "__Preparing Train data__"
   ]
  },
  {
   "cell_type": "code",
   "execution_count": 78,
   "metadata": {
    "colab": {
     "base_uri": "https://localhost:8080/",
     "height": 85
    },
    "colab_type": "code",
    "executionInfo": {
     "elapsed": 1709,
     "status": "ok",
     "timestamp": 1575624250004,
     "user": {
      "displayName": "Bharat Kumar",
      "photoUrl": "",
      "userId": "11978287233199522831"
     },
     "user_tz": -330
    },
    "id": "cSPXNKnoZCXz",
    "outputId": "9c8f152b-9277-42df-cf15-2e3707d71cd3"
   },
   "outputs": [
    {
     "data": {
      "text/plain": [
       "{'mape': 20.05479554670084,\n",
       " 'predictions': array([4.07334811, 3.64907292, 4.80044776, ..., 3.80136179, 4.1158486 ,\n",
       "        4.28123386]),\n",
       " 'rmse': 0.6746731413267192}"
      ]
     },
     "execution_count": 78,
     "metadata": {
      "tags": []
     },
     "output_type": "execute_result"
    }
   ],
   "source": [
    "models_evaluation_train['svd']"
   ]
  },
  {
   "cell_type": "code",
   "execution_count": 79,
   "metadata": {
    "colab": {
     "base_uri": "https://localhost:8080/",
     "height": 85
    },
    "colab_type": "code",
    "executionInfo": {
     "elapsed": 1668,
     "status": "ok",
     "timestamp": 1575624250011,
     "user": {
      "displayName": "Bharat Kumar",
      "photoUrl": "",
      "userId": "11978287233199522831"
     },
     "user_tz": -330
    },
    "id": "4GxsRC9kZFSL",
    "outputId": "46b903c2-c3fd-4684-8b8a-60ebe5e02b12"
   },
   "outputs": [
    {
     "data": {
      "text/plain": [
       "{'mape': 19.24213231265533,\n",
       " 'predictions': array([3.88411495, 3.61847613, 4.6160544 , ..., 3.56489355, 4.33083611,\n",
       "        4.13181654]),\n",
       " 'rmse': 0.6641918784333875}"
      ]
     },
     "execution_count": 79,
     "metadata": {
      "tags": []
     },
     "output_type": "execute_result"
    }
   ],
   "source": [
    "models_evaluation_train['svdpp']"
   ]
  },
  {
   "cell_type": "code",
   "execution_count": 80,
   "metadata": {
    "colab": {
     "base_uri": "https://localhost:8080/",
     "height": 131
    },
    "colab_type": "code",
    "executionInfo": {
     "elapsed": 1663,
     "status": "ok",
     "timestamp": 1575624250028,
     "user": {
      "displayName": "Bharat Kumar",
      "photoUrl": "",
      "userId": "11978287233199522831"
     },
     "user_tz": -330
    },
    "id": "WXGpiyqzZGcl",
    "outputId": "5f69f09d-deb2-43b8-c843-397374bb9b49"
   },
   "outputs": [
    {
     "data": {
      "text/html": [
       "<div>\n",
       "<style scoped>\n",
       "    .dataframe tbody tr th:only-of-type {\n",
       "        vertical-align: middle;\n",
       "    }\n",
       "\n",
       "    .dataframe tbody tr th {\n",
       "        vertical-align: top;\n",
       "    }\n",
       "\n",
       "    .dataframe thead th {\n",
       "        text-align: right;\n",
       "    }\n",
       "</style>\n",
       "<table border=\"1\" class=\"dataframe\">\n",
       "  <thead>\n",
       "    <tr style=\"text-align: right;\">\n",
       "      <th></th>\n",
       "      <th>user</th>\n",
       "      <th>movie</th>\n",
       "      <th>GAvg</th>\n",
       "      <th>sur1</th>\n",
       "      <th>sur2</th>\n",
       "      <th>sur3</th>\n",
       "      <th>sur4</th>\n",
       "      <th>sur5</th>\n",
       "      <th>smr1</th>\n",
       "      <th>smr2</th>\n",
       "      <th>smr3</th>\n",
       "      <th>smr4</th>\n",
       "      <th>smr5</th>\n",
       "      <th>UAvg</th>\n",
       "      <th>MAvg</th>\n",
       "      <th>rating</th>\n",
       "      <th>bslpr</th>\n",
       "      <th>knn_bsl_u</th>\n",
       "      <th>knn_bsl_m</th>\n",
       "      <th>svd</th>\n",
       "      <th>svdpp</th>\n",
       "    </tr>\n",
       "  </thead>\n",
       "  <tbody>\n",
       "    <tr>\n",
       "      <th>0</th>\n",
       "      <td>174683</td>\n",
       "      <td>10</td>\n",
       "      <td>3.587581</td>\n",
       "      <td>5.0</td>\n",
       "      <td>5.0</td>\n",
       "      <td>3.0</td>\n",
       "      <td>4.0</td>\n",
       "      <td>4.0</td>\n",
       "      <td>3.0</td>\n",
       "      <td>5.0</td>\n",
       "      <td>4.0</td>\n",
       "      <td>3.0</td>\n",
       "      <td>2.0</td>\n",
       "      <td>3.882353</td>\n",
       "      <td>3.611111</td>\n",
       "      <td>5</td>\n",
       "      <td>3.681393</td>\n",
       "      <td>4.984495</td>\n",
       "      <td>4.884782</td>\n",
       "      <td>4.073348</td>\n",
       "      <td>3.884115</td>\n",
       "    </tr>\n",
       "    <tr>\n",
       "      <th>1</th>\n",
       "      <td>233949</td>\n",
       "      <td>10</td>\n",
       "      <td>3.587581</td>\n",
       "      <td>4.0</td>\n",
       "      <td>4.0</td>\n",
       "      <td>5.0</td>\n",
       "      <td>1.0</td>\n",
       "      <td>3.0</td>\n",
       "      <td>2.0</td>\n",
       "      <td>3.0</td>\n",
       "      <td>2.0</td>\n",
       "      <td>3.0</td>\n",
       "      <td>3.0</td>\n",
       "      <td>2.692308</td>\n",
       "      <td>3.611111</td>\n",
       "      <td>3</td>\n",
       "      <td>3.720150</td>\n",
       "      <td>3.181296</td>\n",
       "      <td>3.295934</td>\n",
       "      <td>3.649073</td>\n",
       "      <td>3.618476</td>\n",
       "    </tr>\n",
       "  </tbody>\n",
       "</table>\n",
       "</div>"
      ],
      "text/plain": [
       "     user  movie      GAvg  sur1  ...  knn_bsl_u  knn_bsl_m       svd     svdpp\n",
       "0  174683     10  3.587581   5.0  ...   4.984495   4.884782  4.073348  3.884115\n",
       "1  233949     10  3.587581   4.0  ...   3.181296   3.295934  3.649073  3.618476\n",
       "\n",
       "[2 rows x 21 columns]"
      ]
     },
     "execution_count": 80,
     "metadata": {
      "tags": []
     },
     "output_type": "execute_result"
    }
   ],
   "source": [
    "# add the predicted values from both knns to this dataframe\n",
    "reg_train_new['svd'] = models_evaluation_train['svd']['predictions']\n",
    "reg_train_new['svdpp'] = models_evaluation_train['svdpp']['predictions']\n",
    "\n",
    "reg_train_new.head(2) "
   ]
  },
  {
   "cell_type": "markdown",
   "metadata": {
    "colab_type": "text",
    "id": "Dl1fjD0sZVvl"
   },
   "source": [
    "__Preparing Test data  __"
   ]
  },
  {
   "cell_type": "code",
   "execution_count": 81,
   "metadata": {
    "colab": {
     "base_uri": "https://localhost:8080/",
     "height": 85
    },
    "colab_type": "code",
    "executionInfo": {
     "elapsed": 1645,
     "status": "ok",
     "timestamp": 1575624250031,
     "user": {
      "displayName": "Bharat Kumar",
      "photoUrl": "",
      "userId": "11978287233199522831"
     },
     "user_tz": -330
    },
    "id": "1Ifq6nc-ZXPl",
    "outputId": "aef11da7-b61a-4990-f3cf-5882bc7c8144"
   },
   "outputs": [
    {
     "data": {
      "text/plain": [
       "{'mape': 34.86051459384974,\n",
       " 'predictions': array([3.58758136, 3.58758136, 3.58758136, ..., 3.58758136, 3.58758136,\n",
       "        3.58758136]),\n",
       " 'rmse': 1.0864183392580073}"
      ]
     },
     "execution_count": 81,
     "metadata": {
      "tags": []
     },
     "output_type": "execute_result"
    }
   ],
   "source": [
    "models_evaluation_test['svd']"
   ]
  },
  {
   "cell_type": "code",
   "execution_count": 82,
   "metadata": {
    "colab": {
     "base_uri": "https://localhost:8080/",
     "height": 85
    },
    "colab_type": "code",
    "executionInfo": {
     "elapsed": 1627,
     "status": "ok",
     "timestamp": 1575624250034,
     "user": {
      "displayName": "Bharat Kumar",
      "photoUrl": "",
      "userId": "11978287233199522831"
     },
     "user_tz": -330
    },
    "id": "8Do62iQ7Zeo3",
    "outputId": "1a028773-6ff0-410c-844c-99e00884d08b"
   },
   "outputs": [
    {
     "data": {
      "text/plain": [
       "{'mape': 34.82076787455494,\n",
       " 'predictions': array([3.58758136, 3.58758136, 3.58758136, ..., 3.58758136, 3.58758136,\n",
       "        3.58758136]),\n",
       " 'rmse': 1.0868790316621306}"
      ]
     },
     "execution_count": 82,
     "metadata": {
      "tags": []
     },
     "output_type": "execute_result"
    }
   ],
   "source": [
    "models_evaluation_test['svdpp']"
   ]
  },
  {
   "cell_type": "code",
   "execution_count": 83,
   "metadata": {
    "colab": {
     "base_uri": "https://localhost:8080/",
     "height": 131
    },
    "colab_type": "code",
    "executionInfo": {
     "elapsed": 1609,
     "status": "ok",
     "timestamp": 1575624250037,
     "user": {
      "displayName": "Bharat Kumar",
      "photoUrl": "",
      "userId": "11978287233199522831"
     },
     "user_tz": -330
    },
    "id": "dlbGJ12UZkF9",
    "outputId": "f6d18180-3281-4579-9b2e-bd773b4a4fd8"
   },
   "outputs": [
    {
     "data": {
      "text/html": [
       "<div>\n",
       "<style scoped>\n",
       "    .dataframe tbody tr th:only-of-type {\n",
       "        vertical-align: middle;\n",
       "    }\n",
       "\n",
       "    .dataframe tbody tr th {\n",
       "        vertical-align: top;\n",
       "    }\n",
       "\n",
       "    .dataframe thead th {\n",
       "        text-align: right;\n",
       "    }\n",
       "</style>\n",
       "<table border=\"1\" class=\"dataframe\">\n",
       "  <thead>\n",
       "    <tr style=\"text-align: right;\">\n",
       "      <th></th>\n",
       "      <th>user</th>\n",
       "      <th>movie</th>\n",
       "      <th>GAvg</th>\n",
       "      <th>sur1</th>\n",
       "      <th>sur2</th>\n",
       "      <th>sur3</th>\n",
       "      <th>sur4</th>\n",
       "      <th>sur5</th>\n",
       "      <th>smr1</th>\n",
       "      <th>smr2</th>\n",
       "      <th>smr3</th>\n",
       "      <th>smr4</th>\n",
       "      <th>smr5</th>\n",
       "      <th>UAvg</th>\n",
       "      <th>MAvg</th>\n",
       "      <th>rating</th>\n",
       "      <th>bslpr</th>\n",
       "      <th>knn_bsl_u</th>\n",
       "      <th>knn_bsl_m</th>\n",
       "      <th>svd</th>\n",
       "      <th>svdpp</th>\n",
       "    </tr>\n",
       "  </thead>\n",
       "  <tbody>\n",
       "    <tr>\n",
       "      <th>0</th>\n",
       "      <td>1129620</td>\n",
       "      <td>2</td>\n",
       "      <td>3.587581</td>\n",
       "      <td>3.587581</td>\n",
       "      <td>3.587581</td>\n",
       "      <td>3.587581</td>\n",
       "      <td>3.587581</td>\n",
       "      <td>3.587581</td>\n",
       "      <td>3.587581</td>\n",
       "      <td>3.587581</td>\n",
       "      <td>3.587581</td>\n",
       "      <td>3.587581</td>\n",
       "      <td>3.587581</td>\n",
       "      <td>3.587581</td>\n",
       "      <td>3.587581</td>\n",
       "      <td>3</td>\n",
       "      <td>3.587581</td>\n",
       "      <td>3.587581</td>\n",
       "      <td>3.587581</td>\n",
       "      <td>3.587581</td>\n",
       "      <td>3.587581</td>\n",
       "    </tr>\n",
       "    <tr>\n",
       "      <th>1</th>\n",
       "      <td>779046</td>\n",
       "      <td>71</td>\n",
       "      <td>3.587581</td>\n",
       "      <td>3.587581</td>\n",
       "      <td>3.587581</td>\n",
       "      <td>3.587581</td>\n",
       "      <td>3.587581</td>\n",
       "      <td>3.587581</td>\n",
       "      <td>3.587581</td>\n",
       "      <td>3.587581</td>\n",
       "      <td>3.587581</td>\n",
       "      <td>3.587581</td>\n",
       "      <td>3.587581</td>\n",
       "      <td>3.587581</td>\n",
       "      <td>3.587581</td>\n",
       "      <td>5</td>\n",
       "      <td>3.587581</td>\n",
       "      <td>3.587581</td>\n",
       "      <td>3.587581</td>\n",
       "      <td>3.587581</td>\n",
       "      <td>3.587581</td>\n",
       "    </tr>\n",
       "  </tbody>\n",
       "</table>\n",
       "</div>"
      ],
      "text/plain": [
       "      user  movie      GAvg      sur1  ...  knn_bsl_u  knn_bsl_m       svd     svdpp\n",
       "0  1129620      2  3.587581  3.587581  ...   3.587581   3.587581  3.587581  3.587581\n",
       "1   779046     71  3.587581  3.587581  ...   3.587581   3.587581  3.587581  3.587581\n",
       "\n",
       "[2 rows x 21 columns]"
      ]
     },
     "execution_count": 83,
     "metadata": {
      "tags": []
     },
     "output_type": "execute_result"
    }
   ],
   "source": [
    "# add the predicted values from both knns to this dataframe\n",
    "reg_test_new['svd'] = models_evaluation_test['svd']['predictions']\n",
    "reg_test_new['svdpp'] = models_evaluation_test['svdpp']['predictions']\n",
    "\n",
    "reg_test_new.head(2) "
   ]
  },
  {
   "cell_type": "code",
   "execution_count": 0,
   "metadata": {
    "colab": {},
    "colab_type": "code",
    "id": "MQZ28qBYZE9P"
   },
   "outputs": [],
   "source": [
    "# prepare x_train and y_train\n",
    "x_train = reg_train_new.drop(['user', 'movie', 'rating',], axis=1)\n",
    "y_train = reg_train_new['rating']\n",
    "\n",
    "# prepare test data\n",
    "x_test = reg_test_new.drop(['user', 'movie', 'rating'], axis=1)\n",
    "y_test = reg_test_new['rating']"
   ]
  },
  {
   "cell_type": "code",
   "execution_count": 85,
   "metadata": {
    "colab": {
     "base_uri": "https://localhost:8080/",
     "height": 564
    },
    "colab_type": "code",
    "executionInfo": {
     "elapsed": 142362,
     "status": "ok",
     "timestamp": 1575624390833,
     "user": {
      "displayName": "Bharat Kumar",
      "photoUrl": "",
      "userId": "11978287233199522831"
     },
     "user_tz": -330
    },
    "id": "L18s6HBXZ58l",
    "outputId": "14c80a92-116c-4c6b-d30d-f8a79c351be8"
   },
   "outputs": [
    {
     "name": "stderr",
     "output_type": "stream",
     "text": [
      "/usr/local/lib/python3.6/dist-packages/sklearn/model_selection/_split.py:1978: FutureWarning: The default value of cv will change from 3 to 5 in version 0.22. Specify it explicitly to silence this warning.\n",
      "  warnings.warn(CV_WARNING, FutureWarning)\n",
      "/usr/local/lib/python3.6/dist-packages/xgboost/core.py:587: FutureWarning: Series.base is deprecated and will be removed in a future version\n",
      "  if getattr(data, 'base', None) is not None and \\\n",
      "/usr/local/lib/python3.6/dist-packages/xgboost/core.py:588: FutureWarning: Series.base is deprecated and will be removed in a future version\n",
      "  data.base is not None and isinstance(data, np.ndarray) \\\n"
     ]
    },
    {
     "name": "stdout",
     "output_type": "stream",
     "text": [
      "[09:26:00] WARNING: /workspace/src/objective/regression_obj.cu:152: reg:linear is now deprecated in favor of reg:squarederror.\n"
     ]
    },
    {
     "data": {
      "text/plain": [
       "RandomizedSearchCV(cv='warn', error_score='raise-deprecating',\n",
       "                   estimator=XGBRegressor(base_score=0.5, booster='gbtree',\n",
       "                                          colsample_bylevel=1,\n",
       "                                          colsample_bynode=1,\n",
       "                                          colsample_bytree=1, gamma=0,\n",
       "                                          importance_type='gain',\n",
       "                                          learning_rate=0.1, max_delta_step=0,\n",
       "                                          max_depth=3, min_child_weight=1,\n",
       "                                          missing=None, n_estimators=100,\n",
       "                                          n_jobs=-1, nthread=4,\n",
       "                                          objective='reg:linear',\n",
       "                                          random...\n",
       "                   iid='warn', n_iter=10, n_jobs=-1,\n",
       "                   param_distributions={'colsample_bytree': [0.6, 0.8],\n",
       "                                        'gamma': [0, 0.1],\n",
       "                                        'learning_rate': [0.01, 0.1],\n",
       "                                        'max_depth': [2, 3, 4],\n",
       "                                        'min_child_weight': [3, 5],\n",
       "                                        'n_estimators': [50, 100, 150],\n",
       "                                        'reg_alpha': [0.005, 0.01],\n",
       "                                        'reg_lambda': [0.005, 0.01],\n",
       "                                        'sub_sample': [0.6, 0.8]},\n",
       "                   pre_dispatch='2*n_jobs', random_state=None, refit=True,\n",
       "                   return_train_score=True, scoring='r2', verbose=0)"
      ]
     },
     "execution_count": 85,
     "metadata": {
      "tags": []
     },
     "output_type": "execute_result"
    }
   ],
   "source": [
    "# Hyper param tuning.\n",
    "parameters = {'learning_rate':   [0.01, 0.1], # 2 components\n",
    "              'n_estimators':    [50, 100, 150], # 3 components\n",
    "              'max_depth':       [2,3,4], # 3 components\n",
    "              'min_child_weight':[3, 5], # 2 components\n",
    "              'sub_sample':      [0.6, 0.8], # 2 components\n",
    "              'colsample_bytree':[0.6, 0.8], # 2 components\n",
    "              'gamma':           [0, 0.1], # 2 components\n",
    "              'reg_alpha':       [0.005, 0.01], # 2 components\n",
    "              'reg_lambda':      [0.005, 0.01]} # 2 components\n",
    "\n",
    "# total of 768 combinations used for randomized search\n",
    "rscv = RandomizedSearchCV(estimator = xgb.XGBRegressor(nthread=4, n_jobs=-1), param_distributions= parameters, n_jobs= -1, \n",
    "                          return_train_score=True, scoring = 'r2')\n",
    "rscv.fit(x_train, y_train)"
   ]
  },
  {
   "cell_type": "code",
   "execution_count": 86,
   "metadata": {
    "colab": {
     "base_uri": "https://localhost:8080/",
     "height": 187
    },
    "colab_type": "code",
    "executionInfo": {
     "elapsed": 142344,
     "status": "ok",
     "timestamp": 1575624390840,
     "user": {
      "displayName": "Bharat Kumar",
      "photoUrl": "",
      "userId": "11978287233199522831"
     },
     "user_tz": -330
    },
    "id": "bKBjjji4Z-Ph",
    "outputId": "f12bd7c5-bfd9-4ea8-b641-735825e41f54"
   },
   "outputs": [
    {
     "name": "stdout",
     "output_type": "stream",
     "text": [
      "Best parameters: \n",
      " XGBRegressor(base_score=0.5, booster='gbtree', colsample_bylevel=1,\n",
      "             colsample_bynode=1, colsample_bytree=0.8, gamma=0,\n",
      "             importance_type='gain', learning_rate=0.1, max_delta_step=0,\n",
      "             max_depth=3, min_child_weight=3, missing=None, n_estimators=100,\n",
      "             n_jobs=-1, nthread=4, objective='reg:linear', random_state=0,\n",
      "             reg_alpha=0.005, reg_lambda=0.01, scale_pos_weight=1, seed=None,\n",
      "             silent=None, sub_sample=0.6, subsample=1, verbosity=1)\n",
      "\n",
      "neg_mean_absolute_error: 0.00215082649735443\n"
     ]
    }
   ],
   "source": [
    "print('Best parameters: \\n', rscv.best_estimator_)\n",
    "print()\n",
    "print('neg_mean_absolute_error:', rscv.score(x_test, y_test))"
   ]
  },
  {
   "cell_type": "code",
   "execution_count": 87,
   "metadata": {
    "colab": {
     "base_uri": "https://localhost:8080/",
     "height": 584
    },
    "colab_type": "code",
    "executionInfo": {
     "elapsed": 29589,
     "status": "ok",
     "timestamp": 1575624447923,
     "user": {
      "displayName": "Bharat Kumar",
      "photoUrl": "",
      "userId": "11978287233199522831"
     },
     "user_tz": -330
    },
    "id": "7VJH19wMaFL7",
    "outputId": "fad530ab-1686-4c35-8f06-bd6bf6a7afbb"
   },
   "outputs": [
    {
     "name": "stdout",
     "output_type": "stream",
     "text": [
      "Training the model..\n"
     ]
    },
    {
     "name": "stderr",
     "output_type": "stream",
     "text": [
      "/usr/local/lib/python3.6/dist-packages/xgboost/core.py:587: FutureWarning: Series.base is deprecated and will be removed in a future version\n",
      "  if getattr(data, 'base', None) is not None and \\\n",
      "/usr/local/lib/python3.6/dist-packages/xgboost/core.py:588: FutureWarning: Series.base is deprecated and will be removed in a future version\n",
      "  data.base is not None and isinstance(data, np.ndarray) \\\n"
     ]
    },
    {
     "name": "stdout",
     "output_type": "stream",
     "text": [
      "[09:26:55] WARNING: /workspace/src/objective/regression_obj.cu:152: reg:linear is now deprecated in favor of reg:squarederror.\n",
      "Done. Time taken : 0:00:22.721396\n",
      "\n",
      "Done \n",
      "\n",
      "Evaluating the model with TRAIN data...\n",
      "Evaluating Test data\n",
      "\n",
      "TEST DATA\n",
      "------------------------------\n",
      "RMSE :  1.0933214635262558\n",
      "MAPE :  34.76531616343575\n"
     ]
    },
    {
     "data": {
      "image/png": "[encoded data removed]",
      "text/plain": [
       "<Figure size 432x288 with 1 Axes>"
      ]
     },
     "metadata": {
      "tags": []
     },
     "output_type": "display_data"
    }
   ],
   "source": [
    "xgb_final = xgb.XGBRegressor(base_score=0.5, booster='gbtree', colsample_bylevel=1,\n",
    "             colsample_bynode=1, colsample_bytree=0.8, gamma=0,\n",
    "             importance_type='gain', learning_rate=0.1, max_delta_step=0,\n",
    "             max_depth=3, min_child_weight=3, missing=None, n_estimators=100,\n",
    "             n_jobs=-1, nthread=4, objective='reg:linear', random_state=0,\n",
    "             reg_alpha=0.005, reg_lambda=0.01, scale_pos_weight=1, seed=None,\n",
    "             silent=None, sub_sample=0.6, subsample=1, verbosity=1)\n",
    "train_results, test_results = run_xgboost(xgb_final, x_train, y_train, x_test, y_test)\n",
    "\n",
    "# store the results in models_evaluations dictionaries\n",
    "models_evaluation_train['xgb_final'] = train_results\n",
    "models_evaluation_test['xgb_final'] = test_results\n",
    "\n",
    "xgb.plot_importance(xgb_final)\n",
    "plt.show()"
   ]
  },
  {
   "cell_type": "markdown",
   "metadata": {
    "colab_type": "text",
    "id": "6j3n5swfinOP"
   },
   "source": [
    "<h3> 4.4.8 XgBoost with Surprise Baseline + Surprise KNNbaseline + MF Techniques </h3>"
   ]
  },
  {
   "cell_type": "code",
   "execution_count": 0,
   "metadata": {
    "colab": {},
    "colab_type": "code",
    "id": "RxbWNXRFio0L"
   },
   "outputs": [],
   "source": [
    "# prepare train data\n",
    "x_train = reg_train_new[['knn_bsl_u', 'knn_bsl_m', 'svd', 'svdpp']]\n",
    "y_train = reg_train_new['rating']\n",
    "\n",
    "# test data\n",
    "x_test = reg_test_new[['knn_bsl_u', 'knn_bsl_m', 'svd', 'svdpp']]\n",
    "y_test = reg_test_new['rating']"
   ]
  },
  {
   "cell_type": "code",
   "execution_count": 90,
   "metadata": {
    "colab": {
     "base_uri": "https://localhost:8080/",
     "height": 564
    },
    "colab_type": "code",
    "executionInfo": {
     "elapsed": 107591,
     "status": "ok",
     "timestamp": 1575624714573,
     "user": {
      "displayName": "Bharat Kumar",
      "photoUrl": "",
      "userId": "11978287233199522831"
     },
     "user_tz": -330
    },
    "id": "A-e3lJwvisFv",
    "outputId": "e042613c-877d-4441-c979-9bf81513b865"
   },
   "outputs": [
    {
     "name": "stderr",
     "output_type": "stream",
     "text": [
      "/usr/local/lib/python3.6/dist-packages/sklearn/model_selection/_split.py:1978: FutureWarning: The default value of cv will change from 3 to 5 in version 0.22. Specify it explicitly to silence this warning.\n",
      "  warnings.warn(CV_WARNING, FutureWarning)\n",
      "/usr/local/lib/python3.6/dist-packages/xgboost/core.py:587: FutureWarning: Series.base is deprecated and will be removed in a future version\n",
      "  if getattr(data, 'base', None) is not None and \\\n",
      "/usr/local/lib/python3.6/dist-packages/xgboost/core.py:588: FutureWarning: Series.base is deprecated and will be removed in a future version\n",
      "  data.base is not None and isinstance(data, np.ndarray) \\\n"
     ]
    },
    {
     "name": "stdout",
     "output_type": "stream",
     "text": [
      "[09:31:43] WARNING: /workspace/src/objective/regression_obj.cu:152: reg:linear is now deprecated in favor of reg:squarederror.\n"
     ]
    },
    {
     "data": {
      "text/plain": [
       "RandomizedSearchCV(cv='warn', error_score='raise-deprecating',\n",
       "                   estimator=XGBRegressor(base_score=0.5, booster='gbtree',\n",
       "                                          colsample_bylevel=1,\n",
       "                                          colsample_bynode=1,\n",
       "                                          colsample_bytree=1, gamma=0,\n",
       "                                          importance_type='gain',\n",
       "                                          learning_rate=0.1, max_delta_step=0,\n",
       "                                          max_depth=3, min_child_weight=1,\n",
       "                                          missing=None, n_estimators=100,\n",
       "                                          n_jobs=-1, nthread=4,\n",
       "                                          objective='reg:linear',\n",
       "                                          random...\n",
       "                   iid='warn', n_iter=10, n_jobs=-1,\n",
       "                   param_distributions={'colsample_bytree': [0.6, 0.8],\n",
       "                                        'gamma': [0, 0.1],\n",
       "                                        'learning_rate': [0.01, 0.1],\n",
       "                                        'max_depth': [2, 3, 4],\n",
       "                                        'min_child_weight': [3, 5],\n",
       "                                        'n_estimators': [50, 100, 150],\n",
       "                                        'reg_alpha': [0.005, 0.01],\n",
       "                                        'reg_lambda': [0.005, 0.01],\n",
       "                                        'sub_sample': [0.6, 0.8]},\n",
       "                   pre_dispatch='2*n_jobs', random_state=None, refit=True,\n",
       "                   return_train_score=True, scoring='r2', verbose=0)"
      ]
     },
     "execution_count": 90,
     "metadata": {
      "tags": []
     },
     "output_type": "execute_result"
    }
   ],
   "source": [
    "# Hyper param tuning.\n",
    "parameters = {'learning_rate':   [0.01, 0.1], # 2 components\n",
    "              'n_estimators':    [50, 100, 150], # 3 components\n",
    "              'max_depth':       [2,3,4], # 3 components\n",
    "              'min_child_weight':[3, 5], # 2 components\n",
    "              'sub_sample':      [0.6, 0.8], # 2 components\n",
    "              'colsample_bytree':[0.6, 0.8], # 2 components\n",
    "              'gamma':           [0, 0.1], # 2 components\n",
    "              'reg_alpha':       [0.005, 0.01], # 2 components\n",
    "              'reg_lambda':      [0.005, 0.01]} # 2 components\n",
    "\n",
    "# total of 768 combinations used for randomized search\n",
    "rscv = RandomizedSearchCV(estimator = xgb.XGBRegressor(nthread=4, n_jobs=-1), param_distributions= parameters, n_jobs= -1, \n",
    "                          return_train_score=True, scoring = 'r2')\n",
    "rscv.fit(x_train, y_train)"
   ]
  },
  {
   "cell_type": "code",
   "execution_count": 91,
   "metadata": {
    "colab": {
     "base_uri": "https://localhost:8080/",
     "height": 187
    },
    "colab_type": "code",
    "executionInfo": {
     "elapsed": 89892,
     "status": "ok",
     "timestamp": 1575624714605,
     "user": {
      "displayName": "Bharat Kumar",
      "photoUrl": "",
      "userId": "11978287233199522831"
     },
     "user_tz": -330
    },
    "id": "5-PFZOk2i4x8",
    "outputId": "a88ecfd2-b093-406b-fc12-dbb0a88cdadf"
   },
   "outputs": [
    {
     "name": "stdout",
     "output_type": "stream",
     "text": [
      "Best parameters: \n",
      " XGBRegressor(base_score=0.5, booster='gbtree', colsample_bylevel=1,\n",
      "             colsample_bynode=1, colsample_bytree=0.8, gamma=0.1,\n",
      "             importance_type='gain', learning_rate=0.1, max_delta_step=0,\n",
      "             max_depth=2, min_child_weight=5, missing=None, n_estimators=50,\n",
      "             n_jobs=-1, nthread=4, objective='reg:linear', random_state=0,\n",
      "             reg_alpha=0.01, reg_lambda=0.01, scale_pos_weight=1, seed=None,\n",
      "             silent=None, sub_sample=0.8, subsample=1, verbosity=1)\n",
      "\n",
      "neg_mean_absolute_error: -0.003171467865579425\n"
     ]
    }
   ],
   "source": [
    "print('Best parameters: \\n', rscv.best_estimator_)\n",
    "print()\n",
    "print('neg_mean_absolute_error:', rscv.score(x_test, y_test))"
   ]
  },
  {
   "cell_type": "code",
   "execution_count": 92,
   "metadata": {
    "colab": {
     "base_uri": "https://localhost:8080/",
     "height": 584
    },
    "colab_type": "code",
    "executionInfo": {
     "elapsed": 11933,
     "status": "ok",
     "timestamp": 1575624781591,
     "user": {
      "displayName": "Bharat Kumar",
      "photoUrl": "",
      "userId": "11978287233199522831"
     },
     "user_tz": -330
    },
    "id": "hPGqhekWi9Jh",
    "outputId": "ad8896f9-5d33-4c0e-e768-1fd32e8bd67b"
   },
   "outputs": [
    {
     "name": "stdout",
     "output_type": "stream",
     "text": [
      "Training the model..\n"
     ]
    },
    {
     "name": "stderr",
     "output_type": "stream",
     "text": [
      "/usr/local/lib/python3.6/dist-packages/xgboost/core.py:587: FutureWarning: Series.base is deprecated and will be removed in a future version\n",
      "  if getattr(data, 'base', None) is not None and \\\n",
      "/usr/local/lib/python3.6/dist-packages/xgboost/core.py:588: FutureWarning: Series.base is deprecated and will be removed in a future version\n",
      "  data.base is not None and isinstance(data, np.ndarray) \\\n"
     ]
    },
    {
     "name": "stdout",
     "output_type": "stream",
     "text": [
      "[09:32:47] WARNING: /workspace/src/objective/regression_obj.cu:152: reg:linear is now deprecated in favor of reg:squarederror.\n",
      "Done. Time taken : 0:00:05.749484\n",
      "\n",
      "Done \n",
      "\n",
      "Evaluating the model with TRAIN data...\n",
      "Evaluating Test data\n",
      "\n",
      "TEST DATA\n",
      "------------------------------\n",
      "RMSE :  1.0962333464904743\n",
      "MAPE :  35.422529611306096\n"
     ]
    },
    {
     "data": {
      "image/png": "[encoded data removed]",
      "text/plain": [
       "<Figure size 432x288 with 1 Axes>"
      ]
     },
     "metadata": {
      "tags": []
     },
     "output_type": "display_data"
    }
   ],
   "source": [
    "xgb_all_models = xgb.XGBRegressor(base_score=0.5, booster='gbtree', colsample_bylevel=1,\n",
    "             colsample_bynode=1, colsample_bytree=0.8, gamma=0.1,\n",
    "             importance_type='gain', learning_rate=0.1, max_delta_step=0,\n",
    "             max_depth=2, min_child_weight=5, missing=None, n_estimators=50,\n",
    "             n_jobs=-1, nthread=4, objective='reg:linear', random_state=0,\n",
    "             reg_alpha=0.01, reg_lambda=0.01, scale_pos_weight=1, seed=None,\n",
    "             silent=None, sub_sample=0.8, subsample=1, verbosity=1)\n",
    "train_results, test_results = run_xgboost(xgb_all_models, x_train, y_train, x_test, y_test)\n",
    "\n",
    "# store the results in models_evaluations dictionaries\n",
    "models_evaluation_train['xgb_all_models'] = train_results\n",
    "models_evaluation_test['xgb_all_models'] = test_results\n",
    "\n",
    "xgb.plot_importance(xgb_all_models)\n",
    "plt.show()"
   ]
  },
  {
   "cell_type": "markdown",
   "metadata": {
    "colab_type": "text",
    "id": "v8cqMETSjJGz"
   },
   "source": [
    "<h2> 4.5 Comparision between all models </h2>"
   ]
  },
  {
   "cell_type": "code",
   "execution_count": 94,
   "metadata": {
    "colab": {
     "base_uri": "https://localhost:8080/",
     "height": 204
    },
    "colab_type": "code",
    "executionInfo": {
     "elapsed": 1332,
     "status": "ok",
     "timestamp": 1575624847705,
     "user": {
      "displayName": "Bharat Kumar",
      "photoUrl": "",
      "userId": "11978287233199522831"
     },
     "user_tz": -330
    },
    "id": "zr-3msTwjKd1",
    "outputId": "2c03ed8b-f25d-4cac-8517-5ca8103b3c05"
   },
   "outputs": [
    {
     "data": {
      "text/plain": [
       "bsl_algo          1.0863663098706433\n",
       "svd               1.0864183392580073\n",
       "svdpp             1.0868790316621306\n",
       "knn_bsl_u         1.0868961034865674\n",
       "knn_bsl_m         1.0871254774375978\n",
       "xgb_knn_bsl       1.0881069932328495\n",
       "first_algo        1.0887173978827296\n",
       "xgb_bsl            1.092464637038003\n",
       "xgb_final         1.0933214635262558\n",
       "xgb_all_models    1.0962333464904743\n",
       "Name: rmse, dtype: object"
      ]
     },
     "execution_count": 94,
     "metadata": {
      "tags": []
     },
     "output_type": "execute_result"
    }
   ],
   "source": [
    "# Saving our TEST_RESULTS into a dataframe so that you don't have to run it again\n",
    "pd.DataFrame(models_evaluation_test).to_csv('small_sample_results.csv')\n",
    "models = pd.read_csv('small_sample_results.csv', index_col=0)\n",
    "models.loc['rmse'].sort_values()"
   ]
  }
 ],
 "metadata": {
  "accelerator": "TPU",
  "colab": {
   "machine_shape": "hm",
   "name": "Copy of Copy of Untitled1.ipynb",
   "provenance": [
    {
     "file_id": "16_TriGQ73qdgVPMws_uqMsyUY_hq7PG-",
     "timestamp": 1575626694742
    },
    {
     "file_id": "1xd_jsP4yfZgZcMTUEu4CUnaOLqHAGFh-",
     "timestamp": 1575127256706
    }
   ]
  },
  "kernelspec": {
   "display_name": "Python 3",
   "language": "python",
   "name": "python3"
  },
  "language_info": {
   "codemirror_mode": {
    "name": "ipython",
    "version": 3
   },
   "file_extension": ".py",
   "mimetype": "text/x-python",
   "name": "python",
   "nbconvert_exporter": "python",
   "pygments_lexer": "ipython3",
   "version": "3.5.3"
  }
 },
 "nbformat": 4,
 "nbformat_minor": 1
}
